{
  "nbformat": 4,
  "nbformat_minor": 0,
  "metadata": {
    "colab": {
      "provenance": [],
      "include_colab_link": true
    },
    "kernelspec": {
      "name": "python3",
      "display_name": "Python 3"
    },
    "language_info": {
      "name": "python"
    }
  },
  "cells": [
    {
      "cell_type": "markdown",
      "metadata": {
        "id": "view-in-github",
        "colab_type": "text"
      },
      "source": [
        "<a href=\"https://colab.research.google.com/github/sumitb2015/Python_Cheatsheet/blob/main/Python_Cheatsheet.ipynb\" target=\"_parent\"><img src=\"https://colab.research.google.com/assets/colab-badge.svg\" alt=\"Open In Colab\"/></a>"
      ]
    },
    {
      "cell_type": "code",
      "execution_count": null,
      "metadata": {
        "id": "yBK5Rgqi9-ft"
      },
      "outputs": [],
      "source": [
        "import pandas as pd\n",
        "import numpy as np\n",
        "import matplotlib.pyplot as plt\n",
        "import csv\n",
        "%matplotlib inline"
      ]
    },
    {
      "cell_type": "code",
      "source": [
        "%cd Practical\\ Python"
      ],
      "metadata": {
        "colab": {
          "base_uri": "https://localhost:8080/"
        },
        "id": "MOQa1Mhr-v0y",
        "outputId": "8e3d677a-e1c2-48e2-cdaf-b1d80d32813f"
      },
      "execution_count": null,
      "outputs": [
        {
          "output_type": "stream",
          "name": "stdout",
          "text": [
            "/content/Practical Python\n"
          ]
        }
      ]
    },
    {
      "cell_type": "markdown",
      "source": [
        "1. Reading a File\n",
        "To read the entire content of a file:"
      ],
      "metadata": {
        "id": "zGfD4UInJuex"
      }
    },
    {
      "cell_type": "code",
      "source": [
        "with open('example.txt', 'r') as file:\n",
        "    content = file.read()\n",
        "    print(content)"
      ],
      "metadata": {
        "colab": {
          "base_uri": "https://localhost:8080/"
        },
        "id": "vHok6t03-F7R",
        "outputId": "cfcec62b-b525-412f-9cd3-b4e0312c5eb4"
      },
      "execution_count": null,
      "outputs": [
        {
          "output_type": "stream",
          "name": "stdout",
          "text": [
            "GitHub is a web-based platform used for version control and collaboration on software projects. It utilizes Git, a distributed version control system, to allow developers to track changes in their code, collaborate with others, and manage software development projects. Here's some key information about GitHub:\n",
            "\n",
            "Version Control: GitHub provides a platform for developers to manage their code repositories using Git. Git allows developers to track changes to their code over time, revert to previous versions if needed, and collaborate with others seamlessly.\n",
            "\n",
            "Collaboration: GitHub facilitates collaboration among developers by providing features such as pull requests, which allow developers to propose changes to a project, discuss them, and integrate them into the main codebase. It also offers tools for issue tracking, project management, and code reviews.\n",
            "\n",
            "Hosting: GitHub hosts millions of code repositories, ranging from individual projects to large open-source initiatives and enterprise-level applications. Developers can create public repositories that are freely accessible, or private repositories that require permission to access.\n",
            "\n",
            "Community: GitHub has a vibrant community of developers who contribute to open-source projects, share code snippets, and collaborate on various software development initiatives. It fosters a culture of open collaboration and knowledge sharing.\n",
            "\n",
            "Integration: GitHub integrates with various development tools and services, including continuous integration (CI) platforms, code analysis tools, project management tools, and communication platforms. This integration streamlines the development process and enhances productivity.\n",
            "\n",
            "Education and Learning: GitHub provides resources and tools for learning Git and software development best practices. It offers guides, tutorials, and learning paths to help beginners get started with version control and collaborative development.\n",
            "\n",
            "Enterprise Solutions: GitHub offers enterprise solutions tailored for organizations with specific security, compliance, and collaboration requirements. These solutions include features such as SAML single sign-on, access controls, and auditing capabilities.\n",
            "\n",
            "Overall, GitHub has become a central platform for software development, enabling developers to collaborate, build, and share code efficiently. It has played a significant role in shaping modern software development practices and fostering a global community of developers.\n"
          ]
        }
      ]
    },
    {
      "cell_type": "markdown",
      "source": [
        "2. Writing to a File\n",
        "To write text to a file, overwriting existing content:"
      ],
      "metadata": {
        "id": "s57Laq6fJxBZ"
      }
    },
    {
      "cell_type": "code",
      "source": [
        "with open('example.txt', 'w') as file:\n",
        "    file.write('Hello, Python!')"
      ],
      "metadata": {
        "id": "CnTzqIkI-G05"
      },
      "execution_count": null,
      "outputs": []
    },
    {
      "cell_type": "markdown",
      "source": [
        "3. Appending to a File\n",
        "To add text to the end of an existing file:"
      ],
      "metadata": {
        "id": "AHS4uHKKJxiR"
      }
    },
    {
      "cell_type": "code",
      "source": [
        "with open('example.txt', 'a') as file:\n",
        "    file.write('\\nAppend this line.')"
      ],
      "metadata": {
        "id": "MiFZVAfB-HoE"
      },
      "execution_count": null,
      "outputs": []
    },
    {
      "cell_type": "markdown",
      "source": [
        "4. Reading Lines into a List\n",
        "To read a file line by line into a list:"
      ],
      "metadata": {
        "id": "fjqr2jWBJ3e1"
      }
    },
    {
      "cell_type": "code",
      "source": [
        "with open('example.txt', 'r') as file:\n",
        "    lines = file.readlines()\n",
        "    print(lines)"
      ],
      "metadata": {
        "colab": {
          "base_uri": "https://localhost:8080/"
        },
        "id": "oTqJacTs-HrR",
        "outputId": "9227cb90-b82e-4724-944f-34050a376db8"
      },
      "execution_count": null,
      "outputs": [
        {
          "output_type": "stream",
          "name": "stdout",
          "text": [
            "['Hello, Python!\\n', 'Append this line.']\n"
          ]
        }
      ]
    },
    {
      "cell_type": "markdown",
      "source": [
        "5. Iterating Over Each Line in a File\n",
        "To process each line in a file:"
      ],
      "metadata": {
        "id": "O3xOT3MoJ6eG"
      }
    },
    {
      "cell_type": "code",
      "source": [
        "with open('example.txt', 'r') as file:\n",
        "    for line in file:\n",
        "        print(line.strip())"
      ],
      "metadata": {
        "colab": {
          "base_uri": "https://localhost:8080/"
        },
        "id": "AB8B9uRF-HvG",
        "outputId": "72ff3fd6-000d-425a-a796-1006aa752e7b"
      },
      "execution_count": null,
      "outputs": [
        {
          "output_type": "stream",
          "name": "stdout",
          "text": [
            "Hello, Python!\n",
            "Append this line.\n"
          ]
        }
      ]
    },
    {
      "cell_type": "markdown",
      "source": [
        "6. Checking If a File Exists\n",
        "To check if a file exists before performing file operations:"
      ],
      "metadata": {
        "id": "SlCqLEqyJ9P9"
      }
    },
    {
      "cell_type": "code",
      "source": [
        "import os\n",
        "if os.path.exists('example.txt'):\n",
        "    print('File exists.')\n",
        "else:\n",
        "    print('File does not exist.')"
      ],
      "metadata": {
        "colab": {
          "base_uri": "https://localhost:8080/"
        },
        "id": "pPONVOXM-HyR",
        "outputId": "9514d2df-ed00-4d42-ac8a-596db3015be3"
      },
      "execution_count": null,
      "outputs": [
        {
          "output_type": "stream",
          "name": "stdout",
          "text": [
            "File exists.\n"
          ]
        }
      ]
    },
    {
      "cell_type": "markdown",
      "source": [
        "7. Writing Lists to a File\n",
        "To write each element of a list to a new line in a file:"
      ],
      "metadata": {
        "id": "06hhYffCKAHU"
      }
    },
    {
      "cell_type": "code",
      "source": [
        "lines = ['First line', 'Second line', 'Third line']\n",
        "with open('example.txt', 'w') as file:\n",
        "    for line in lines:\n",
        "        file.write(f'{line}\\n')"
      ],
      "metadata": {
        "id": "5Udai-Q5-H1E"
      },
      "execution_count": null,
      "outputs": []
    },
    {
      "cell_type": "markdown",
      "source": [
        "8. Using With Blocks for Multiple Files\n",
        "To work with multiple files simultaneously using with blocks:"
      ],
      "metadata": {
        "id": "3m46YcTeKDDm"
      }
    },
    {
      "cell_type": "code",
      "source": [
        "with open('source.txt', 'r') as source, open('destination.txt', 'w') as destination:\n",
        "    content = source.read()\n",
        "    destination.write(content)"
      ],
      "metadata": {
        "id": "adexMHTm_AAK"
      },
      "execution_count": null,
      "outputs": []
    },
    {
      "cell_type": "markdown",
      "source": [
        "9. Deleting a File\n",
        "To safely delete a file if it exists:"
      ],
      "metadata": {
        "id": "B9LL9xTRKDZD"
      }
    },
    {
      "cell_type": "code",
      "source": [
        "import os\n",
        "if os.path.exists('example.txt'):\n",
        "    os.remove('example.txt')\n",
        "    print('File deleted.')\n",
        "else:\n",
        "    print('File does not exist.')"
      ],
      "metadata": {
        "id": "HgW4e3WL_BA1"
      },
      "execution_count": null,
      "outputs": []
    },
    {
      "cell_type": "markdown",
      "source": [
        "10. Reading and Writing Binary Files\n",
        "To read from and write to a file in binary mode (useful for images, videos, etc.):"
      ],
      "metadata": {
        "id": "CfnbQo0cKIAh"
      }
    },
    {
      "cell_type": "markdown",
      "source": [
        "### Working With Simple HTTP APIs\n",
        "1. Basic GET Request\n",
        "To fetch data from an API endpoint using a GET request:\n"
      ],
      "metadata": {
        "id": "wwIzE4TbKM5l"
      }
    },
    {
      "cell_type": "code",
      "source": [
        "# Reading a binary file\n",
        "with open('image.jpg', 'rb') as file:\n",
        "    content = file.read()\n",
        "# Writing to a binary file\n",
        "with open('copy.jpg', 'wb') as file:\n",
        "    file.write(content)"
      ],
      "metadata": {
        "id": "7HwylAej_BDp"
      },
      "execution_count": null,
      "outputs": []
    },
    {
      "cell_type": "markdown",
      "source": [
        "2. GET Request with Query Parameters\n",
        "To send a GET request with query parameters:\n"
      ],
      "metadata": {
        "id": "pqLoRIr5KIa6"
      }
    },
    {
      "cell_type": "code",
      "source": [
        "import requests\n",
        "response = requests.get('https://api.example.com/data')\n",
        "data = response.json()  # Assuming the response is JSON\n",
        "print(data)"
      ],
      "metadata": {
        "id": "zewgD8hH_BGg"
      },
      "execution_count": null,
      "outputs": []
    },
    {
      "cell_type": "code",
      "source": [
        "import requests\n",
        "params = {'key1': 'value1', 'key2': 'value2'}\n",
        "response = requests.get('https://api.example.com/search', params=params)\n",
        "data = response.json()\n",
        "print(data)"
      ],
      "metadata": {
        "id": "ETY_vnfn_BIx"
      },
      "execution_count": null,
      "outputs": []
    },
    {
      "cell_type": "markdown",
      "source": [
        "3. Handling HTTP Errors\n",
        "To handle possible HTTP errors gracefully:"
      ],
      "metadata": {
        "id": "qvIdIT05KdFS"
      }
    },
    {
      "cell_type": "code",
      "source": [
        "import requests\n",
        "response = requests.get('https://api.example.com/data')\n",
        "try:\n",
        "    response.raise_for_status()  # Raises an HTTPError if the status is 4xx, 5xx\n",
        "    data = response.json()\n",
        "    print(data)\n",
        "except requests.exceptions.HTTPError as err:\n",
        "    print(f'HTTP Error: {err}')"
      ],
      "metadata": {
        "id": "E_5NrG9G_BMH"
      },
      "execution_count": null,
      "outputs": []
    },
    {
      "cell_type": "markdown",
      "source": [
        "4. Setting Timeout for Requests\n",
        "To set a timeout for API requests to avoid hanging indefinitely:"
      ],
      "metadata": {
        "id": "tPgx_kbpKf4O"
      }
    },
    {
      "cell_type": "code",
      "source": [
        "import requests\n",
        "try:\n",
        "    response = requests.get('https://api.example.com/data', timeout=5)  # Timeout in seconds\n",
        "    data = response.json()\n",
        "    print(data)\n",
        "except requests.exceptions.Timeout:\n",
        "    print('The request timed out')"
      ],
      "metadata": {
        "id": "YcpQJPlr_BOC"
      },
      "execution_count": null,
      "outputs": []
    },
    {
      "cell_type": "markdown",
      "source": [
        "5. Using Headers in Requests\n",
        "To include headers in your request (e.g., for authorization):"
      ],
      "metadata": {
        "id": "Z8myBdn6Kucv"
      }
    },
    {
      "cell_type": "code",
      "source": [
        "import requests\n",
        "headers = {'Authorization': 'Bearer YOUR_ACCESS_TOKEN'}\n",
        "response = requests.get('https://api.example.com/protected', headers=headers)\n",
        "data = response.json()\n",
        "print(data)"
      ],
      "metadata": {
        "id": "yatGNGo8_BQU"
      },
      "execution_count": null,
      "outputs": []
    },
    {
      "cell_type": "markdown",
      "source": [
        "6. POST Request with JSON Payload\n",
        "To send data to an API endpoint using a POST request with a JSON payload:"
      ],
      "metadata": {
        "id": "N_EJQ7uRKwIf"
      }
    },
    {
      "cell_type": "code",
      "source": [
        "import requests\n",
        "payload = {'key1': 'value1', 'key2': 'value2'}\n",
        "headers = {'Content-Type': 'application/json'}\n",
        "response = requests.post('https://api.example.com/submit', json=payload, headers=headers)\n",
        "print(response.json())"
      ],
      "metadata": {
        "id": "gtzUDKwx_BTH"
      },
      "execution_count": null,
      "outputs": []
    },
    {
      "cell_type": "markdown",
      "source": [
        "7. Handling Response Encoding\n",
        "To handle the response encoding properly:"
      ],
      "metadata": {
        "id": "7ZPdCfY0K0uw"
      }
    },
    {
      "cell_type": "code",
      "source": [
        "import requests\n",
        "response = requests.get('https://api.example.com/data')\n",
        "response.encoding = 'utf-8'  # Set encoding to match the expected response format\n",
        "data = response.text\n",
        "print(data)"
      ],
      "metadata": {
        "id": "gHqfneC-_BVo"
      },
      "execution_count": null,
      "outputs": []
    },
    {
      "cell_type": "markdown",
      "source": [
        "8. Using Sessions with Requests\n",
        "To use a session object for making multiple requests to the same host, which can improve performance:"
      ],
      "metadata": {
        "id": "nd5iyo8JK11g"
      }
    },
    {
      "cell_type": "code",
      "source": [
        "import requests\n",
        "with requests.Session() as session:\n",
        "    session.headers.update({'Authorization': 'Bearer YOUR_ACCESS_TOKEN'})\n",
        "    response = session.get('https://api.example.com/data')\n",
        "    print(response.json())"
      ],
      "metadata": {
        "id": "xRnj_7x9_BYa"
      },
      "execution_count": null,
      "outputs": []
    },
    {
      "cell_type": "markdown",
      "source": [
        "9. Handling Redirects\n",
        "To handle or disable redirects in requests:"
      ],
      "metadata": {
        "id": "vCPiII06K3vE"
      }
    },
    {
      "cell_type": "code",
      "source": [
        "import requests\n",
        "response = requests.get('https://api.example.com/data', allow_redirects=False)\n",
        "print(response.status_code)"
      ],
      "metadata": {
        "id": "DNvh0e2u_-nE"
      },
      "execution_count": null,
      "outputs": []
    },
    {
      "cell_type": "markdown",
      "source": [
        "10. Streaming Large Responses\n",
        "To stream a large response to process it in chunks, rather than loading it all into memory:"
      ],
      "metadata": {
        "id": "S5EhioBhK6vX"
      }
    },
    {
      "cell_type": "code",
      "source": [
        "import requests\n",
        "response = requests.get('https://api.example.com/large-data', stream=True)\n",
        "for chunk in response.iter_content(chunk_size=1024):\n",
        "    process(chunk)  # Replace 'process' with your actual processing function"
      ],
      "metadata": {
        "id": "6wj1GQIz_-kc"
      },
      "execution_count": null,
      "outputs": []
    },
    {
      "cell_type": "markdown",
      "source": [
        "## Working With Lists\n",
        "1. Creating a List\n",
        "To conjure a list into being:"
      ],
      "metadata": {
        "id": "WpQ8KB5lK9pW"
      }
    },
    {
      "cell_type": "code",
      "source": [
        "# A list of mystical elements\n",
        "elements = ['Earth', 'Air', 'Fire', 'Water']"
      ],
      "metadata": {
        "id": "owKFStCA_-hz"
      },
      "execution_count": null,
      "outputs": []
    },
    {
      "cell_type": "markdown",
      "source": [
        "2. Appending to a List\n",
        "To append a new element to the end of a list:"
      ],
      "metadata": {
        "id": "qGIi2YitLAhk"
      }
    },
    {
      "cell_type": "code",
      "source": [
        "elements.append('Aether')"
      ],
      "metadata": {
        "id": "rmzz4SpV_-fU"
      },
      "execution_count": null,
      "outputs": []
    },
    {
      "cell_type": "markdown",
      "source": [
        "3. Inserting into a List\n",
        "To insert an element at a specific position in the list:"
      ],
      "metadata": {
        "id": "89t0ReChLBrC"
      }
    },
    {
      "cell_type": "code",
      "source": [
        "# Insert 'Spirit' at index 1\n",
        "elements.insert(1, 'Spirit')"
      ],
      "metadata": {
        "id": "JCa5Yq1m_-dC"
      },
      "execution_count": null,
      "outputs": []
    },
    {
      "cell_type": "markdown",
      "source": [
        "4. Removing from a List\n",
        "To remove an element by value from the list:"
      ],
      "metadata": {
        "id": "wR6k9CxQLDfv"
      }
    },
    {
      "cell_type": "code",
      "source": [
        "elements.remove('Earth')  # Removes the first occurrence of 'Earth'"
      ],
      "metadata": {
        "id": "Wi8n1nrf_-ax"
      },
      "execution_count": null,
      "outputs": []
    },
    {
      "cell_type": "markdown",
      "source": [
        "5. Popping an Element from a List\n",
        "To remove and return an element at a given index (default is the last item):"
      ],
      "metadata": {
        "id": "zvdKCNPwLGNm"
      }
    },
    {
      "cell_type": "code",
      "source": [
        "last_element = elements.pop()  # Removes and returns the last element"
      ],
      "metadata": {
        "id": "Lqt-xaoY_-YH"
      },
      "execution_count": null,
      "outputs": []
    },
    {
      "cell_type": "markdown",
      "source": [
        "6. Finding the Index of an Element\n",
        "To find the index of the first occurrence of an element:"
      ],
      "metadata": {
        "id": "hkEiXklHLJFe"
      }
    },
    {
      "cell_type": "code",
      "source": [
        "index_of_air = elements.index('Air')"
      ],
      "metadata": {
        "id": "1mR3Qg7K_-Vp"
      },
      "execution_count": null,
      "outputs": []
    },
    {
      "cell_type": "markdown",
      "source": [
        "7. List Slicing\n",
        "To slice a list, obtaining a sub-list:"
      ],
      "metadata": {
        "id": "Ck67anR2LK_z"
      }
    },
    {
      "cell_type": "code",
      "source": [
        "# Get elements from index 1 to 3\n",
        "sub_elements = elements[1:4]"
      ],
      "metadata": {
        "id": "XfI6v3_d_-TN"
      },
      "execution_count": null,
      "outputs": []
    },
    {
      "cell_type": "markdown",
      "source": [
        "8. List Comprehension\n",
        "To create a new list by applying an expression to each element of an existing one:"
      ],
      "metadata": {
        "id": "Tx6qOhcuLNx4"
      }
    },
    {
      "cell_type": "code",
      "source": [
        "# Create a new list with lengths of each element\n",
        "lengths = [len(element) for element in elements]"
      ],
      "metadata": {
        "id": "w3VSsbog_-Qj"
      },
      "execution_count": null,
      "outputs": []
    },
    {
      "cell_type": "markdown",
      "source": [
        "9. Sorting a List\n",
        "To sort a list in ascending order (in-place):"
      ],
      "metadata": {
        "id": "6WNXUw-XLP15"
      }
    },
    {
      "cell_type": "code",
      "source": [
        "elements.sort()"
      ],
      "metadata": {
        "id": "ikPWzjtR_-ND"
      },
      "execution_count": null,
      "outputs": []
    },
    {
      "cell_type": "markdown",
      "source": [
        "10. Reversing a List\n",
        "To reverse the elements of a list in-place:"
      ],
      "metadata": {
        "id": "EaN4yoLSLTHb"
      }
    },
    {
      "cell_type": "code",
      "source": [
        "elements.reverse()"
      ],
      "metadata": {
        "id": "6gbn47njAMsp"
      },
      "execution_count": null,
      "outputs": []
    },
    {
      "cell_type": "markdown",
      "source": [
        "## Working With Dictionaries\n",
        "1. Creating a Dictionary\n",
        "To forge a new dictionary:"
      ],
      "metadata": {
        "id": "rEtjDOpgLVIG"
      }
    },
    {
      "cell_type": "code",
      "source": [
        "# A tome of elements and their symbols\n",
        "elements = {'Hydrogen': 'H', 'Helium': 'He', 'Lithium': 'Li'}"
      ],
      "metadata": {
        "id": "L3aEITOrAMqX"
      },
      "execution_count": null,
      "outputs": []
    },
    {
      "cell_type": "markdown",
      "source": [
        "2. Adding or Updating Entries\n",
        "To add a new entry or update an existing one:"
      ],
      "metadata": {
        "id": "qAv6KTwULWtK"
      }
    },
    {
      "cell_type": "code",
      "source": [
        "elements['Carbon'] = 'C'  # Adds 'Carbon' or updates its value to 'C'"
      ],
      "metadata": {
        "id": "uSDO5hQ5AMn6"
      },
      "execution_count": null,
      "outputs": []
    },
    {
      "cell_type": "markdown",
      "source": [
        "3. Removing an Entry\n",
        "To banish an entry from the dictionary:"
      ],
      "metadata": {
        "id": "J1hPwkwyLYx4"
      }
    },
    {
      "cell_type": "code",
      "source": [
        "del elements['Lithium']  # Removes the key 'Lithium' and its value"
      ],
      "metadata": {
        "id": "-e-QleaqAMlT"
      },
      "execution_count": null,
      "outputs": []
    },
    {
      "cell_type": "markdown",
      "source": [
        "4. Checking for Key Existence\n",
        "To check if a key resides within the dictionary:"
      ],
      "metadata": {
        "id": "86lE_mleLZRV"
      }
    },
    {
      "cell_type": "code",
      "source": [
        "if 'Helium' in elements:\n",
        "    print('Helium is present')"
      ],
      "metadata": {
        "id": "ZdEMSoR6AMiz"
      },
      "execution_count": null,
      "outputs": []
    },
    {
      "cell_type": "markdown",
      "source": [
        "5. Iterating Over Keys\n",
        "To iterate over the keys in the dictionary:"
      ],
      "metadata": {
        "id": "6E57wJbnLfBF"
      }
    },
    {
      "cell_type": "code",
      "source": [
        "for element in elements:\n",
        "    print(element)  # Prints each key"
      ],
      "metadata": {
        "id": "qjzPesSCAMgL"
      },
      "execution_count": null,
      "outputs": []
    },
    {
      "cell_type": "markdown",
      "source": [
        "6. Iterating Over Values\n",
        "To traverse through the values in the dictionary:"
      ],
      "metadata": {
        "id": "w75NiLISLjG0"
      }
    },
    {
      "cell_type": "code",
      "source": [
        "for symbol in elements.values():\n",
        "    print(symbol)  # Prints each value"
      ],
      "metadata": {
        "id": "f2d-TPfNAMdO"
      },
      "execution_count": null,
      "outputs": []
    },
    {
      "cell_type": "markdown",
      "source": [
        "7. Iterating Over Items\n",
        "To journey through both keys and values together:"
      ],
      "metadata": {
        "id": "9yoVqQh3LpMA"
      }
    },
    {
      "cell_type": "code",
      "source": [
        "for element, symbol in elements.items():\n",
        "    print(f'{element}: {symbol}')"
      ],
      "metadata": {
        "id": "ENlqJ3pnAMaX"
      },
      "execution_count": null,
      "outputs": []
    },
    {
      "cell_type": "markdown",
      "source": [
        "8. Dictionary Comprehension\n",
        "To conjure a new dictionary through an incantation over an iterable:"
      ],
      "metadata": {
        "id": "Vz_YZgFULrDW"
      }
    },
    {
      "cell_type": "code",
      "source": [
        "# Squares of numbers from 0 to 4\n",
        "squares = {x: x**2 for x in range(5)}"
      ],
      "metadata": {
        "id": "kaHDtXfjAaCQ"
      },
      "execution_count": null,
      "outputs": []
    },
    {
      "cell_type": "markdown",
      "source": [
        "9. Merging Dictionaries\n",
        "To merge two or more dictionaries, forming a new alliance of their entries:"
      ],
      "metadata": {
        "id": "vZH0lJKrLscp"
      }
    },
    {
      "cell_type": "code",
      "source": [
        "alchemists = {'Paracelsus': 'Mercury'}\n",
        "philosophers = {'Plato': 'Aether'}\n",
        "merged = {**alchemists, **philosophers}  # Python 3.5+"
      ],
      "metadata": {
        "id": "aXirbwJWAZ_n"
      },
      "execution_count": null,
      "outputs": []
    },
    {
      "cell_type": "markdown",
      "source": [
        "10. Getting a Value with Default\n",
        "To retrieve a value safely, providing a default for absent keys:"
      ],
      "metadata": {
        "id": "wB2b_IFMLu2G"
      }
    },
    {
      "cell_type": "code",
      "source": [
        "element = elements.get('Neon', 'Unknown')  # Returns 'Unknown' if 'Neon' is not found"
      ],
      "metadata": {
        "id": "ILvR5CEdAZ9J"
      },
      "execution_count": null,
      "outputs": []
    },
    {
      "cell_type": "markdown",
      "source": [
        "## Working With The Operating System\n",
        "1. Navigating File Paths\n",
        "To craft and dissect paths, ensuring compatibility across realms (operating systems):"
      ],
      "metadata": {
        "id": "T4zOTDiSMTij"
      }
    },
    {
      "cell_type": "code",
      "source": [
        "import os\n",
        "# Craft a path compatible with the underlying OS\n",
        "path = os.path.join('mystic', 'forest', 'artifact.txt')\n",
        "# Retrieve the tome's directory\n",
        "directory = os.path.dirname(path)\n",
        "# Unveil the artifact's name\n",
        "artifact_name = os.path.basename(path)"
      ],
      "metadata": {
        "id": "1WpHi_lsAZ6s"
      },
      "execution_count": null,
      "outputs": []
    },
    {
      "cell_type": "markdown",
      "source": [
        "2. Listing Directory Contents\n",
        "To reveal all entities within a mystical directory:"
      ],
      "metadata": {
        "id": "FI7NWS8rMWDO"
      }
    },
    {
      "cell_type": "code",
      "source": [
        "import os\n",
        "contents = os.listdir('enchanted_grove')\n",
        "print(contents)"
      ],
      "metadata": {
        "id": "ANjw-pzgAZ4D"
      },
      "execution_count": null,
      "outputs": []
    },
    {
      "cell_type": "markdown",
      "source": [
        "3. Creating Directories\n",
        "To conjure new directories within the fabric of the filesystem:"
      ],
      "metadata": {
        "id": "dv0mOvRTMXwj"
      }
    },
    {
      "cell_type": "code",
      "source": [
        "import os\n",
        "# create a single directory\n",
        "os.mkdir('alchemy_lab')\n",
        "# create a hierarchy of directories\n",
        "os.makedirs('alchemy_lab/potions/elixirs')"
      ],
      "metadata": {
        "id": "eGcq_ceaAZ1x"
      },
      "execution_count": null,
      "outputs": []
    },
    {
      "cell_type": "markdown",
      "source": [
        "4. Removing Files and Directories\n",
        "To erase files or directories, banishing their essence:"
      ],
      "metadata": {
        "id": "ZFJjnTkFMZ-O"
      }
    },
    {
      "cell_type": "code",
      "source": [
        "import os\n",
        "# remove a file\n",
        "os.remove('unnecessary_scroll.txt')\n",
        "# remove an empty directory\n",
        "os.rmdir('abandoned_hut')\n",
        "# remove a directory and its contents\n",
        "import shutil\n",
        "shutil.rmtree('cursed_cavern')"
      ],
      "metadata": {
        "id": "z4BQb2j-AZzI"
      },
      "execution_count": null,
      "outputs": []
    },
    {
      "cell_type": "markdown",
      "source": [
        "5. Executing Shell Commands\n",
        "To invoke the shell’s ancient powers directly from Python:"
      ],
      "metadata": {
        "id": "TRVNS4OeMblm"
      }
    },
    {
      "cell_type": "code",
      "source": [
        "import subprocess\n",
        "# Invoke the 'echo' incantation\n",
        "result = subprocess.run(['echo', 'Revealing the arcane'], capture_output=True, text=True)\n",
        "print(result.stdout)"
      ],
      "metadata": {
        "id": "r7eVQwpyAZwf",
        "colab": {
          "base_uri": "https://localhost:8080/"
        },
        "outputId": "f1f65387-3db5-4ab5-aad3-653e5e54953f"
      },
      "execution_count": 1,
      "outputs": [
        {
          "output_type": "stream",
          "name": "stdout",
          "text": [
            "Revealing the arcane\n",
            "\n"
          ]
        }
      ]
    },
    {
      "cell_type": "markdown",
      "source": [
        "6. Working with Environment Variables\n",
        "To read and inscribe upon the ethereal environment variables:"
      ],
      "metadata": {
        "id": "KGKToB5NMdsP"
      }
    },
    {
      "cell_type": "code",
      "source": [
        "import os\n",
        "# Read the 'PATH' variable\n",
        "path = os.environ.get('PATH')\n",
        "# Create a new environment variable\n",
        "os.environ['MAGIC'] = 'Arcane'"
      ],
      "metadata": {
        "id": "QwaOhRyFAZtV"
      },
      "execution_count": 2,
      "outputs": []
    },
    {
      "cell_type": "markdown",
      "source": [
        "7. Changing the Current Working Directory\n",
        "To shift your presence to another directory within the filesystem:"
      ],
      "metadata": {
        "id": "o0MvLod4MgGC"
      }
    },
    {
      "cell_type": "code",
      "source": [
        "import os\n",
        "# Traverse to the 'arcane_library' directory\n",
        "os.chdir('arcane_library')"
      ],
      "metadata": {
        "id": "0lorPYgsAk4D",
        "colab": {
          "base_uri": "https://localhost:8080/",
          "height": 176
        },
        "outputId": "e9ce27e3-e3e9-4465-9858-8c2ce9d96fd7"
      },
      "execution_count": 3,
      "outputs": [
        {
          "output_type": "error",
          "ename": "FileNotFoundError",
          "evalue": "[Errno 2] No such file or directory: 'arcane_library'",
          "traceback": [
            "\u001b[0;31m---------------------------------------------------------------------------\u001b[0m",
            "\u001b[0;31mFileNotFoundError\u001b[0m                         Traceback (most recent call last)",
            "\u001b[0;32m<ipython-input-3-258bb07a7c64>\u001b[0m in \u001b[0;36m<cell line: 3>\u001b[0;34m()\u001b[0m\n\u001b[1;32m      1\u001b[0m \u001b[0;32mimport\u001b[0m \u001b[0mos\u001b[0m\u001b[0;34m\u001b[0m\u001b[0;34m\u001b[0m\u001b[0m\n\u001b[1;32m      2\u001b[0m \u001b[0;31m# Traverse to the 'arcane_library' directory\u001b[0m\u001b[0;34m\u001b[0m\u001b[0;34m\u001b[0m\u001b[0m\n\u001b[0;32m----> 3\u001b[0;31m \u001b[0mos\u001b[0m\u001b[0;34m.\u001b[0m\u001b[0mchdir\u001b[0m\u001b[0;34m(\u001b[0m\u001b[0;34m'arcane_library'\u001b[0m\u001b[0;34m)\u001b[0m\u001b[0;34m\u001b[0m\u001b[0;34m\u001b[0m\u001b[0m\n\u001b[0m",
            "\u001b[0;31mFileNotFoundError\u001b[0m: [Errno 2] No such file or directory: 'arcane_library'"
          ]
        }
      ]
    },
    {
      "cell_type": "markdown",
      "source": [
        "8. Path Existence and Type\n",
        "To discern the existence of paths and their nature — be they file or directory:"
      ],
      "metadata": {
        "id": "VIJeG6IYMhy6"
      }
    },
    {
      "cell_type": "code",
      "source": [
        "import os\n",
        "# Check if a path exists\n",
        "exists = os.path.exists('mysterious_ruins')\n",
        "# Ascertain if the path is a directory\n",
        "is_directory = os.path.isdir('mysterious_ruins')\n",
        "# Determine if the path is a file\n",
        "is_file = os.path.isfile('ancient_manuscript.txt')"
      ],
      "metadata": {
        "id": "ZfAqXj9WAk1o"
      },
      "execution_count": 4,
      "outputs": []
    },
    {
      "cell_type": "markdown",
      "source": [
        "9. Working with Temporary Files\n",
        "To summon temporary files and directories, fleeting and ephemeral:"
      ],
      "metadata": {
        "id": "SO0hJRvNMjxQ"
      }
    },
    {
      "cell_type": "code",
      "source": [
        "import tempfile\n",
        "# Create a temporary file\n",
        "temp_file = tempfile.NamedTemporaryFile(delete=False)\n",
        "print(temp_file.name)\n",
        "# Erect a temporary directory\n",
        "temp_dir = tempfile.TemporaryDirectory()\n",
        "print(temp_dir.name)"
      ],
      "metadata": {
        "id": "c0YXcOC3AkzJ",
        "colab": {
          "base_uri": "https://localhost:8080/"
        },
        "outputId": "dfd78269-d877-47d2-ee27-5ce23e01c7b1"
      },
      "execution_count": 5,
      "outputs": [
        {
          "output_type": "stream",
          "name": "stdout",
          "text": [
            "/tmp/tmpgsz7uauo\n",
            "/tmp/tmppgrqd4ab\n"
          ]
        }
      ]
    },
    {
      "cell_type": "markdown",
      "source": [
        "10. Getting System Information\n",
        "To unveil information about the host system, its name, and the enchantments it supports:"
      ],
      "metadata": {
        "id": "CHUsksCgMlUN"
      }
    },
    {
      "cell_type": "code",
      "source": [
        "import os\n",
        "import platform\n",
        "# Discover the operating system\n",
        "os_name = os.name  # 'posix', 'nt', 'java'\n",
        "# Unearth detailed system information\n",
        "system_info = platform.system()  # 'Linux', 'Windows', 'Darwin'\n",
        "os_name,system_info"
      ],
      "metadata": {
        "id": "62flX03QAkuJ",
        "colab": {
          "base_uri": "https://localhost:8080/"
        },
        "outputId": "c62683b4-14db-480e-9c25-70e54ad93ad7"
      },
      "execution_count": 8,
      "outputs": [
        {
          "output_type": "execute_result",
          "data": {
            "text/plain": [
              "('posix', 'Linux')"
            ]
          },
          "metadata": {},
          "execution_count": 8
        }
      ]
    },
    {
      "cell_type": "markdown",
      "source": [
        "## Working With CLI — STDIN, STDOUT, STDERR\n",
        "1. Reading User Input\n",
        "Getting input from STDIN:"
      ],
      "metadata": {
        "id": "BaY-mbr4MnpS"
      }
    },
    {
      "cell_type": "code",
      "source": [
        "user_input = input(\"Impart your wisdom: \")\n",
        "print(f\"You shared: {user_input}\")"
      ],
      "metadata": {
        "id": "vq-lXlSNAkrx",
        "colab": {
          "base_uri": "https://localhost:8080/"
        },
        "outputId": "9c27d5cc-2d7e-4ad1-daa0-a9f927650c71"
      },
      "execution_count": 10,
      "outputs": [
        {
          "output_type": "stream",
          "name": "stdout",
          "text": [
            "Impart your wisdom: India\n",
            "You shared: India\n"
          ]
        }
      ]
    },
    {
      "cell_type": "markdown",
      "source": [
        "2. Printing to STDOUT\n",
        "To print messages to the console:"
      ],
      "metadata": {
        "id": "cQPFgNAlMrvB"
      }
    },
    {
      "cell_type": "code",
      "source": [
        "print(\"Behold, the message of the ancients!\")"
      ],
      "metadata": {
        "id": "aqx4A9DPAkpT",
        "colab": {
          "base_uri": "https://localhost:8080/"
        },
        "outputId": "2dd96cb1-fd34-4bb4-de18-11767e1a8e5a"
      },
      "execution_count": 11,
      "outputs": [
        {
          "output_type": "stream",
          "name": "stdout",
          "text": [
            "Behold, the message of the ancients!\n"
          ]
        }
      ]
    },
    {
      "cell_type": "markdown",
      "source": [
        "3. Formatted Printing\n",
        "To weave variables into your messages with grace and precision:"
      ],
      "metadata": {
        "id": "84BjdNOJMtdE"
      }
    },
    {
      "cell_type": "code",
      "source": [
        "name = \"Merlin\"\n",
        "age = 300\n",
        "print(f\"{name}, of {age} years, speaks of forgotten lore.\")"
      ],
      "metadata": {
        "id": "e2JMg3rCAkm1",
        "colab": {
          "base_uri": "https://localhost:8080/"
        },
        "outputId": "61ef284a-e17f-40f4-b093-d76209a4ec68"
      },
      "execution_count": 12,
      "outputs": [
        {
          "output_type": "stream",
          "name": "stdout",
          "text": [
            "Merlin, of 300 years, speaks of forgotten lore.\n"
          ]
        }
      ]
    },
    {
      "cell_type": "markdown",
      "source": [
        "4. Reading Lines from STDIN\n",
        "Trim whitespaces line by line from STDIN:"
      ],
      "metadata": {
        "id": "p07kij45M5O3"
      }
    },
    {
      "cell_type": "code",
      "source": [
        "import sys\n",
        "for line in sys.stdin:\n",
        "    print(f\"Echo from the void: {line.strip()}\")"
      ],
      "metadata": {
        "id": "wSDwUobaAkkY"
      },
      "execution_count": 13,
      "outputs": []
    },
    {
      "cell_type": "markdown",
      "source": [
        "5. Writing to STDERR\n",
        "To send message to STDERR:"
      ],
      "metadata": {
        "id": "WgqBJoPfM9Ek"
      }
    },
    {
      "cell_type": "code",
      "source": [
        "import sys\n",
        "sys.stderr.write(\"Beware! The path is fraught with peril.\\n\")"
      ],
      "metadata": {
        "id": "d9LMSfSMAkhv",
        "colab": {
          "base_uri": "https://localhost:8080/"
        },
        "outputId": "a9b5f0dd-d1fe-4511-df21-eba67c48cdb0"
      },
      "execution_count": 14,
      "outputs": [
        {
          "output_type": "stream",
          "name": "stderr",
          "text": [
            "Beware! The path is fraught with peril.\n"
          ]
        }
      ]
    },
    {
      "cell_type": "markdown",
      "source": [
        "6. Redirecting STDOUT\n",
        "To redirect the STDOUT:"
      ],
      "metadata": {
        "id": "5ehWKMiNM_Oi"
      }
    },
    {
      "cell_type": "code",
      "source": [
        "import sys\n",
        "original_stdout = sys.stdout  # Preserve the original STDOUT\n",
        "with open('mystic_log.txt', 'w') as f:\n",
        "    sys.stdout = f  # Redirect STDOUT to a file\n",
        "    print(\"This message is inscribed within the mystic_log.txt.\")\n",
        "sys.stdout = original_stdout  # Restore STDOUT to its original glory"
      ],
      "metadata": {
        "id": "pI6Z1-JmAkfd"
      },
      "execution_count": 15,
      "outputs": []
    },
    {
      "cell_type": "markdown",
      "source": [
        "7. Redirecting STDERR\n",
        "Redirecting STDERR:"
      ],
      "metadata": {
        "id": "DJkhj4jVNA4A"
      }
    },
    {
      "cell_type": "code",
      "source": [
        "import sys\n",
        "with open('warnings.txt', 'w') as f:\n",
        "    sys.stderr = f  # Redirect STDERR\n",
        "    print(\"This warning is sealed within warnings.txt.\", file=sys.stderr)"
      ],
      "metadata": {
        "id": "RrJ1gkNbAkc_",
        "colab": {
          "base_uri": "https://localhost:8080/"
        },
        "outputId": "2335bd8a-50d8-495c-a5cf-492091b83f66"
      },
      "execution_count": null,
      "outputs": [
        {
          "output_type": "stream",
          "name": "stderr",
          "text": [
            "ERROR:root:Internal Python error in the inspect module.\n",
            "Below is the traceback from this internal error.\n",
            "\n",
            "WARNING:root:This is a warning message\n"
          ]
        }
      ]
    },
    {
      "cell_type": "markdown",
      "source": [
        "8. Prompting for Passwords\n",
        "To prompt for passwords:"
      ],
      "metadata": {
        "id": "FjI7qo92NC7o"
      }
    },
    {
      "cell_type": "code",
      "source": [
        "import getpass\n",
        "secret_spell = getpass.getpass(\"Whisper the secret spell: \")"
      ],
      "metadata": {
        "id": "wYcSKqrfAkaW"
      },
      "execution_count": null,
      "outputs": []
    },
    {
      "cell_type": "markdown",
      "source": [
        "9. Command Line Arguments\n",
        "Working with and parsing command line arguments:"
      ],
      "metadata": {
        "id": "nCuQ_sqpNEp4"
      }
    },
    {
      "cell_type": "code",
      "source": [
        "import sys\n",
        "# The script's name is the first argument, followed by those passed by the invoker\n",
        "script, first_arg, second_arg = sys.argv\n",
        "print(f\"Invoked with the sacred tokens: {first_arg} and {second_arg}\")"
      ],
      "metadata": {
        "id": "RQOghdZrAkXL",
        "colab": {
          "base_uri": "https://localhost:8080/"
        },
        "outputId": "5c63f338-efcc-49f1-dc95-5682c0523061"
      },
      "execution_count": null,
      "outputs": [
        {
          "output_type": "stream",
          "name": "stdout",
          "text": [
            "Invoked with the sacred tokens: -f and /root/.local/share/jupyter/runtime/kernel-5b5ffaf2-5756-4a9c-8bd2-52dfedcdfcc5.json\n"
          ]
        }
      ]
    },
    {
      "cell_type": "markdown",
      "source": [
        "10. Using Argparse for Complex CLI Interactions\n",
        "Adding descriptions and options/arguments:"
      ],
      "metadata": {
        "id": "8_w-ZOSINGWs"
      }
    },
    {
      "cell_type": "code",
      "source": [
        "import argparse\n",
        "parser = argparse.ArgumentParser(description=\"Invoke the ancient scripts.\")\n",
        "parser.add_argument('spell', help=\"The spell to cast\")\n",
        "parser.add_argument('--power', type=int, help=\"The power level of the spell\")\n",
        "args = parser.parse_args()\n",
        "print(f\"Casting {args.spell} with power {args.power}\")"
      ],
      "metadata": {
        "id": "QpbzZTJKA4hX"
      },
      "execution_count": null,
      "outputs": []
    },
    {
      "cell_type": "markdown",
      "source": [
        "## Working With Mathematical Operations and Permutations\n",
        "1. Basic Arithmetic Operations\n",
        "To perform basic arithmetic:"
      ],
      "metadata": {
        "id": "94ey865eNIN3"
      }
    },
    {
      "cell_type": "code",
      "source": [
        "sum = 7 + 3  # Addition\n",
        "difference = 7 - 3  # Subtraction\n",
        "product = 7 * 3  # Multiplication\n",
        "quotient = 7 / 3  # Division\n",
        "remainder = 7 % 3  # Modulus (Remainder)\n",
        "power = 7 ** 3  # Exponentiatio"
      ],
      "metadata": {
        "id": "qiSrBgW8A4e9"
      },
      "execution_count": null,
      "outputs": []
    },
    {
      "cell_type": "markdown",
      "source": [
        "2. Working with Complex Numbers\n",
        "To work with complex numbers:"
      ],
      "metadata": {
        "id": "soR3gSWtNLq_"
      }
    },
    {
      "cell_type": "code",
      "source": [
        "z = complex(2, 3)  # Create a complex number 2 + 3j\n",
        "real_part = z.real  # Retrieve the real part\n",
        "imaginary_part = z.imag  # Retrieve the imaginary part\n",
        "conjugate = z.conjugate()  # Get the conjugate"
      ],
      "metadata": {
        "id": "PtrPo09CA4cX"
      },
      "execution_count": null,
      "outputs": []
    },
    {
      "cell_type": "markdown",
      "source": [
        "3. Mathematical Functions\n",
        "Common math functions:"
      ],
      "metadata": {
        "id": "WkWYqrPuNNNQ"
      }
    },
    {
      "cell_type": "code",
      "source": [
        "import math\n",
        "root = math.sqrt(16)  # Square root\n",
        "logarithm = math.log(100, 10)  # Logarithm base 10 of 100\n",
        "sine = math.sin(math.pi / 2)  # Sine of 90 degrees (in radians)"
      ],
      "metadata": {
        "id": "Z2g6JIz3A4Zw"
      },
      "execution_count": null,
      "outputs": []
    },
    {
      "cell_type": "markdown",
      "source": [
        "4. Generating Permutations\n",
        "Easy way to generate permutations from a given set:"
      ],
      "metadata": {
        "id": "lGqFuDKeNOzk"
      }
    },
    {
      "cell_type": "code",
      "source": [
        "from itertools import permutations\n",
        "paths = permutations([1, 2, 3])  # Generate all permutations of the list [1, 2, 3]\n",
        "for path in paths:\n",
        "    print(path)"
      ],
      "metadata": {
        "id": "0fdbs8uoA4XD",
        "colab": {
          "base_uri": "https://localhost:8080/"
        },
        "outputId": "669da473-159f-4822-e65f-d8ab3099dd8a"
      },
      "execution_count": null,
      "outputs": [
        {
          "output_type": "stream",
          "name": "stdout",
          "text": [
            "(1, 2, 3)\n",
            "(1, 3, 2)\n",
            "(2, 1, 3)\n",
            "(2, 3, 1)\n",
            "(3, 1, 2)\n",
            "(3, 2, 1)\n"
          ]
        }
      ]
    },
    {
      "cell_type": "markdown",
      "source": [
        "5. Generating Combinations\n",
        "Easy way to generate combinations:"
      ],
      "metadata": {
        "id": "lPMFq5s5NQ96"
      }
    },
    {
      "cell_type": "code",
      "source": [
        "from itertools import combinations\n",
        "combos = combinations([1, 2, 3, 4], 2)  # Generate all 2-element combinations\n",
        "for combo in combos:\n",
        "    print(combo)"
      ],
      "metadata": {
        "id": "WLHkrvx-A4Ub",
        "colab": {
          "base_uri": "https://localhost:8080/"
        },
        "outputId": "c75b70d3-2b51-499d-83b6-e908cfb48520"
      },
      "execution_count": null,
      "outputs": [
        {
          "output_type": "stream",
          "name": "stdout",
          "text": [
            "(1, 2)\n",
            "(1, 3)\n",
            "(1, 4)\n",
            "(2, 3)\n",
            "(2, 4)\n",
            "(3, 4)\n"
          ]
        }
      ]
    },
    {
      "cell_type": "markdown",
      "source": [
        "6. Random Number Generation\n",
        "To get a random number:"
      ],
      "metadata": {
        "id": "VUOv4bBHNSnC"
      }
    },
    {
      "cell_type": "code",
      "source": [
        "import random\n",
        "num = random.randint(1, 100)  # Generate a random integer between 1 and 100"
      ],
      "metadata": {
        "id": "c-y3fHFRA4RR"
      },
      "execution_count": null,
      "outputs": []
    },
    {
      "cell_type": "markdown",
      "source": [
        "7. Working with Fractions\n",
        "When you need to work with fractions:"
      ],
      "metadata": {
        "id": "MZUVmY_jNUg2"
      }
    },
    {
      "cell_type": "code",
      "source": [
        "from fractions import Fraction\n",
        "f = Fraction(3, 4)  # Create a fraction 3/4\n",
        "print(f + 1)  # Add a fraction and an integer"
      ],
      "metadata": {
        "id": "eEKzxzN0BH7k",
        "colab": {
          "base_uri": "https://localhost:8080/"
        },
        "outputId": "62af03b0-5270-4f90-e193-e151c87646c0"
      },
      "execution_count": null,
      "outputs": [
        {
          "output_type": "stream",
          "name": "stdout",
          "text": [
            "7/4\n"
          ]
        }
      ]
    },
    {
      "cell_type": "markdown",
      "source": [
        "8. Statistical Functions\n",
        "To get Average, Median, and Standard Deviation:"
      ],
      "metadata": {
        "id": "p4qbcPScNWHl"
      }
    },
    {
      "cell_type": "code",
      "source": [
        "import statistics\n",
        "data = [1, 2, 3, 4, 5]\n",
        "mean = statistics.mean(data)  # Average\n",
        "median = statistics.median(data)  # Median\n",
        "stdev = statistics.stdev(data)  # Standard Deviation"
      ],
      "metadata": {
        "id": "4rbCb4LxBH4v"
      },
      "execution_count": null,
      "outputs": []
    },
    {
      "cell_type": "markdown",
      "source": [
        "9. Trigonometric Functions\n",
        "To work with trigonometry:"
      ],
      "metadata": {
        "id": "UrSFIk7GNXu3"
      }
    },
    {
      "cell_type": "code",
      "source": [
        "import math\n",
        "angle_rad = math.radians(60)  # Convert 60 degrees to radians\n",
        "cosine = math.cos(angle_rad)  # Cosine of the angle"
      ],
      "metadata": {
        "id": "8pKteac-BH10"
      },
      "execution_count": null,
      "outputs": []
    },
    {
      "cell_type": "markdown",
      "source": [
        "10. Handling Infinity and NaN\n",
        "To work with Infinity and NaN:"
      ],
      "metadata": {
        "id": "ZP1zpfhrNZLU"
      }
    },
    {
      "cell_type": "code",
      "source": [
        "import math\n",
        "infinity = math.inf  # Representing infinity\n",
        "not_a_number = math.nan  # Representing a non-number (NaN)"
      ],
      "metadata": {
        "id": "rbLWIShUBHy8"
      },
      "execution_count": null,
      "outputs": []
    },
    {
      "cell_type": "markdown",
      "source": [
        "# Working With Databases\n",
        "1. Establishing a Connection\n",
        "To create a connection to a Postgres Database:"
      ],
      "metadata": {
        "id": "0RlQfAnQNb2Q"
      }
    },
    {
      "cell_type": "code",
      "source": [
        "import psycopg2\n",
        "connection = psycopg2.connect(\n",
        "    dbname='your_database',\n",
        "    user='your_username',\n",
        "    password='your_password',\n",
        "    host='your_host'\n",
        ")"
      ],
      "metadata": {
        "id": "ZmKGFJQjBHwY"
      },
      "execution_count": null,
      "outputs": []
    },
    {
      "cell_type": "markdown",
      "source": [
        "2. Creating a Cursor\n",
        "To create a database cursor, enabling the traversal and manipulation of records:"
      ],
      "metadata": {
        "id": "A2AVL7M5NhrA"
      }
    },
    {
      "cell_type": "code",
      "source": [
        "cursor = connection.cursor()"
      ],
      "metadata": {
        "id": "jxfTuk5DBHt2"
      },
      "execution_count": null,
      "outputs": []
    },
    {
      "cell_type": "markdown",
      "source": [
        "3. Executing a Query\n",
        "Selecting data from Database:"
      ],
      "metadata": {
        "id": "DrC8bRu9NjNn"
      }
    },
    {
      "cell_type": "code",
      "source": [
        "cursor.execute(\"SELECT * FROM your_table\")"
      ],
      "metadata": {
        "id": "PlwaHdTbBHrC"
      },
      "execution_count": null,
      "outputs": []
    },
    {
      "cell_type": "markdown",
      "source": [
        "4. Fetching Query Results\n",
        "Fetching data with a cursor:"
      ],
      "metadata": {
        "id": "husuCBV8NlKb"
      }
    },
    {
      "cell_type": "code",
      "source": [
        "records = cursor.fetchall()\n",
        "for record in records:\n",
        "    print(record)"
      ],
      "metadata": {
        "id": "3lF_ghTlBHoD"
      },
      "execution_count": null,
      "outputs": []
    },
    {
      "cell_type": "markdown",
      "source": [
        "5. Inserting Records\n",
        "To insert data into tables in a database:"
      ],
      "metadata": {
        "id": "P56XEkSuNnZK"
      }
    },
    {
      "cell_type": "code",
      "source": [
        "cursor.execute(\"INSERT INTO your_table (column1, column2) VALUES (%s, %s)\", ('value1', 'value2'))\n",
        "connection.commit()  # Seal the transaction"
      ],
      "metadata": {
        "id": "cUUs3CMkBHla"
      },
      "execution_count": null,
      "outputs": []
    },
    {
      "cell_type": "markdown",
      "source": [
        "6. Updating Records\n",
        "To alter the records:"
      ],
      "metadata": {
        "id": "-Z_jmfJVNpOb"
      }
    },
    {
      "cell_type": "code",
      "source": [
        "cursor.execute(\"UPDATE your_table SET column1 = %s WHERE column2 = %s\", ('new_value', 'condition_value'))\n",
        "connection.commit()"
      ],
      "metadata": {
        "id": "E0ARws0oBHiP"
      },
      "execution_count": null,
      "outputs": []
    },
    {
      "cell_type": "markdown",
      "source": [
        "7. Deleting Records\n",
        "To delete records from the table:"
      ],
      "metadata": {
        "id": "B7TOOtQjNrgJ"
      }
    },
    {
      "cell_type": "code",
      "source": [
        "cursor.execute(\"DELETE FROM your_table WHERE condition_column = %s\", ('condition_value',))\n",
        "connection.commit()"
      ],
      "metadata": {
        "id": "qUe-EUhgBTBX"
      },
      "execution_count": null,
      "outputs": []
    },
    {
      "cell_type": "markdown",
      "source": [
        "8. Creating a Table\n",
        "To create a new table, defining its structure:"
      ],
      "metadata": {
        "id": "dEU-P4hQNwGD"
      }
    },
    {
      "cell_type": "code",
      "source": [
        "cursor.execute(\"\"\"\n",
        "    CREATE TABLE your_new_table (\n",
        "        id SERIAL PRIMARY KEY,\n",
        "        column1 VARCHAR(255),\n",
        "        column2 INTEGER\n",
        "    )\n",
        "\"\"\")\n",
        "connection.commit()"
      ],
      "metadata": {
        "id": "Td99tGc9BS-a"
      },
      "execution_count": null,
      "outputs": []
    },
    {
      "cell_type": "markdown",
      "source": [
        "9. Dropping a Table\n",
        "To drop a table:"
      ],
      "metadata": {
        "id": "RxT2xgqRN2U6"
      }
    },
    {
      "cell_type": "code",
      "source": [
        "cursor.execute(\"DROP TABLE if exists your_table\")\n",
        "connection.commit()"
      ],
      "metadata": {
        "id": "DnW1O78uBS7l"
      },
      "execution_count": null,
      "outputs": []
    },
    {
      "cell_type": "markdown",
      "source": [
        "10. Using Transactions\n",
        "To use transactions for atomicity:"
      ],
      "metadata": {
        "id": "sfCr-A72N4Q0"
      }
    },
    {
      "cell_type": "code",
      "source": [
        "try:\n",
        "    cursor.execute(\"your first transactional query\")\n",
        "    cursor.execute(\"your second transactional query\")\n",
        "    connection.commit()  # Commit if all is well\n",
        "except Exception as e:\n",
        "    connection.rollback()  # Rollback in case of any issue\n",
        "    print(f\"An error occurred: {e}\")"
      ],
      "metadata": {
        "id": "cgrsMYoyBS5H"
      },
      "execution_count": null,
      "outputs": []
    },
    {
      "cell_type": "markdown",
      "source": [
        "## Working With Async IO (Asyncrounous Programming)\n",
        "1. Defining an Asynchronous Function\n",
        "To declare an async function:"
      ],
      "metadata": {
        "id": "dkFv5VNxN6Of"
      }
    },
    {
      "cell_type": "code",
      "source": [
        "import asyncio\n",
        "async def fetch_data():\n",
        "    print(\"Fetching data...\")\n",
        "    await asyncio.sleep(2)  # Simulate an I/O operation\n",
        "    print(\"Data retrieved.\")"
      ],
      "metadata": {
        "id": "B_GGuWLtBS2X"
      },
      "execution_count": null,
      "outputs": []
    },
    {
      "cell_type": "markdown",
      "source": [
        "2. Running an Asynchronous Function\n",
        "To invoke an asynchronous function and await them:"
      ],
      "metadata": {
        "id": "E95I9DINN9NY"
      }
    },
    {
      "cell_type": "code",
      "source": [
        "async def main():\n",
        "    await fetch_data()\n",
        "asyncio.run(main())"
      ],
      "metadata": {
        "id": "if4uyZJqBSzu"
      },
      "execution_count": null,
      "outputs": []
    },
    {
      "cell_type": "markdown",
      "source": [
        "3. Awaiting Multiple Coroutines\n",
        "To invoke multiple async functions and await all:"
      ],
      "metadata": {
        "id": "5vXf28h5N-4c"
      }
    },
    {
      "cell_type": "code",
      "source": [
        "async def main():\n",
        "    task1 = fetch_data()\n",
        "    task2 = fetch_data()\n",
        "    await asyncio.gather(task1, task2)\n",
        "asyncio.run(main())"
      ],
      "metadata": {
        "id": "X7-ekx84BSxE"
      },
      "execution_count": null,
      "outputs": []
    },
    {
      "cell_type": "markdown",
      "source": [
        "4. Creating Tasks\n",
        "To dispatch tasks:"
      ],
      "metadata": {
        "id": "ZXVTP0XSOAVE"
      }
    },
    {
      "cell_type": "code",
      "source": [
        "async def main():\n",
        "    task1 = asyncio.create_task(fetch_data())\n",
        "    task2 = asyncio.create_task(fetch_data())\n",
        "    await task1\n",
        "    await task2\n",
        "asyncio.run(main())"
      ],
      "metadata": {
        "id": "9nWVFW2UBSuY"
      },
      "execution_count": null,
      "outputs": []
    },
    {
      "cell_type": "markdown",
      "source": [
        "5. Asynchronous Iteration\n",
        "To traverse through asynchronously, allowing time for other functions in between:"
      ],
      "metadata": {
        "id": "j318qHHJOCSH"
      }
    },
    {
      "cell_type": "code",
      "source": [
        "async def fetch_item(item):\n",
        "    await asyncio.sleep(1)  # Simulate an I/O operation\n",
        "    print(f\"Fetched {item}\")\n",
        "async def main():\n",
        "    items = ['potion', 'scroll', 'wand']\n",
        "    for item in items:\n",
        "        await fetch_item(item)\n",
        "asyncio.run(main())"
      ],
      "metadata": {
        "id": "DwmoU-vwBSr6"
      },
      "execution_count": null,
      "outputs": []
    },
    {
      "cell_type": "markdown",
      "source": [
        "6. Using Asynchronous Context Managers\n",
        "To ensure resources are managed within the bounds of an asynchronous function:"
      ],
      "metadata": {
        "id": "FOKY8a4MOECj"
      }
    },
    {
      "cell_type": "code",
      "source": [
        "async def async_context_manager():\n",
        "    print(\"Entering context\")\n",
        "    await asyncio.sleep(1)\n",
        "    print(\"Exiting context\")\n",
        "async def main():\n",
        "    async with async_context_manager():\n",
        "        print(\"Within context\")\n",
        "asyncio.run(main())"
      ],
      "metadata": {
        "id": "l585DhpjBSpR"
      },
      "execution_count": null,
      "outputs": []
    },
    {
      "cell_type": "markdown",
      "source": [
        "7. Handling Exceptions in Asynchronous Code\n",
        "To gracefully catch and manage the errors with async functions:"
      ],
      "metadata": {
        "id": "3NTAlwAMOGDl"
      }
    },
    {
      "cell_type": "code",
      "source": [
        "async def risky_spell():\n",
        "    await asyncio.sleep(1)\n",
        "    raise ValueError(\"The spell backfired!\")\n",
        "async def main():\n",
        "    try:\n",
        "        await risky_spell()\n",
        "    except ValueError as e:\n",
        "        print(f\"Caught an error: {e}\")\n",
        "asyncio.run(main())"
      ],
      "metadata": {
        "id": "XgGSF4tiBSmT"
      },
      "execution_count": null,
      "outputs": []
    },
    {
      "cell_type": "markdown",
      "source": [
        "8. Asynchronous Generators\n",
        "To create async generators, each arriving in its own time:"
      ],
      "metadata": {
        "id": "RgD0U0qUOHvK"
      }
    },
    {
      "cell_type": "code",
      "source": [
        "async def fetch_items():\n",
        "    items = ['crystal', 'amulet', 'dagger']\n",
        "    for item in items:\n",
        "        await asyncio.sleep(1)\n",
        "        yield item\n",
        "async def main():\n",
        "    async for item in fetch_items():\n",
        "        print(f\"Found {item}\")\n",
        "asyncio.run(main())"
      ],
      "metadata": {
        "id": "M2hUzBs8B3U1"
      },
      "execution_count": null,
      "outputs": []
    },
    {
      "cell_type": "markdown",
      "source": [
        "9. Using Semaphores\n",
        "To limit the number of concurrent tasks:"
      ],
      "metadata": {
        "id": "37z3OreDOJcJ"
      }
    },
    {
      "cell_type": "code",
      "source": [
        "async def guarded_spell(semaphore, item):\n",
        "    async with semaphore:\n",
        "        print(f\"Processing {item}\")\n",
        "        await asyncio.sleep(1)\n",
        "async def main():\n",
        "    semaphore = asyncio.Semaphore(2)  # Allow 2 concurrent tasks\n",
        "    await asyncio.gather(*(guarded_spell(semaphore, i) for i in range(5)))\n",
        "asyncio.run(main())"
      ],
      "metadata": {
        "id": "9uP-GckyB3TF"
      },
      "execution_count": null,
      "outputs": []
    },
    {
      "cell_type": "markdown",
      "source": [
        "10. Event Loops\n",
        "To directly engage with the asynchronous loop, customizing the flow of execution:"
      ],
      "metadata": {
        "id": "2xg4PHAgOLHY"
      }
    },
    {
      "cell_type": "code",
      "source": [
        "async def perform_spell():\n",
        "    print(\"Casting spell...\")\n",
        "    await asyncio.sleep(1)\n",
        "    print(\"Spell cast.\")\n",
        "loop = asyncio.get_event_loop()\n",
        "try:\n",
        "    loop.run_until_complete(perform_spell())\n",
        "finally:\n",
        "    loop.close()"
      ],
      "metadata": {
        "id": "wkvMA37nB3Q9"
      },
      "execution_count": null,
      "outputs": []
    },
    {
      "cell_type": "markdown",
      "source": [
        "## Working With Networks, Sockets, and Network Interfaces\n",
        "1. Creating a Socket\n",
        "To create a socket for network communication:"
      ],
      "metadata": {
        "id": "HY2Jt4meOO5R"
      }
    },
    {
      "cell_type": "code",
      "source": [
        "import socket\n",
        "s = socket.socket(socket.AF_INET, socket.SOCK_STREAM)"
      ],
      "metadata": {
        "id": "xcMRZJdUB3Ok"
      },
      "execution_count": null,
      "outputs": []
    },
    {
      "cell_type": "markdown",
      "source": [
        "2. Connecting to a Remote Server\n",
        "To establish a link with a remote server through the socket:"
      ],
      "metadata": {
        "id": "EiIt8OlZOTN7"
      }
    },
    {
      "cell_type": "code",
      "source": [
        "s.connect(('example.com', 80))  # Connect to example.com on port 80"
      ],
      "metadata": {
        "id": "sW11PPV3B3MO"
      },
      "execution_count": null,
      "outputs": []
    },
    {
      "cell_type": "markdown",
      "source": [
        "3. Sending Data\n",
        "To dispatch data through the network to a connected entity:"
      ],
      "metadata": {
        "id": "JCwJ5yEvOUod"
      }
    },
    {
      "cell_type": "code",
      "source": [
        "s.sendall(b'Hello, server')"
      ],
      "metadata": {
        "id": "vWPBU04JB3Jx"
      },
      "execution_count": null,
      "outputs": []
    },
    {
      "cell_type": "markdown",
      "source": [
        "4. Receiving Data\n",
        "To receive data from the network:"
      ],
      "metadata": {
        "id": "Qa24CcjvOWrm"
      }
    },
    {
      "cell_type": "code",
      "source": [
        "data = s.recv(1024)  # Receive up to 1024 bytes\n",
        "print('Received', repr(data))"
      ],
      "metadata": {
        "id": "KN4FarhaB3HW",
        "colab": {
          "base_uri": "https://localhost:8080/"
        },
        "outputId": "8b285856-d63c-4020-ffea-fa4f4a8592d5"
      },
      "execution_count": null,
      "outputs": [
        {
          "output_type": "stream",
          "name": "stdout",
          "text": [
            "Received b'HTTP/1.0 501 Not Implemented\\r\\nContent-Type: text/html\\r\\nContent-Length: 357\\r\\nConnection: close\\r\\nDate: Wed, 21 Feb 2024 11:13:22 GMT\\r\\nServer: ECSF (sed/5889)\\r\\n\\r\\n<?xml version=\"1.0\" encoding=\"iso-8859-1\"?>\\n<!DOCTYPE html PUBLIC \"-//W3C//DTD XHTML 1.0 Transitional//EN\"\\n         \"http://www.w3.org/TR/xhtml1/DTD/xhtml1-transitional.dtd\">\\n<html xmlns=\"http://www.w3.org/1999/xhtml\" xml:lang=\"en\" lang=\"en\">\\n\\t<head>\\n\\t\\t<title>501 - Not Implemented</title>\\n\\t</head>\\n\\t<body>\\n\\t\\t<h1>501 - Not Implemented</h1>\\n\\t</body>\\n</html>\\n'\n"
          ]
        }
      ]
    },
    {
      "cell_type": "markdown",
      "source": [
        "5. Closing a Socket\n",
        "To gracefully close the socket, severing the network link:"
      ],
      "metadata": {
        "id": "D5SQWxd9OY0u"
      }
    },
    {
      "cell_type": "code",
      "source": [
        "s.close()"
      ],
      "metadata": {
        "id": "NKQvcpgMB3FB"
      },
      "execution_count": null,
      "outputs": []
    },
    {
      "cell_type": "markdown",
      "source": [
        "6. Creating a Listening Socket\n",
        "To open a socket that listens for incoming connections:"
      ],
      "metadata": {
        "id": "z3FlAz4oOaaH"
      }
    },
    {
      "cell_type": "code",
      "source": [
        "serversocket = socket.socket(socket.AF_INET, socket.SOCK_STREAM)\n",
        "serversocket.bind(('localhost', 8080))  # Bind to localhost on port 8080\n",
        "serversocket.listen()  # Listen for incoming connections"
      ],
      "metadata": {
        "id": "nOe7vljdB3Cl"
      },
      "execution_count": null,
      "outputs": []
    },
    {
      "cell_type": "markdown",
      "source": [
        "7. Accepting Connections\n",
        "To accept and establish a network link:"
      ],
      "metadata": {
        "id": "eZlhI4ATObrV"
      }
    },
    {
      "cell_type": "code",
      "source": [
        "clientsocket, address = serversocket.accept()\n",
        "print(f\"Connection from {address} has been established.\")"
      ],
      "metadata": {
        "id": "MrlO3bxdB3AF"
      },
      "execution_count": null,
      "outputs": []
    },
    {
      "cell_type": "markdown",
      "source": [
        "8. Non-blocking Socket Operations\n",
        "To set a socket’s mode to non-blocking:"
      ],
      "metadata": {
        "id": "2u9tTN6hOebd"
      }
    },
    {
      "cell_type": "code",
      "source": [
        "s.setblocking(False)"
      ],
      "metadata": {
        "id": "O-PEPwU1C3KW"
      },
      "execution_count": null,
      "outputs": []
    },
    {
      "cell_type": "markdown",
      "source": [
        "9. Working with UDP Sockets\n",
        "To create a socket for UDP, a protocol for quicker, but less reliable communication:"
      ],
      "metadata": {
        "id": "lokUXqxKOgux"
      }
    },
    {
      "cell_type": "code",
      "source": [
        "udp_socket = socket.socket(socket.AF_INET, socket.SOCK_DGRAM)\n",
        "udp_socket.bind(('localhost', 8081))  # Bind UDP socket to localhost on port 8081"
      ],
      "metadata": {
        "id": "ZzzevtpDC3Ia"
      },
      "execution_count": null,
      "outputs": []
    },
    {
      "cell_type": "markdown",
      "source": [
        "10. Enumerating Network Interfaces\n",
        "To discover the names and addresses of the machine’s network interfaces:"
      ],
      "metadata": {
        "id": "TFqKUhZ6Ohuc"
      }
    },
    {
      "cell_type": "code",
      "source": [
        "import socket\n",
        "import netifaces\n",
        "for interface in netifaces.interfaces():\n",
        "    addr = netifaces.ifaddresses(interface).get(netifaces.AF_INET)\n",
        "    if addr:\n",
        "        print(f\"Interface: {interface}, Address: {addr[0]['addr']}\")"
      ],
      "metadata": {
        "id": "MI69yByhC3F8"
      },
      "execution_count": null,
      "outputs": []
    },
    {
      "cell_type": "markdown",
      "source": [
        "## Working With Pandas Library (Dataframes)\n",
        "1. Creating a DataFrame\n",
        "To create a DataFrame with your own columns and data:"
      ],
      "metadata": {
        "id": "dR2myfEWOkI6"
      }
    },
    {
      "cell_type": "code",
      "source": [
        "import pandas as pd\n",
        "data = {\n",
        "    'Element': ['Earth', 'Water', 'Fire', 'Air'],\n",
        "    'Symbol': ['🜃', '🜄', '🜂', '🜁']\n",
        "}\n",
        "df = pd.DataFrame(data)\n",
        "df.head()"
      ],
      "metadata": {
        "id": "wD9fMIH6C3D5"
      },
      "execution_count": null,
      "outputs": []
    },
    {
      "cell_type": "markdown",
      "source": [
        "2. Reading Data from a CSV File\n",
        "To read data from a CSV file, transforming it into a DataFrame:"
      ],
      "metadata": {
        "id": "K0T5gv04OsjK"
      }
    },
    {
      "cell_type": "code",
      "source": [
        "df = pd.read_csv('elements.csv')"
      ],
      "metadata": {
        "id": "OMRejBYnC3Az"
      },
      "execution_count": null,
      "outputs": []
    },
    {
      "cell_type": "markdown",
      "source": [
        "3. Inspecting the First Few Rows\n",
        "To get first rows from dataframe:"
      ],
      "metadata": {
        "id": "dmK8ubc1OvDI"
      }
    },
    {
      "cell_type": "code",
      "source": [
        "print(df.head())"
      ],
      "metadata": {
        "id": "NNI7apQgC293",
        "colab": {
          "base_uri": "https://localhost:8080/"
        },
        "outputId": "6293e9a2-7a68-4e60-d6d5-f91e52e1f520"
      },
      "execution_count": null,
      "outputs": [
        {
          "output_type": "stream",
          "name": "stdout",
          "text": [
            "  Element Symbol\n",
            "0   Earth      🜃\n",
            "1   Water      🜄\n",
            "2    Fire      🜂\n",
            "3     Air      🜁\n"
          ]
        }
      ]
    },
    {
      "cell_type": "markdown",
      "source": [
        "4. Selecting Columns\n",
        "To select specific columns from dataframe:"
      ],
      "metadata": {
        "id": "0f4716cGOyVt"
      }
    },
    {
      "cell_type": "code",
      "source": [
        "symbols = df['Symbol']"
      ],
      "metadata": {
        "id": "Tg9vgcKLDLp2"
      },
      "execution_count": null,
      "outputs": []
    },
    {
      "cell_type": "markdown",
      "source": [
        "5. Filtering Rows\n",
        "To sift through the DataFrame, selecting rows that meet your criteria:"
      ],
      "metadata": {
        "id": "LzmSprcqO1hI"
      }
    },
    {
      "cell_type": "code",
      "source": [
        "fire_elements = df[df['Element'] == 'Fire']"
      ],
      "metadata": {
        "id": "1nbA6Y1eDLnd"
      },
      "execution_count": null,
      "outputs": []
    },
    {
      "cell_type": "markdown",
      "source": [
        "6. Creating New Columns\n",
        "To create new columns in DataFrame derived from the data within:"
      ],
      "metadata": {
        "id": "KpHUhmLyO3Yy"
      }
    },
    {
      "cell_type": "code",
      "source": [
        "df['Length'] = df['Element'].apply(len)"
      ],
      "metadata": {
        "id": "BjzQsRQqDLk2"
      },
      "execution_count": null,
      "outputs": []
    },
    {
      "cell_type": "markdown",
      "source": [
        "7. Grouping and Aggregating Data\n",
        "To gather your data into groups and extract new data through aggregation:"
      ],
      "metadata": {
        "id": "24kXLlQuO5zq"
      }
    },
    {
      "cell_type": "code",
      "source": [
        "element_groups = df.groupby('Element').agg({'Length': 'mean'})"
      ],
      "metadata": {
        "id": "qDE7VoGbDLiL"
      },
      "execution_count": null,
      "outputs": []
    },
    {
      "cell_type": "markdown",
      "source": [
        "8. Merging DataFrames\n",
        "To weave together two DataFrames, joining them by a shared key:"
      ],
      "metadata": {
        "id": "Bm4WUzy6O8p9"
      }
    },
    {
      "cell_type": "code",
      "source": [
        "df2 = pd.DataFrame({'Element': ['Earth', 'Fire'], 'Quality': ['Solid', 'Plasma']})\n",
        "merged_df = pd.merge(df, df2, on='Element')"
      ],
      "metadata": {
        "id": "QdUvgU3qDLf2"
      },
      "execution_count": null,
      "outputs": []
    },
    {
      "cell_type": "markdown",
      "source": [
        "9. Handling Missing Data\n",
        "To clean your DataFrame, filling the voids where data is absent:"
      ],
      "metadata": {
        "id": "hGK3LIqjO-Bq"
      }
    },
    {
      "cell_type": "code",
      "source": [
        "df.fillna(value='Unknown', inplace=True)"
      ],
      "metadata": {
        "id": "y9Qje0GYDLdP"
      },
      "execution_count": null,
      "outputs": []
    },
    {
      "cell_type": "markdown",
      "source": [
        "10. Pivoting and Reshaping Data\n",
        "To transmute the shape of your DataFrame, revealing hidden patterns and structures with a pivot operation:"
      ],
      "metadata": {
        "id": "BmNPvqm9PBBn"
      }
    },
    {
      "cell_type": "code",
      "source": [
        "pivoted_df = df.pivot(index='Element', columns='Symbol', values='Length')"
      ],
      "metadata": {
        "id": "f2OAKX9YDLav"
      },
      "execution_count": null,
      "outputs": []
    },
    {
      "cell_type": "markdown",
      "source": [
        "## Working With Numpy Library (Arrays)\n",
        "1. Creating a NumPy Array\n",
        "To create an array:"
      ],
      "metadata": {
        "id": "ZwwYdf_DPDAK"
      }
    },
    {
      "cell_type": "code",
      "source": [
        "import numpy as np\n",
        "array = np.array([1, 2, 3, 4, 5])"
      ],
      "metadata": {
        "id": "aML9qp2bDLYG"
      },
      "execution_count": null,
      "outputs": []
    },
    {
      "cell_type": "markdown",
      "source": [
        "2. Array of Zeros or Ones\n",
        "To create an array filled with zeros:"
      ],
      "metadata": {
        "id": "ljoclAwCPFLO"
      }
    },
    {
      "cell_type": "code",
      "source": [
        "zeros = np.zeros((3, 3))  # A 3x3 array of zeros\n",
        "ones = np.ones((2, 4))  # A 2x4 array of ones"
      ],
      "metadata": {
        "id": "5cA8DJ7vDLVd"
      },
      "execution_count": null,
      "outputs": []
    },
    {
      "cell_type": "markdown",
      "source": [
        "3. Creating a Range of Numbers\n",
        "To create a sequence of numbers:"
      ],
      "metadata": {
        "id": "nwMGHMdvPH57"
      }
    },
    {
      "cell_type": "code",
      "source": [
        "range_array = np.arange(10, 50, 5)  # From 10 to 50, step by 5"
      ],
      "metadata": {
        "id": "OZ_KTtZiD4D6"
      },
      "execution_count": null,
      "outputs": []
    },
    {
      "cell_type": "markdown",
      "source": [
        "4. Creating a Linearly Spaced Array\n",
        "To create a series of values, evenly spaced between two bounds:"
      ],
      "metadata": {
        "id": "4N05ZijPPJcj"
      }
    },
    {
      "cell_type": "code",
      "source": [
        "linear_spaced = np.linspace(0, 1, 5)  # 5 values from 0 to 1"
      ],
      "metadata": {
        "id": "aBAjQQ0VD4Ba"
      },
      "execution_count": null,
      "outputs": []
    },
    {
      "cell_type": "markdown",
      "source": [
        "5. Reshaping an Array\n",
        "To transmute the shape of an array, altering its dimensions:"
      ],
      "metadata": {
        "id": "561UaUEHPLQB"
      }
    },
    {
      "cell_type": "code",
      "source": [
        "reshaped = np.arange(9).reshape(3, 3)  # Reshape a 1D array into a 3x3 2D array"
      ],
      "metadata": {
        "id": "J-0GHZBeD3_C"
      },
      "execution_count": null,
      "outputs": []
    },
    {
      "cell_type": "markdown",
      "source": [
        "6. Basic Array Operations\n",
        "To perform elemental manipulations upon the arrays:"
      ],
      "metadata": {
        "id": "1shhT-QlPMfV"
      }
    },
    {
      "cell_type": "code",
      "source": [
        "a = np.array([1, 2, 3])\n",
        "b = np.array([4, 5, 6])\n",
        "sum = a + b  # Element-wise addition\n",
        "difference = b - a  # Element-wise subtraction\n",
        "product = a * b  # Element-wise multiplication"
      ],
      "metadata": {
        "id": "eOpqcx81D38W"
      },
      "execution_count": null,
      "outputs": []
    },
    {
      "cell_type": "markdown",
      "source": [
        "7. Matrix Multiplication\n",
        "Basic dot product Operation:"
      ],
      "metadata": {
        "id": "_eSVdhnHPOvR"
      }
    },
    {
      "cell_type": "code",
      "source": [
        "result = np.dot(a.reshape(1, 3), b.reshape(3, 1))  # Dot product of a and b"
      ],
      "metadata": {
        "id": "SfgmbFJcD35s"
      },
      "execution_count": null,
      "outputs": []
    },
    {
      "cell_type": "markdown",
      "source": [
        "8. Accessing Array Elements\n",
        "Accessing array elements with useful syntax:"
      ],
      "metadata": {
        "id": "AtpiuJmiPRZy"
      }
    },
    {
      "cell_type": "code",
      "source": [
        "element = a[2]  # Retrieve the third element of array 'a'\n",
        "row = reshaped[1, :]  # Retrieve the second row of 'reshaped'"
      ],
      "metadata": {
        "id": "a03CRu2qD31I"
      },
      "execution_count": null,
      "outputs": []
    },
    {
      "cell_type": "markdown",
      "source": [
        "9. Boolean Indexing\n",
        "To filter the elements of an array through the sieve of conditionals:"
      ],
      "metadata": {
        "id": "XrnwTaNxPTSY"
      }
    },
    {
      "cell_type": "code",
      "source": [
        "filtered = a[a > 2]  # Elements of 'a' greater than 2"
      ],
      "metadata": {
        "id": "Qf5FbL8VD3yq"
      },
      "execution_count": null,
      "outputs": []
    },
    {
      "cell_type": "markdown",
      "source": [
        "10. Aggregations and Statistics\n",
        "Statistical operations on np arrays:"
      ],
      "metadata": {
        "id": "icLqa_qdPU_M"
      }
    },
    {
      "cell_type": "code",
      "source": [
        "mean = np.mean(a)\n",
        "maximum = np.max(a)\n",
        "sum = np.sum(a)"
      ],
      "metadata": {
        "id": "iqKWVdtmD3wR"
      },
      "execution_count": null,
      "outputs": []
    },
    {
      "cell_type": "markdown",
      "source": [
        "## Working With Matplotlib Library (Data Visualization)\n",
        "1. Creating a Basic Plot\n",
        "To create a plot visualization:"
      ],
      "metadata": {
        "id": "jMBjQEnjPX1q"
      }
    },
    {
      "cell_type": "code",
      "source": [
        "import matplotlib.pyplot as plt\n",
        "x = [1, 2, 3, 4, 5]\n",
        "y = [1, 4, 9, 16, 25]\n",
        "plt.plot(x, y)\n",
        "plt.show()"
      ],
      "metadata": {
        "id": "b9T88gdcD3t1"
      },
      "execution_count": null,
      "outputs": []
    },
    {
      "cell_type": "markdown",
      "source": [
        "2. Adding Titles and Labels\n",
        "To create names for axes and title your plot to give better context:"
      ],
      "metadata": {
        "id": "QjCOB3LlPad4"
      }
    },
    {
      "cell_type": "code",
      "source": [
        "plt.plot(x, y)\n",
        "plt.title('Growth Over Time')\n",
        "plt.xlabel('Time')\n",
        "plt.ylabel('Growth')\n",
        "plt.show()"
      ],
      "metadata": {
        "id": "LI3ISk5MD3rG"
      },
      "execution_count": null,
      "outputs": []
    },
    {
      "cell_type": "markdown",
      "source": [
        "3. Creating a Scatter Plot\n",
        "Creating a scatter plot:"
      ],
      "metadata": {
        "id": "XuQjNCUIPcIN"
      }
    },
    {
      "cell_type": "code",
      "source": [
        "plt.scatter(x, y)\n",
        "plt.show()"
      ],
      "metadata": {
        "id": "woQvQ13uD3od"
      },
      "execution_count": null,
      "outputs": []
    },
    {
      "cell_type": "markdown",
      "source": [
        "4. Customizing Line Styles and Markers\n",
        "To add symbols into your plot, enriching its usefulness:"
      ],
      "metadata": {
        "id": "NFLmncdaPc5d"
      }
    },
    {
      "cell_type": "code",
      "source": [
        "plt.plot(x, y, linestyle='--', marker='o', color='b')\n",
        "plt.show()"
      ],
      "metadata": {
        "id": "Jou4rBsAD3lp"
      },
      "execution_count": null,
      "outputs": []
    },
    {
      "cell_type": "markdown",
      "source": [
        "5. Creating Multiple Plots on the Same Axes\n",
        "Creating Multiple Plots on the Same Axes:"
      ],
      "metadata": {
        "id": "eNNfGdYvPe8w"
      }
    },
    {
      "cell_type": "code",
      "source": [
        "z = [2, 3, 4, 5, 6]\n",
        "plt.plot(x, y)\n",
        "plt.plot(x, z)\n",
        "plt.show()"
      ],
      "metadata": {
        "id": "UnqQUNgdEKB6"
      },
      "execution_count": null,
      "outputs": []
    },
    {
      "cell_type": "markdown",
      "source": [
        "6. Creating Subplots\n",
        "To create subplots:"
      ],
      "metadata": {
        "id": "ND98JfgnPhBd"
      }
    },
    {
      "cell_type": "code",
      "source": [
        "fig, ax = plt.subplots(2, 1)  # 2 rows, 1 column\n",
        "ax[0].plot(x, y)\n",
        "ax[1].plot(x, z)\n",
        "plt.show()"
      ],
      "metadata": {
        "id": "eg7gB7ZQEJ_l"
      },
      "execution_count": null,
      "outputs": []
    },
    {
      "cell_type": "markdown",
      "source": [
        "7. Creating a Histogram\n",
        "To create a histogram:"
      ],
      "metadata": {
        "id": "GcL-dFTxPisr"
      }
    },
    {
      "cell_type": "code",
      "source": [
        "data = [1, 2, 2, 3, 3, 3, 4, 4, 4, 4]\n",
        "plt.hist(data, bins=4)\n",
        "plt.show()"
      ],
      "metadata": {
        "id": "u6wgAYOWEJ9I"
      },
      "execution_count": null,
      "outputs": []
    },
    {
      "cell_type": "markdown",
      "source": [
        "8. Adding a Legend\n",
        "To create a legend for the plot:"
      ],
      "metadata": {
        "id": "-kLZ8zo1PlZU"
      }
    },
    {
      "cell_type": "code",
      "source": [
        "plt.plot(x, y, label='Growth')\n",
        "plt.plot(x, z, label='Decay')\n",
        "plt.legend()\n",
        "plt.show()"
      ],
      "metadata": {
        "id": "urmyTVFhEJ65"
      },
      "execution_count": null,
      "outputs": []
    },
    {
      "cell_type": "markdown",
      "source": [
        "9. Customizing Ticks\n",
        "To create your own marks upon the axes, defining the scale of your values:"
      ],
      "metadata": {
        "id": "cRv2aTPMPnlZ"
      }
    },
    {
      "cell_type": "code",
      "source": [
        "plt.plot(x, y)\n",
        "plt.xticks([1, 2, 3, 4, 5], ['One', 'Two', 'Three', 'Four', 'Five'])\n",
        "plt.yticks([0, 5, 10, 15, 20, 25], ['0', '5', '10', '15', '20', '25+'])\n",
        "plt.show()"
      ],
      "metadata": {
        "id": "dBiNuAo-EJ4X"
      },
      "execution_count": null,
      "outputs": []
    },
    {
      "cell_type": "markdown",
      "source": [
        "10. Saving Figures\n",
        "To save the plot as a .png:"
      ],
      "metadata": {
        "id": "77L5reS_Pph4"
      }
    },
    {
      "cell_type": "code",
      "source": [
        "plt.plot(x, y)\n",
        "plt.savefig('growth_over_time.png')"
      ],
      "metadata": {
        "id": "kKnOFyviEJ12",
        "colab": {
          "base_uri": "https://localhost:8080/"
        },
        "outputId": "be63feac-0f0d-4aca-a4be-0a8d607c85fc"
      },
      "execution_count": null,
      "outputs": [
        {
          "output_type": "stream",
          "name": "stdout",
          "text": [
            "Error in callback <function flush_figures at 0x78495b820160> (for post_execute):\n"
          ]
        }
      ]
    },
    {
      "cell_type": "markdown",
      "source": [
        "## Working With Scikit-Learn Library (Machine Learning)\n",
        "1. Loading a Dataset\n",
        "To work with datasets for your ML experiments"
      ],
      "metadata": {
        "id": "vvrfYrIOPsre"
      }
    },
    {
      "cell_type": "code",
      "source": [
        "from sklearn import datasets\n",
        "iris = datasets.load_iris()\n",
        "X, y = iris.data, iris.target"
      ],
      "metadata": {
        "id": "BVJ9xyBgEJza"
      },
      "execution_count": null,
      "outputs": []
    },
    {
      "cell_type": "markdown",
      "source": [
        "2. Splitting Data into Training and Test Sets\n",
        "To divide your data, dedicating portions to training and evaluation:"
      ],
      "metadata": {
        "id": "f8ghxaa4Pvem"
      }
    },
    {
      "cell_type": "code",
      "source": [
        "from sklearn.model_selection import train_test_split\n",
        "X_train, X_test, y_train, y_test = train_test_split(X, y, test_size=0.2)"
      ],
      "metadata": {
        "id": "QJ_OmPUhEJw0"
      },
      "execution_count": null,
      "outputs": []
    },
    {
      "cell_type": "markdown",
      "source": [
        "3. Training a Model\n",
        "Training a ML Model using RandomForestClassifier:"
      ],
      "metadata": {
        "id": "ChkLWv2-PxQK"
      }
    },
    {
      "cell_type": "code",
      "source": [
        "from sklearn.ensemble import RandomForestClassifier\n",
        "model = RandomForestClassifier()\n",
        "model.fit(X_train, y_train)"
      ],
      "metadata": {
        "id": "2MlYE6cHEJuj"
      },
      "execution_count": null,
      "outputs": []
    },
    {
      "cell_type": "markdown",
      "source": [
        "4. Making Predictions\n",
        "To access the model predictions:"
      ],
      "metadata": {
        "id": "DopBnCC6PzEh"
      }
    },
    {
      "cell_type": "code",
      "source": [
        "predictions = model.predict(X_test)"
      ],
      "metadata": {
        "id": "XRpG0i8sEJr4"
      },
      "execution_count": null,
      "outputs": []
    },
    {
      "cell_type": "markdown",
      "source": [
        "5. Evaluating Model Performance\n",
        "To evaluate your model, measuring its accuracy in prediction:"
      ],
      "metadata": {
        "id": "ANoyYl7TP2qe"
      }
    },
    {
      "cell_type": "code",
      "source": [
        "from sklearn.metrics import accuracy_score\n",
        "accuracy = accuracy_score(y_test, predictions)\n",
        "print(f\"Model accuracy: {accuracy}\")"
      ],
      "metadata": {
        "id": "5MJyTTy3EJou",
        "colab": {
          "base_uri": "https://localhost:8080/"
        },
        "outputId": "7397e891-13bb-4eb1-fd32-8a27982c8147"
      },
      "execution_count": null,
      "outputs": [
        {
          "output_type": "stream",
          "name": "stdout",
          "text": [
            "Model accuracy: 0.9666666666666667\n"
          ]
        }
      ]
    },
    {
      "cell_type": "markdown",
      "source": [
        "6. Using Cross-Validation\n",
        "To use Cross-Validation:"
      ],
      "metadata": {
        "id": "GCSP399LP4CG"
      }
    },
    {
      "cell_type": "code",
      "source": [
        "from sklearn.model_selection import cross_val_score\n",
        "scores = cross_val_score(model, X, y, cv=5)\n",
        "print(f\"Cross-validation scores: {scores}\")"
      ],
      "metadata": {
        "id": "-OQyhnAWEJjz",
        "colab": {
          "base_uri": "https://localhost:8080/"
        },
        "outputId": "14917452-19c5-4409-b086-a1a8966c1eae"
      },
      "execution_count": null,
      "outputs": [
        {
          "output_type": "stream",
          "name": "stdout",
          "text": [
            "Cross-validation scores: [0.96666667 0.96666667 0.93333333 0.96666667 1.        ]\n"
          ]
        }
      ]
    },
    {
      "cell_type": "markdown",
      "source": [
        "7. Feature Scaling\n",
        "To create the appropriate scales of your features, allowing the model to learn more effectively:"
      ],
      "metadata": {
        "id": "VI6kjf-pP6wL"
      }
    },
    {
      "cell_type": "code",
      "source": [
        "from sklearn.preprocessing import StandardScaler\n",
        "scaler = StandardScaler()\n",
        "X_train_scaled = scaler.fit_transform(X_train)\n",
        "X_test_scaled = scaler.transform(X_test)"
      ],
      "metadata": {
        "id": "lnm6M_eFEJhm"
      },
      "execution_count": null,
      "outputs": []
    },
    {
      "cell_type": "markdown",
      "source": [
        "8. Parameter Tuning with Grid Search\n",
        "To refine your model’s parameters, seeking the optimal combination:"
      ],
      "metadata": {
        "id": "pPPnXcFAP8Sz"
      }
    },
    {
      "cell_type": "code",
      "source": [
        "from sklearn.model_selection import GridSearchCV\n",
        "param_grid = {'n_estimators': [10, 50, 100], 'max_depth': [None, 10, 20]}\n",
        "grid_search = GridSearchCV(model, param_grid, cv=5)\n",
        "grid_search.fit(X_train, y_train)"
      ],
      "metadata": {
        "id": "3rxECGPMEJfD"
      },
      "execution_count": null,
      "outputs": []
    },
    {
      "cell_type": "markdown",
      "source": [
        "9. Pipeline Creation\n",
        "To streamline your data processing and modeling steps, crafting a seamless flow:"
      ],
      "metadata": {
        "id": "Qm7FYrwbP98T"
      }
    },
    {
      "cell_type": "code",
      "source": [
        "from sklearn.pipeline import Pipeline\n",
        "pipeline = Pipeline([\n",
        "    ('scaler', StandardScaler()),\n",
        "    ('classifier', RandomForestClassifier())\n",
        "])\n",
        "pipeline.fit(X_train, y_train)"
      ],
      "metadata": {
        "id": "C9yOgPT3EJcr"
      },
      "execution_count": null,
      "outputs": []
    },
    {
      "cell_type": "markdown",
      "source": [
        "10. Saving and Loading a Model\n",
        "To preserve your model:"
      ],
      "metadata": {
        "id": "2X7MiDKZQAIj"
      }
    },
    {
      "cell_type": "code",
      "source": [
        "import joblib\n",
        "# Saving the model\n",
        "joblib.dump(model, 'model.joblib')\n",
        "# Loading the model\n",
        "loaded_model = joblib.load('model.joblib')"
      ],
      "metadata": {
        "id": "U-MuBKg_EJaL"
      },
      "execution_count": null,
      "outputs": []
    },
    {
      "cell_type": "markdown",
      "source": [
        "## Working With Plotly Library (Interactive Data Visualization)\n",
        "1. Creating a Basic Line Chart\n",
        "To create a line chart:"
      ],
      "metadata": {
        "id": "zqzoNT9SQCHd"
      }
    },
    {
      "cell_type": "code",
      "source": [
        "import plotly.graph_objs as go\n",
        "import plotly.io as pio\n",
        "x = [1, 2, 3, 4, 5]\n",
        "y = [1, 4, 9, 16, 25]\n",
        "fig = go.Figure(data=go.Scatter(x=x, y=y, mode='lines'))\n",
        "pio.show(fig)"
      ],
      "metadata": {
        "id": "b2pk-L_REJXs"
      },
      "execution_count": null,
      "outputs": []
    },
    {
      "cell_type": "markdown",
      "source": [
        "2. Creating a Scatter Plot\n",
        "To create a scatter plot:"
      ],
      "metadata": {
        "id": "Oay33gWTQFwM"
      }
    },
    {
      "cell_type": "code",
      "source": [
        "fig = go.Figure(data=go.Scatter(x=x, y=y, mode='markers'))\n",
        "pio.show(fig)"
      ],
      "metadata": {
        "id": "kKZADlPcEJU2"
      },
      "execution_count": null,
      "outputs": []
    },
    {
      "cell_type": "markdown",
      "source": [
        "3. Creating a Bar Chart\n",
        "To Create a Bar Chart:"
      ],
      "metadata": {
        "id": "ZXiHfdkvQHfS"
      }
    },
    {
      "cell_type": "code",
      "source": [
        "categories = ['A', 'B', 'C', 'D', 'E']\n",
        "values = [10, 20, 15, 30, 25]\n",
        "fig = go.Figure(data=go.Bar(x=categories, y=values))\n",
        "pio.show(fig)"
      ],
      "metadata": {
        "id": "-xQrrifYEhiv"
      },
      "execution_count": null,
      "outputs": []
    },
    {
      "cell_type": "markdown",
      "source": [
        "4. Creating a Pie Chart\n",
        "To create a Pie Chart:"
      ],
      "metadata": {
        "id": "nCW7kyNBQJAV"
      }
    },
    {
      "cell_type": "code",
      "source": [
        "labels = ['Earth', 'Water', 'Fire', 'Air']\n",
        "sizes = [25, 35, 20, 20]\n",
        "fig = go.Figure(data=go.Pie(labels=labels, values=sizes))\n",
        "pio.show(fig)"
      ],
      "metadata": {
        "id": "shzsVv9OEhgV"
      },
      "execution_count": null,
      "outputs": []
    },
    {
      "cell_type": "markdown",
      "source": [
        "5. Creating a Histogram\n",
        "To create a Histogram:"
      ],
      "metadata": {
        "id": "S8rO1N0FQKxW"
      }
    },
    {
      "cell_type": "code",
      "source": [
        "data = [1, 2, 2, 3, 3, 3, 4, 4, 4, 4]\n",
        "fig = go.Figure(data=go.Histogram(x=data))\n",
        "pio.show(fig)"
      ],
      "metadata": {
        "id": "Lws_I_1aEheB"
      },
      "execution_count": null,
      "outputs": []
    },
    {
      "cell_type": "markdown",
      "source": [
        "6. Creating Box Plots\n",
        "To create a Box Plot:"
      ],
      "metadata": {
        "id": "KLiq7L2tQMMl"
      }
    },
    {
      "cell_type": "code",
      "source": [
        "data = [1, 2, 2, 3, 4, 4, 4, 5, 5, 6]\n",
        "fig = go.Figure(data=go.Box(y=data))\n",
        "pio.show(fig)"
      ],
      "metadata": {
        "id": "WuRLnbq8EhbV"
      },
      "execution_count": null,
      "outputs": []
    },
    {
      "cell_type": "markdown",
      "source": [
        "7. Creating Heatmaps\n",
        "To create a heatmap:"
      ],
      "metadata": {
        "id": "aGVutGiqQO2v"
      }
    },
    {
      "cell_type": "code",
      "source": [
        "import numpy as np\n",
        "z = np.random.rand(10, 10)  # Generate random data\n",
        "fig = go.Figure(data=go.Heatmap(z=z))\n",
        "pio.show(fig)"
      ],
      "metadata": {
        "id": "8_Lnz6C2EhY8"
      },
      "execution_count": null,
      "outputs": []
    },
    {
      "cell_type": "markdown",
      "source": [
        "8. Creating 3D Surface Plots\n",
        "To create a 3D Surface Plot:"
      ],
      "metadata": {
        "id": "Pkl49b-6QRCq"
      }
    },
    {
      "cell_type": "code",
      "source": [
        "z = np.random.rand(20, 20)  # Generate random data\n",
        "fig = go.Figure(data=go.Surface(z=z))\n",
        "pio.show(fig)"
      ],
      "metadata": {
        "id": "Ik9O1jIXEhWT"
      },
      "execution_count": null,
      "outputs": []
    },
    {
      "cell_type": "markdown",
      "source": [
        "9. Creating Subplots\n",
        "To create a subplot:"
      ],
      "metadata": {
        "id": "qnHlHQadQaho"
      }
    },
    {
      "cell_type": "code",
      "source": [
        "from plotly.subplots import make_subplots\n",
        "fig = make_subplots(rows=1, cols=2)\n",
        "fig.add_trace(go.Scatter(x=x, y=y, mode='lines'), row=1, col=1)\n",
        "fig.add_trace(go.Bar(x=categories, y=values), row=1, col=2)\n",
        "pio.show(fig)"
      ],
      "metadata": {
        "id": "7RkNEFppEhTs"
      },
      "execution_count": null,
      "outputs": []
    },
    {
      "cell_type": "markdown",
      "source": [
        "10. Creating Interactive Time Series\n",
        "To work with Time Series:"
      ],
      "metadata": {
        "id": "Rf5jKejqQcWy"
      }
    },
    {
      "cell_type": "code",
      "source": [
        "import pandas as pd\n",
        "dates = pd.date_range('20230101', periods=5)\n",
        "values = [10, 11, 12, 13, 14]\n",
        "fig = go.Figure(data=go.Scatter(x=dates, y=values, mode='lines+markers'))\n",
        "pio.show(fig)"
      ],
      "metadata": {
        "id": "o7AIxgA7EhQy"
      },
      "execution_count": null,
      "outputs": []
    },
    {
      "cell_type": "markdown",
      "source": [
        "## Working With Dates and Times\n",
        "1. Getting the Current Date and Time\n",
        "To get the current data and time:"
      ],
      "metadata": {
        "id": "2QBEXU0IQeh6"
      }
    },
    {
      "cell_type": "code",
      "source": [
        "from datetime import datetime\n",
        "now = datetime.now()\n",
        "print(f\"Current date and time: {now}\")"
      ],
      "metadata": {
        "id": "4eTVdrK-EhNo",
        "colab": {
          "base_uri": "https://localhost:8080/"
        },
        "outputId": "fb6afc1a-2274-4e64-ae5d-563eef8b9fda"
      },
      "execution_count": null,
      "outputs": [
        {
          "output_type": "stream",
          "name": "stdout",
          "text": [
            "Current date and time: 2024-02-21 11:13:35.636671\n"
          ]
        }
      ]
    },
    {
      "cell_type": "markdown",
      "source": [
        "2. Creating Specific Date and Time\n",
        "To conjure a moment from the past or future, crafting it with precision:"
      ],
      "metadata": {
        "id": "4jcJ4qlFQhyD"
      }
    },
    {
      "cell_type": "code",
      "source": [
        "specific_time = datetime(2023, 1, 1, 12, 30)\n",
        "print(f\"Specific date and time: {specific_time}\")"
      ],
      "metadata": {
        "id": "crYK0uX-EuW7",
        "colab": {
          "base_uri": "https://localhost:8080/"
        },
        "outputId": "d1edeb43-c643-4115-da3a-8c756b72588e"
      },
      "execution_count": null,
      "outputs": [
        {
          "output_type": "stream",
          "name": "stdout",
          "text": [
            "Specific date and time: 2023-01-01 12:30:00\n"
          ]
        }
      ]
    },
    {
      "cell_type": "markdown",
      "source": [
        "3. Formatting Dates and Times\n",
        "Formatting Dates and Times:"
      ],
      "metadata": {
        "id": "PVNPsVe4Qjr2"
      }
    },
    {
      "cell_type": "code",
      "source": [
        "formatted = now.strftime(\"%Y-%m-%d %H:%M:%S\")\n",
        "print(f\"Formatted date and time: {formatted}\")"
      ],
      "metadata": {
        "id": "kJN9AdTQEuT8",
        "colab": {
          "base_uri": "https://localhost:8080/"
        },
        "outputId": "e31a7079-2421-47c0-88b5-122852c3d6a4"
      },
      "execution_count": null,
      "outputs": [
        {
          "output_type": "stream",
          "name": "stdout",
          "text": [
            "Formatted date and time: 2024-02-21 11:13:35\n"
          ]
        }
      ]
    },
    {
      "cell_type": "markdown",
      "source": [
        "4. Parsing Dates and Times from Strings\n",
        "Parsing Dates and Times from Strings:"
      ],
      "metadata": {
        "id": "S83UurwmQlhG"
      }
    },
    {
      "cell_type": "code",
      "source": [
        "date_string = \"2023-01-01 15:00:00\"\n",
        "parsed_date = datetime.strptime(date_string, \"%Y-%m-%d %H:%M:%S\")\n",
        "print(f\"Parsed date and time: {parsed_date}\")"
      ],
      "metadata": {
        "id": "5pqaAV_REuQ-",
        "colab": {
          "base_uri": "https://localhost:8080/"
        },
        "outputId": "5342c0a2-7ed2-44b1-f4a2-f54a13bce091"
      },
      "execution_count": null,
      "outputs": [
        {
          "output_type": "stream",
          "name": "stdout",
          "text": [
            "Parsed date and time: 2023-01-01 15:00:00\n"
          ]
        }
      ]
    },
    {
      "cell_type": "markdown",
      "source": [
        "5. Working with Time Deltas\n",
        "To traverse the distances between moments, leaping forward or backward through time:"
      ],
      "metadata": {
        "id": "UfGN_UpaQnPf"
      }
    },
    {
      "cell_type": "code",
      "source": [
        "from datetime import timedelta\n",
        "delta = timedelta(days=7)\n",
        "future_date = now + delta\n",
        "print(f\"Date after 7 days: {future_date}\")"
      ],
      "metadata": {
        "id": "Ho4Ec-5IEuL2",
        "colab": {
          "base_uri": "https://localhost:8080/"
        },
        "outputId": "5950e273-e13c-4435-9ce8-fbd5d2a8eac9"
      },
      "execution_count": null,
      "outputs": [
        {
          "output_type": "stream",
          "name": "stdout",
          "text": [
            "Date after 7 days: 2024-02-28 11:13:35.636671\n"
          ]
        }
      ]
    },
    {
      "cell_type": "markdown",
      "source": [
        "6. Comparing Dates and Times\n",
        "Date and Times comparisons:"
      ],
      "metadata": {
        "id": "dzYWFoz1QqHC"
      }
    },
    {
      "cell_type": "code",
      "source": [
        "if specific_time > now:\n",
        "    print(\"Specific time is in the future.\")\n",
        "else:\n",
        "    print(\"Specific time has passed.\")"
      ],
      "metadata": {
        "id": "z_FaWkGbEuJJ",
        "colab": {
          "base_uri": "https://localhost:8080/"
        },
        "outputId": "26bf4d48-faca-404b-c2b3-fa5187dee469"
      },
      "execution_count": null,
      "outputs": [
        {
          "output_type": "stream",
          "name": "stdout",
          "text": [
            "Specific time has passed.\n"
          ]
        }
      ]
    },
    {
      "cell_type": "markdown",
      "source": [
        "7. Extracting Components from a Date/Time\n",
        "To extract dates year, month, day, and more:"
      ],
      "metadata": {
        "id": "Q9Xcgt05Qrzq"
      }
    },
    {
      "cell_type": "code",
      "source": [
        "year = now.year\n",
        "month = now.month\n",
        "day = now.day\n",
        "hour = now.hour\n",
        "minute = now.minute\n",
        "second = now.second\n",
        "print(f\"Year: {year}, Month: {month}, Day: {day}, Hour: {hour}, Minute: {minute}, Second: {second}\")"
      ],
      "metadata": {
        "id": "18BlCf3aEuGc",
        "colab": {
          "base_uri": "https://localhost:8080/"
        },
        "outputId": "a6a9cdd1-2a50-476b-ce8f-3bd77964e5ba"
      },
      "execution_count": null,
      "outputs": [
        {
          "output_type": "stream",
          "name": "stdout",
          "text": [
            "Year: 2024, Month: 2, Day: 21, Hour: 11, Minute: 13, Second: 35\n"
          ]
        }
      ]
    },
    {
      "cell_type": "markdown",
      "source": [
        "8. Working with Time Zones\n",
        "To work with time zones honoring the local time:"
      ],
      "metadata": {
        "id": "jFY4AzNHQtTR"
      }
    },
    {
      "cell_type": "code",
      "source": [
        "from datetime import timezone, timedelta\n",
        "utc_time = datetime.now(timezone.utc)\n",
        "print(f\"Current UTC time: {utc_time}\")\n",
        "# Adjusting to a specific timezone (e.g., EST)\n",
        "est_time = utc_time - timedelta(hours=5)\n",
        "print(f\"Current EST time: {est_time}\")"
      ],
      "metadata": {
        "id": "qMITCZDyEuDl",
        "colab": {
          "base_uri": "https://localhost:8080/"
        },
        "outputId": "30f45842-55ec-480e-b32d-433f58d95bc9"
      },
      "execution_count": null,
      "outputs": [
        {
          "output_type": "stream",
          "name": "stdout",
          "text": [
            "Current UTC time: 2024-02-21 11:13:35.706423+00:00\n",
            "Current EST time: 2024-02-21 06:13:35.706423+00:00\n"
          ]
        }
      ]
    },
    {
      "cell_type": "markdown",
      "source": [
        "9. Getting the Weekday\n",
        "To identify the day of the week:"
      ],
      "metadata": {
        "id": "GUYaZZ8yQu15"
      }
    },
    {
      "cell_type": "code",
      "source": [
        "weekday = now.strftime(\"%A\")\n",
        "print(f\"Today is: {weekday}\")"
      ],
      "metadata": {
        "id": "JKIobaHoEuBK",
        "colab": {
          "base_uri": "https://localhost:8080/"
        },
        "outputId": "83eaa6ed-c425-4181-eae4-43edacda89ce"
      },
      "execution_count": null,
      "outputs": [
        {
          "output_type": "stream",
          "name": "stdout",
          "text": [
            "Today is: Wednesday\n"
          ]
        }
      ]
    },
    {
      "cell_type": "markdown",
      "source": [
        "10. Working with Unix Timestamps\n",
        "To converse with the ancient epochs, translating their count from the dawn of Unix:"
      ],
      "metadata": {
        "id": "gdw-gNNLQwR1"
      }
    },
    {
      "cell_type": "code",
      "source": [
        "timestamp = datetime.timestamp(now)\n",
        "print(f\"Current timestamp: {timestamp}\")\n",
        "# Converting a timestamp back to a datetime\n",
        "date_from_timestamp = datetime.fromtimestamp(timestamp)\n",
        "print(f\"Date from timestamp: {date_from_timestamp}\")"
      ],
      "metadata": {
        "id": "ViomKJdcEt-r",
        "colab": {
          "base_uri": "https://localhost:8080/"
        },
        "outputId": "d6bf3caf-9e82-4b78-d67c-395f1c5f199a"
      },
      "execution_count": null,
      "outputs": [
        {
          "output_type": "stream",
          "name": "stdout",
          "text": [
            "Current timestamp: 1708514015.636671\n",
            "Date from timestamp: 2024-02-21 11:13:35.636671\n"
          ]
        }
      ]
    },
    {
      "cell_type": "markdown",
      "source": [
        "## Working With More Advanced List Comprehensions and Lambda Functions\n",
        "1. Nested List Comprehensions\n",
        "To work with nested list Comprehensions:"
      ],
      "metadata": {
        "id": "F4jPjvVmQyJ4"
      }
    },
    {
      "cell_type": "code",
      "source": [
        "matrix = [[j for j in range(5)] for i in range(3)]\n",
        "print(matrix)  # Creates a 3x5 matrix"
      ],
      "metadata": {
        "id": "fxaUVl7MEt8B",
        "colab": {
          "base_uri": "https://localhost:8080/"
        },
        "outputId": "21e8e6fe-d56d-45f0-acb8-6241fb239e92"
      },
      "execution_count": null,
      "outputs": [
        {
          "output_type": "stream",
          "name": "stdout",
          "text": [
            "[[0, 1, 2, 3, 4], [0, 1, 2, 3, 4], [0, 1, 2, 3, 4]]\n"
          ]
        }
      ]
    },
    {
      "cell_type": "markdown",
      "source": [
        "2. Conditional List Comprehensions\n",
        "To filter elements that meet your criteria:"
      ],
      "metadata": {
        "id": "DKcGu_AUQ16A"
      }
    },
    {
      "cell_type": "code",
      "source": [
        "filtered = [x for x in range(10) if x % 2 == 0]\n",
        "print(filtered)  # Even numbers from 0 to 9"
      ],
      "metadata": {
        "id": "bgRArmhwEt5m",
        "colab": {
          "base_uri": "https://localhost:8080/"
        },
        "outputId": "44763aef-7595-415f-8605-4db9dac35181"
      },
      "execution_count": null,
      "outputs": [
        {
          "output_type": "stream",
          "name": "stdout",
          "text": [
            "[0, 2, 4, 6, 8]\n"
          ]
        }
      ]
    },
    {
      "cell_type": "markdown",
      "source": [
        "3. List Comprehensions with Multiple Iterables\n",
        "To merge and transform elements from multiple sources in a single dance:"
      ],
      "metadata": {
        "id": "9PFqkQSRQ3q2"
      }
    },
    {
      "cell_type": "code",
      "source": [
        "pairs = [(x, y) for x in [1, 2, 3] for y in [3, 1, 4] if x != y]\n",
        "print(pairs)  # Pairs of non-equal elements"
      ],
      "metadata": {
        "id": "5s4ufXyVEt3G",
        "colab": {
          "base_uri": "https://localhost:8080/"
        },
        "outputId": "d2c1910f-3312-413e-a9de-bff05bd780bf"
      },
      "execution_count": null,
      "outputs": [
        {
          "output_type": "stream",
          "name": "stdout",
          "text": [
            "[(1, 3), (1, 4), (2, 3), (2, 1), (2, 4), (3, 1), (3, 4)]\n"
          ]
        }
      ]
    },
    {
      "cell_type": "markdown",
      "source": [
        "4. Using Lambda Functions\n",
        "To summon anonymous functions, ephemeral and concise, for a single act of magic:"
      ],
      "metadata": {
        "id": "WrvxxtyAQ47B"
      }
    },
    {
      "cell_type": "code",
      "source": [
        "square = lambda x: x**2\n",
        "print(square(5))  # Returns 25"
      ],
      "metadata": {
        "id": "HRNtWxADEt07",
        "colab": {
          "base_uri": "https://localhost:8080/"
        },
        "outputId": "65aaec5a-ac29-424f-fadb-c436f4a0acd0"
      },
      "execution_count": null,
      "outputs": [
        {
          "output_type": "stream",
          "name": "stdout",
          "text": [
            "25\n"
          ]
        }
      ]
    },
    {
      "cell_type": "markdown",
      "source": [
        "5. Lambda Functions in List Comprehensions\n",
        "To employ lambda functions within your list comprehensions:"
      ],
      "metadata": {
        "id": "R3i1Q91oQ7qz"
      }
    },
    {
      "cell_type": "code",
      "source": [
        "squared = [(lambda x: x**2)(x) for x in range(5)]\n",
        "print(squared)  # Squares of numbers from 0 to 4"
      ],
      "metadata": {
        "id": "bX2aisgQEtyB",
        "colab": {
          "base_uri": "https://localhost:8080/"
        },
        "outputId": "7fbdccef-0106-4a92-ddad-6d4b19264424"
      },
      "execution_count": null,
      "outputs": [
        {
          "output_type": "stream",
          "name": "stdout",
          "text": [
            "[0, 1, 4, 9, 16]\n"
          ]
        }
      ]
    },
    {
      "cell_type": "markdown",
      "source": [
        "6. List Comprehensions for Flattening Lists\n",
        "To flatten a nested list, spreading its elements into a single dimension:"
      ],
      "metadata": {
        "id": "oVZ-BX4pQ9hG"
      }
    },
    {
      "cell_type": "code",
      "source": [
        "nested = [[1, 2, 3], [4, 5], [6, 7]]\n",
        "flattened = [x for sublist in nested for x in sublist]\n",
        "print(flattened)"
      ],
      "metadata": {
        "id": "f4s2rj0SEtvg",
        "colab": {
          "base_uri": "https://localhost:8080/"
        },
        "outputId": "db8cfea4-665b-4d78-db3d-07a53bd6f8ee"
      },
      "execution_count": null,
      "outputs": [
        {
          "output_type": "stream",
          "name": "stdout",
          "text": [
            "[1, 2, 3, 4, 5, 6, 7]\n"
          ]
        }
      ]
    },
    {
      "cell_type": "markdown",
      "source": [
        "7. Applying Functions to Elements\n",
        "To apply a transformation function to each element:"
      ],
      "metadata": {
        "id": "USB9GkADRAKj"
      }
    },
    {
      "cell_type": "code",
      "source": [
        "import math\n",
        "transformed = [math.sqrt(x) for x in range(1, 6)]\n",
        "print(transformed)  # Square roots of numbers from 1 to 5"
      ],
      "metadata": {
        "id": "cWKaLDqiEtsj",
        "colab": {
          "base_uri": "https://localhost:8080/"
        },
        "outputId": "069f0315-8daf-4ab1-e637-dd5eeabdb78c"
      },
      "execution_count": null,
      "outputs": [
        {
          "output_type": "stream",
          "name": "stdout",
          "text": [
            "[1.0, 1.4142135623730951, 1.7320508075688772, 2.0, 2.23606797749979]\n"
          ]
        }
      ]
    },
    {
      "cell_type": "markdown",
      "source": [
        "8. Using Lambda with Map and Filter\n",
        "To map and filter lists:"
      ],
      "metadata": {
        "id": "WfTTEfrFRDXV"
      }
    },
    {
      "cell_type": "code",
      "source": [
        "mapped = list(map(lambda x: x**2, range(5)))\n",
        "filtered = list(filter(lambda x: x > 5, mapped))\n",
        "print(mapped)    # Squares of numbers from 0 to 4\n",
        "print(filtered)  # Elements greater than 5"
      ],
      "metadata": {
        "id": "D4HV-7zIFMuF",
        "colab": {
          "base_uri": "https://localhost:8080/"
        },
        "outputId": "1c65adb9-4540-4dd5-cceb-0e6424c5f3b7"
      },
      "execution_count": null,
      "outputs": [
        {
          "output_type": "stream",
          "name": "stdout",
          "text": [
            "[0, 1, 4, 9, 16]\n",
            "[9, 16]\n"
          ]
        }
      ]
    },
    {
      "cell_type": "markdown",
      "source": [
        "9. List Comprehensions with Conditional Expressions\n",
        "List Comprehensions with Condidtional Expressions:"
      ],
      "metadata": {
        "id": "fsO9D3ZBRE7L"
      }
    },
    {
      "cell_type": "code",
      "source": [
        "conditional = [x if x > 2 else x**2 for x in range(5)]\n",
        "print(conditional)  # Squares numbers less than or equal to 2, passes others unchanged"
      ],
      "metadata": {
        "id": "fgs-2ST4FMrk",
        "colab": {
          "base_uri": "https://localhost:8080/"
        },
        "outputId": "6f057dd5-12ad-40fc-b127-be217d88b66a"
      },
      "execution_count": null,
      "outputs": [
        {
          "output_type": "stream",
          "name": "stdout",
          "text": [
            "[0, 1, 4, 3, 4]\n"
          ]
        }
      ]
    },
    {
      "cell_type": "markdown",
      "source": [
        "10. Complex Transformations with Lambda\n",
        "To conduct intricate transformations, using lambda functions:"
      ],
      "metadata": {
        "id": "GPxCskkRRIFs"
      }
    },
    {
      "cell_type": "code",
      "source": [
        "complex_transformation = list(map(lambda x: x**2 if x % 2 == 0 else x + 5, range(5)))\n",
        "print(complex_transformation)  # Applies different transformations based on even-odd condition"
      ],
      "metadata": {
        "id": "KmitZjLWFMo3",
        "colab": {
          "base_uri": "https://localhost:8080/"
        },
        "outputId": "851ca8ed-83c9-45b6-84a6-6084cf49c55a"
      },
      "execution_count": null,
      "outputs": [
        {
          "output_type": "stream",
          "name": "stdout",
          "text": [
            "[0, 6, 4, 8, 16]\n"
          ]
        }
      ]
    },
    {
      "cell_type": "markdown",
      "source": [
        "## Working With Object Oriented Programming\n",
        "1. Defining a Class\n",
        "Creating a class:"
      ],
      "metadata": {
        "id": "fe272HwoRJ96"
      }
    },
    {
      "cell_type": "code",
      "source": [
        "class Wizard:\n",
        "    def __init__(self, name, power):\n",
        "        self.name = name\n",
        "        self.power = power\n",
        "   def cast_spell(self):\n",
        "        print(f\"{self.name} casts a spell with power {self.power}!\")"
      ],
      "metadata": {
        "id": "Wj-B5c9GFMmT"
      },
      "execution_count": null,
      "outputs": []
    },
    {
      "cell_type": "markdown",
      "source": [
        "2. Creating an Instance\n",
        "To create an instance of your class:"
      ],
      "metadata": {
        "id": "Q4gjB3v2RLqj"
      }
    },
    {
      "cell_type": "code",
      "source": [
        "merlin = Wizard(\"Merlin\", 100)"
      ],
      "metadata": {
        "id": "eE2dED3bFMkA"
      },
      "execution_count": null,
      "outputs": []
    },
    {
      "cell_type": "markdown",
      "source": [
        "3. Invoking Methods\n",
        "To call methods on instance of class:"
      ],
      "metadata": {
        "id": "eexQ7CPxRNVl"
      }
    },
    {
      "cell_type": "code",
      "source": [
        "merlin.cast_spell()"
      ],
      "metadata": {
        "id": "uaJnX49bFMhk"
      },
      "execution_count": null,
      "outputs": []
    },
    {
      "cell_type": "markdown",
      "source": [
        "4. Inheritance\n",
        "Subclassing:"
      ],
      "metadata": {
        "id": "FvgujPrFRPuh"
      }
    },
    {
      "cell_type": "code",
      "source": [
        "class ArchWizard(Wizard):\n",
        "    def __init__(self, name, power, realm):\n",
        "        super().__init__(name, power)\n",
        "        self.realm = realm\n",
        "    def summon_familiar(self):\n",
        "        print(f\"{self.name} summons a familiar from the {self.realm} realm.\")"
      ],
      "metadata": {
        "id": "W7jqGOB8FMe8"
      },
      "execution_count": null,
      "outputs": []
    },
    {
      "cell_type": "markdown",
      "source": [
        "5. Overriding Methods\n",
        "To overide base classes:"
      ],
      "metadata": {
        "id": "4T8rNKRURRN-"
      }
    },
    {
      "cell_type": "code",
      "source": [
        "class Sorcerer(Wizard):\n",
        "    def cast_spell(self):\n",
        "        print(f\"{self.name} casts a powerful dark spell!\")"
      ],
      "metadata": {
        "id": "sDPtSna7FMck"
      },
      "execution_count": null,
      "outputs": []
    },
    {
      "cell_type": "markdown",
      "source": [
        "6. Polymorphism\n",
        "To interact with different forms through a common interface:"
      ],
      "metadata": {
        "id": "9AEKONjYRSsX"
      }
    },
    {
      "cell_type": "code",
      "source": [
        "def unleash_magic(wizard):\n",
        "    wizard.cast_spell()\n",
        "unleash_magic(merlin)\n",
        "unleash_magic(Sorcerer(\"Voldemort\", 90))"
      ],
      "metadata": {
        "id": "-qXPOEI7FMZ6"
      },
      "execution_count": null,
      "outputs": []
    },
    {
      "cell_type": "markdown",
      "source": [
        "7. Encapsulation\n",
        "To use information hiding:"
      ],
      "metadata": {
        "id": "-rZ_6KrnRVGt"
      }
    },
    {
      "cell_type": "code",
      "source": [
        "class Alchemist:\n",
        "    def __init__(self, secret_ingredient):\n",
        "        self.__secret = secret_ingredient\n",
        "    def reveal_secret(self):\n",
        "        print(f\"The secret ingredient is {self.__secret}\")"
      ],
      "metadata": {
        "id": "eS4yTV50FMXa"
      },
      "execution_count": null,
      "outputs": []
    },
    {
      "cell_type": "markdown",
      "source": [
        "8. Composition\n",
        "To assemble Objects from simpler ones:"
      ],
      "metadata": {
        "id": "M15lcYFVRWqY"
      }
    },
    {
      "cell_type": "code",
      "source": [
        "class Spellbook:\n",
        "    def __init__(self, spells):\n",
        "        self.spells = spells\n",
        "class Mage:\n",
        "    def __init__(self, name, spellbook):\n",
        "        self.name = name\n",
        "        self.spellbook = spellbook"
      ],
      "metadata": {
        "id": "VuvEn2-qFMUi"
      },
      "execution_count": null,
      "outputs": []
    },
    {
      "cell_type": "markdown",
      "source": [
        "9. Class Methods and Static Methods\n",
        "To bind actions to the class itself or liberate them from the instance, serving broader purposes:"
      ],
      "metadata": {
        "id": "JtDFrvF7RYNr"
      }
    },
    {
      "cell_type": "code",
      "source": [
        "class Enchanter:\n",
        "    @staticmethod\n",
        "    def enchant(item):\n",
        "        print(f\"{item} is enchanted!\")\n",
        "    @classmethod\n",
        "    def summon(cls):\n",
        "        print(\"A new enchanter is summoned.\")"
      ],
      "metadata": {
        "id": "oJD0eDgmFMRY"
      },
      "execution_count": null,
      "outputs": []
    },
    {
      "cell_type": "markdown",
      "source": [
        "10. Properties and Setters\n",
        "To elegantly manage access to an entity’s attributes, guiding their use and protection:"
      ],
      "metadata": {
        "id": "3GtUA_z9RaOA"
      }
    },
    {
      "cell_type": "code",
      "source": [
        "class Elementalist:\n",
        "    def __init__(self, element):\n",
        "        self._element = element\n",
        "    @property\n",
        "    def element(self):\n",
        "        return self._element\n",
        "   @element.setter\n",
        "    def element(self, value):\n",
        "        if value in [\"Fire\", \"Water\", \"Earth\", \"Air\"]:\n",
        "            self._element = value\n",
        "        else:\n",
        "            print(\"Invalid element!\")"
      ],
      "metadata": {
        "id": "dMpUM9V1FeLz"
      },
      "execution_count": null,
      "outputs": []
    },
    {
      "cell_type": "markdown",
      "source": [
        "## Working With Decorators\n",
        "1. Basic Decorator\n",
        "To create a simple decorator that wraps a function:"
      ],
      "metadata": {
        "id": "Hqh0uhAJRdvX"
      }
    },
    {
      "cell_type": "code",
      "source": [
        "def my_decorator(func):\n",
        "    def wrapper():\n",
        "        print(\"Something is happening before the function is called.\")\n",
        "        func()\n",
        "        print(\"Something is happening after the function is called.\")\n",
        "    return wrapper\n",
        "\n",
        "@my_decorator\n",
        "def say_hello():\n",
        "    print(\"Hello!\")\n",
        "\n",
        "say_hello()"
      ],
      "metadata": {
        "id": "n2pgf6MiFeJN",
        "colab": {
          "base_uri": "https://localhost:8080/"
        },
        "outputId": "ed130ceb-1741-4454-fda3-89d3a8c67f4c"
      },
      "execution_count": null,
      "outputs": [
        {
          "output_type": "stream",
          "name": "stdout",
          "text": [
            "Something is happening before the function is called.\n",
            "Hello!\n",
            "Something is happening after the function is called.\n"
          ]
        }
      ]
    },
    {
      "cell_type": "markdown",
      "source": [
        "2. Decorator with Arguments\n",
        "To pass arguments to the function within a decorator:"
      ],
      "metadata": {
        "id": "C0p5nJCARhLy"
      }
    },
    {
      "cell_type": "code",
      "source": [
        "def my_decorator(func):\n",
        "    def wrapper(*args, **kwargs):\n",
        "        print(\"Before call\")\n",
        "        result = func(*args, **kwargs)\n",
        "        print(\"After call\")\n",
        "        return result\n",
        "    return wrapper\n",
        "\n",
        "@my_decorator\n",
        "def greet(name):\n",
        "    print(f\"Hello {name}\")\n",
        "\n",
        "greet(\"Alice\")"
      ],
      "metadata": {
        "id": "D_yHcfMGFeGg",
        "colab": {
          "base_uri": "https://localhost:8080/"
        },
        "outputId": "ba0593ad-2d02-4958-a1aa-931c99659899"
      },
      "execution_count": null,
      "outputs": [
        {
          "output_type": "stream",
          "name": "stdout",
          "text": [
            "Before call\n",
            "Hello Alice\n",
            "After call\n"
          ]
        }
      ]
    },
    {
      "cell_type": "markdown",
      "source": [
        "3. Using functools.wraps\n",
        "To preserve the metadata of the original function when decorating:"
      ],
      "metadata": {
        "id": "PY37jcWzRi8G"
      }
    },
    {
      "cell_type": "code",
      "source": [
        "from functools import wraps\n",
        "\n",
        "def my_decorator(func):\n",
        "    @wraps(func)\n",
        "    def wrapper(*args, **kwargs):\n",
        "        \"\"\"Wrapper function\"\"\"\n",
        "        return func(*args, **kwargs)\n",
        "    return wrapper\n",
        "\n",
        "@my_decorator\n",
        "def greet(name):\n",
        "    \"\"\"Greet someone\"\"\"\n",
        "    print(f\"Hello {name}\")\n",
        "\n",
        "print(greet.__name__)  # Outputs: 'greet'\n",
        "print(greet.__doc__)   # Outputs: 'Greet someone'"
      ],
      "metadata": {
        "id": "gnOu0kEkFeDk",
        "colab": {
          "base_uri": "https://localhost:8080/"
        },
        "outputId": "10d84454-92a5-4574-c7fd-d3b34d473751"
      },
      "execution_count": null,
      "outputs": [
        {
          "output_type": "stream",
          "name": "stdout",
          "text": [
            "greet\n",
            "Greet someone\n"
          ]
        }
      ]
    },
    {
      "cell_type": "markdown",
      "source": [
        "4. Class Decorator\n",
        "To create a decorator using a class:"
      ],
      "metadata": {
        "id": "Kemnd2cCRkbO"
      }
    },
    {
      "cell_type": "code",
      "source": [
        "class MyDecorator:\n",
        "    def __init__(self, func):\n",
        "        self.func = func\n",
        "   def __call__(self, *args, **kwargs):\n",
        "        print(\"Before call\")\n",
        "        self.func(*args, **kwargs)\n",
        "        print(\"After call\")\n",
        "\n",
        "@MyDecorator\n",
        "def greet(name):\n",
        "    print(f\"Hello {name}\")\n",
        "\n",
        "greet(\"Alice\")"
      ],
      "metadata": {
        "id": "r_k6ZyOeFeBG"
      },
      "execution_count": null,
      "outputs": []
    },
    {
      "cell_type": "markdown",
      "source": [
        "5. Decorator with Arguments\n",
        "To create a decorator that accepts its own arguments:"
      ],
      "metadata": {
        "id": "4rOoO11JRmO4"
      }
    },
    {
      "cell_type": "code",
      "source": [
        "def repeat(times):\n",
        "    def decorator(func):\n",
        "        @wraps(func)\n",
        "        def wrapper(*args, **kwargs):\n",
        "            for _ in range(times):\n",
        "                func(*args, **kwargs)\n",
        "        return wrapper\n",
        "    return decorator\n",
        "\n",
        "@repeat(3)\n",
        "def say_hello():\n",
        "    print(\"Hello\")\n",
        "\n",
        "say_hello()"
      ],
      "metadata": {
        "id": "TNoKSaQpFd-v",
        "colab": {
          "base_uri": "https://localhost:8080/"
        },
        "outputId": "4adedd9d-e1a2-48d4-c191-363daa56bc3b"
      },
      "execution_count": null,
      "outputs": [
        {
          "output_type": "stream",
          "name": "stdout",
          "text": [
            "Hello\n",
            "Hello\n",
            "Hello\n"
          ]
        }
      ]
    },
    {
      "cell_type": "markdown",
      "source": [
        "6. Method Decorator\n",
        "To apply a decorator to a method within a class:"
      ],
      "metadata": {
        "id": "hxZ16rLcRnwR"
      }
    },
    {
      "cell_type": "code",
      "source": [
        "def method_decorator(func):\n",
        "    @wraps(func)\n",
        "    def wrapper(self, *args, **kwargs):\n",
        "        print(\"Method Decorator\")\n",
        "        return func(self, *args, **kwargs)\n",
        "    return wrapper\n",
        "\n",
        "class MyClass:\n",
        "    @method_decorator\n",
        "    def greet(self, name):\n",
        "        print(f\"Hello {name}\")\n",
        "\n",
        "obj = MyClass()\n",
        "obj.greet(\"Alice\")"
      ],
      "metadata": {
        "id": "fBHEprJ7Fd8p",
        "colab": {
          "base_uri": "https://localhost:8080/"
        },
        "outputId": "59f157e9-850b-43d1-9da2-739042db80b9"
      },
      "execution_count": null,
      "outputs": [
        {
          "output_type": "stream",
          "name": "stdout",
          "text": [
            "Method Decorator\n",
            "Hello Alice\n"
          ]
        }
      ]
    },
    {
      "cell_type": "markdown",
      "source": [
        "7. Stacking Decorators\n",
        "To apply multiple decorators to a single function:"
      ],
      "metadata": {
        "id": "g1N8TqbeRpWP"
      }
    },
    {
      "cell_type": "code",
      "source": [
        "@my_decorator\n",
        "@repeat(2)\n",
        "def greet(name):\n",
        "    print(f\"Hello {name}\")\n",
        "\n",
        "greet(\"Alice\")"
      ],
      "metadata": {
        "id": "PP_ZPiXpFd59",
        "colab": {
          "base_uri": "https://localhost:8080/"
        },
        "outputId": "cd462d01-8975-4c69-fb2c-96aee96cc850"
      },
      "execution_count": null,
      "outputs": [
        {
          "output_type": "stream",
          "name": "stdout",
          "text": [
            "Hello Alice\n",
            "Hello Alice\n"
          ]
        }
      ]
    },
    {
      "cell_type": "markdown",
      "source": [
        "8. Decorator with Optional Arguments\n",
        "Creating a decorator that works with or without arguments:"
      ],
      "metadata": {
        "id": "DQOV7geARrER"
      }
    },
    {
      "cell_type": "code",
      "source": [
        "def smart_decorator(arg=None):\n",
        "    def decorator(func):\n",
        "        @wraps(func)\n",
        "        def wrapper(*args, **kwargs):\n",
        "            if arg:\n",
        "                print(f\"Argument: {arg}\")\n",
        "            return func(*args, **kwargs)\n",
        "        return wrapper\n",
        "    if callable(arg):\n",
        "        return decorator(arg)\n",
        "    return decorator\n",
        "\n",
        "@smart_decorator\n",
        "def no_args():\n",
        "    print(\"No args\")\n",
        "\n",
        "@smart_decorator(\"With args\")\n",
        "def with_args():\n",
        "    print(\"With args\")\n",
        "\n",
        "no_args()\n",
        "with_args()"
      ],
      "metadata": {
        "id": "klAyFfg_Fd3a",
        "colab": {
          "base_uri": "https://localhost:8080/"
        },
        "outputId": "014adff2-6c18-4215-b9a9-88cc40a6c58d"
      },
      "execution_count": null,
      "outputs": [
        {
          "output_type": "stream",
          "name": "stdout",
          "text": [
            "Argument: <function no_args at 0x78491f187be0>\n",
            "No args\n",
            "Argument: With args\n",
            "With args\n"
          ]
        }
      ]
    },
    {
      "cell_type": "markdown",
      "source": [
        "9. Class Method Decorator\n",
        "To decorate a class method:"
      ],
      "metadata": {
        "id": "IAx6gfmpRssO"
      }
    },
    {
      "cell_type": "code",
      "source": [
        "class MyClass:\n",
        "    @classmethod\n",
        "    @my_decorator\n",
        "    def class_method(cls):\n",
        "        print(\"Class method called\")\n",
        "\n",
        "MyClass.class_method()"
      ],
      "metadata": {
        "id": "pC694B5CFd0x",
        "colab": {
          "base_uri": "https://localhost:8080/"
        },
        "outputId": "ea8d7a04-9750-415d-d428-39e3e5b0fbcc"
      },
      "execution_count": null,
      "outputs": [
        {
          "output_type": "stream",
          "name": "stdout",
          "text": [
            "Class method called\n"
          ]
        }
      ]
    },
    {
      "cell_type": "markdown",
      "source": [
        "10. Decorator for Static Method\n",
        "To decorate a static method:"
      ],
      "metadata": {
        "id": "b0IqfGjjRuku"
      }
    },
    {
      "cell_type": "code",
      "source": [
        "class MyClass:\n",
        "    @staticmethod\n",
        "    @my_decorator\n",
        "    def static_method():\n",
        "        print(\"Static method called\")\n",
        "\n",
        "MyClass.static_method()"
      ],
      "metadata": {
        "id": "ND_apLcTFdyZ",
        "colab": {
          "base_uri": "https://localhost:8080/"
        },
        "outputId": "0492d00b-bf09-470d-cbda-b02e33b7f385"
      },
      "execution_count": null,
      "outputs": [
        {
          "output_type": "stream",
          "name": "stdout",
          "text": [
            "Static method called\n"
          ]
        }
      ]
    },
    {
      "cell_type": "markdown",
      "source": [
        "## Working With Regular Expressions\n",
        "1. Basic Pattern Matching\n",
        "To find a match for a pattern within a string:"
      ],
      "metadata": {
        "id": "PCeRVoGzRy7K"
      }
    },
    {
      "cell_type": "code",
      "source": [
        "import re\n",
        "text = \"Search this string for patterns.\"\n",
        "match = re.search(r\"patterns\", text)\n",
        "if match:\n",
        "    print(\"Pattern found!\")"
      ],
      "metadata": {
        "id": "AwborXlDFdv2",
        "colab": {
          "base_uri": "https://localhost:8080/"
        },
        "outputId": "e816e84e-d0f7-4794-ff92-e6adba096058"
      },
      "execution_count": null,
      "outputs": [
        {
          "output_type": "stream",
          "name": "stdout",
          "text": [
            "Pattern found!\n"
          ]
        }
      ]
    },
    {
      "cell_type": "markdown",
      "source": [
        "2. Compiling Regular Expressions\n",
        "To compile a regular expression for repeated use:"
      ],
      "metadata": {
        "id": "avn96E2zR1zk"
      }
    },
    {
      "cell_type": "code",
      "source": [
        "pattern = re.compile(r\"patterns\")\n",
        "match = pattern.search(text)"
      ],
      "metadata": {
        "id": "sCpA8GZJFds3"
      },
      "execution_count": null,
      "outputs": []
    },
    {
      "cell_type": "markdown",
      "source": [
        "3. Matching at the Beginning or End\n",
        "To check if a string starts or ends with a pattern:"
      ],
      "metadata": {
        "id": "qI4YEwFbR3ZK"
      }
    },
    {
      "cell_type": "code",
      "source": [
        "if re.match(r\"^Search\", text):\n",
        "    print(\"Starts with 'Search'\")\n",
        "if re.search(r\"patterns.$\", text):\n",
        "    print(\"Ends with 'patterns.'\")"
      ],
      "metadata": {
        "id": "ulyAbIzsFdqD",
        "colab": {
          "base_uri": "https://localhost:8080/"
        },
        "outputId": "839ff7ae-8dd0-4d40-820f-44976ca334f6"
      },
      "execution_count": null,
      "outputs": [
        {
          "output_type": "stream",
          "name": "stdout",
          "text": [
            "Starts with 'Search'\n",
            "Ends with 'patterns.'\n"
          ]
        }
      ]
    },
    {
      "cell_type": "markdown",
      "source": [
        "4. Finding All Matches\n",
        "To find all occurrences of a pattern in a string:"
      ],
      "metadata": {
        "id": "U8Z3KVYKR40w"
      }
    },
    {
      "cell_type": "code",
      "source": [
        "all_matches = re.findall(r\"t\\w+\", text)  # Finds words starting with 't'\n",
        "print(all_matches)"
      ],
      "metadata": {
        "id": "n5JO1PDiFzW-",
        "colab": {
          "base_uri": "https://localhost:8080/"
        },
        "outputId": "fa87e62a-a3cd-460c-a7e6-adc7cd4f5341"
      },
      "execution_count": null,
      "outputs": [
        {
          "output_type": "stream",
          "name": "stdout",
          "text": [
            "['this', 'tring', 'tterns']\n"
          ]
        }
      ]
    },
    {
      "cell_type": "markdown",
      "source": [
        "5. Search and Replace (Substitution)\n",
        "To replace occurrences of a pattern within a string:"
      ],
      "metadata": {
        "id": "-Jgk4rw4R6_v"
      }
    },
    {
      "cell_type": "code",
      "source": [
        "replaced_text = re.sub(r\"string\", \"sentence\", text)\n",
        "print(replaced_text)"
      ],
      "metadata": {
        "id": "5HZFeZKhFzUe",
        "colab": {
          "base_uri": "https://localhost:8080/"
        },
        "outputId": "5916e9d6-25a5-483e-fa5b-d9241c9c7527"
      },
      "execution_count": null,
      "outputs": [
        {
          "output_type": "stream",
          "name": "stdout",
          "text": [
            "Search this sentence for patterns.\n"
          ]
        }
      ]
    },
    {
      "cell_type": "markdown",
      "source": [
        "6. Splitting a String\n",
        "To split a string by occurrences of a pattern:"
      ],
      "metadata": {
        "id": "AxsgekJpR8Yw"
      }
    },
    {
      "cell_type": "code",
      "source": [
        "words = re.split(r\"\\s+\", text)  # Split on one or more spaces\n",
        "print(words)"
      ],
      "metadata": {
        "id": "4bmXCgNAFzSB",
        "colab": {
          "base_uri": "https://localhost:8080/"
        },
        "outputId": "c557f040-01f8-4e26-8b4a-9aba659363e9"
      },
      "execution_count": null,
      "outputs": [
        {
          "output_type": "stream",
          "name": "stdout",
          "text": [
            "['Search', 'this', 'string', 'for', 'patterns.']\n"
          ]
        }
      ]
    },
    {
      "cell_type": "markdown",
      "source": [
        "7. Escaping Special Characters\n",
        "To match special characters literally, escape them:"
      ],
      "metadata": {
        "id": "Dy6Fs6eHR9t1"
      }
    },
    {
      "cell_type": "code",
      "source": [
        "escaped = re.search(r\"\\bfor\\b\", text)  # \\b is a word boundary"
      ],
      "metadata": {
        "id": "RtHMRYIyFzPh"
      },
      "execution_count": null,
      "outputs": []
    },
    {
      "cell_type": "markdown",
      "source": [
        "8. Grouping and Capturing\n",
        "To group parts of a pattern and extract their values:"
      ],
      "metadata": {
        "id": "VzojM6bZR_2Y"
      }
    },
    {
      "cell_type": "code",
      "source": [
        "match = re.search(r\"(\\w+) (\\w+)\", text)\n",
        "if match:\n",
        "    print(match.group())  # The whole match\n",
        "    print(match.group(1)) # The first group"
      ],
      "metadata": {
        "id": "rcjZfoJhFzNF",
        "colab": {
          "base_uri": "https://localhost:8080/"
        },
        "outputId": "b38e1f6c-2e7e-4601-f7f1-b007665dc849"
      },
      "execution_count": null,
      "outputs": [
        {
          "output_type": "stream",
          "name": "stdout",
          "text": [
            "Search this\n",
            "Search\n"
          ]
        }
      ]
    },
    {
      "cell_type": "markdown",
      "source": [
        "9. Non-Capturing Groups\n",
        "To define groups without capturing them:"
      ],
      "metadata": {
        "id": "pyvwmhEKSBhQ"
      }
    },
    {
      "cell_type": "code",
      "source": [
        "match = re.search(r\"(?:\\w+) (\\w+)\", text)\n",
        "if match:\n",
        "    print(match.group(1))  # The first (and only) group"
      ],
      "metadata": {
        "id": "qPl-BArIFzKL",
        "colab": {
          "base_uri": "https://localhost:8080/"
        },
        "outputId": "fd294781-5be0-442f-add7-5d4007a39749"
      },
      "execution_count": null,
      "outputs": [
        {
          "output_type": "stream",
          "name": "stdout",
          "text": [
            "this\n"
          ]
        }
      ]
    },
    {
      "cell_type": "markdown",
      "source": [
        "10. Lookahead and Lookbehind Assertions\n",
        "To match a pattern based on what comes before or after it without including it in the result:"
      ],
      "metadata": {
        "id": "kPXvKjUzSDM2"
      }
    },
    {
      "cell_type": "code",
      "source": [
        "lookahead = re.search(r\"\\b\\w+(?= string)\", text)  # Word before ' string'\n",
        "lookbehind = re.search(r\"(?<=Search )\\w+\", text)  # Word after 'Search '\n",
        "if lookahead:\n",
        "    print(lookahead.group())\n",
        "if lookbehind:\n",
        "    print(lookbehind.group())"
      ],
      "metadata": {
        "id": "ys0i6kqYFzIV",
        "colab": {
          "base_uri": "https://localhost:8080/"
        },
        "outputId": "9e1d4518-fc7f-4573-93ff-b0293092ed37"
      },
      "execution_count": null,
      "outputs": [
        {
          "output_type": "stream",
          "name": "stdout",
          "text": [
            "this\n",
            "this\n"
          ]
        }
      ]
    },
    {
      "cell_type": "markdown",
      "source": [
        "11. Flags to Modify Pattern Matching Behavior\n",
        "To use flags like re.IGNORECASE to change how patterns are matched:"
      ],
      "metadata": {
        "id": "FFcdiXajSRym"
      }
    },
    {
      "cell_type": "code",
      "source": [
        "case_insensitive = re.findall(r\"search\", text, re.IGNORECASE)\n",
        "print(case_insensitive)"
      ],
      "metadata": {
        "id": "0UIfnMGyFzFX",
        "colab": {
          "base_uri": "https://localhost:8080/"
        },
        "outputId": "442c2b42-169d-4f31-f154-5dd8d15d88bd"
      },
      "execution_count": null,
      "outputs": [
        {
          "output_type": "stream",
          "name": "stdout",
          "text": [
            "['Search']\n"
          ]
        }
      ]
    },
    {
      "cell_type": "markdown",
      "source": [
        "12. Using Named Groups\n",
        "To assign names to groups and reference them by name:"
      ],
      "metadata": {
        "id": "XWki_XOpSTQd"
      }
    },
    {
      "cell_type": "code",
      "source": [
        "match = re.search(r\"(?P<first>\\w+) (?P<second>\\w+)\", text)\n",
        "if match:\n",
        "    print(match.group('first'))\n",
        "    print(match.group('second'))"
      ],
      "metadata": {
        "id": "ppysUsuJFzCs",
        "colab": {
          "base_uri": "https://localhost:8080/"
        },
        "outputId": "d724ffe1-7a87-4ccb-b877-a8d1ad8b3db2"
      },
      "execution_count": null,
      "outputs": [
        {
          "output_type": "stream",
          "name": "stdout",
          "text": [
            "Search\n",
            "this\n"
          ]
        }
      ]
    },
    {
      "cell_type": "markdown",
      "source": [
        "13. Matching Across Multiple Lines\n",
        "To match patterns over multiple lines using the re.MULTILINE flag:"
      ],
      "metadata": {
        "id": "-YOwEfrDSVw_"
      }
    },
    {
      "cell_type": "code",
      "source": [
        "multi_line_text = \"Start\\nmiddle end\"\n",
        "matches = re.findall(r\"^m\\w+\", multi_line_text, re.MULTILINE)\n",
        "print(matches)"
      ],
      "metadata": {
        "id": "BznKTIpUFy_4",
        "colab": {
          "base_uri": "https://localhost:8080/"
        },
        "outputId": "4cbd30b3-3a33-4654-b2c2-6a698cfb214d"
      },
      "execution_count": null,
      "outputs": [
        {
          "output_type": "stream",
          "name": "stdout",
          "text": [
            "['middle']\n"
          ]
        }
      ]
    },
    {
      "cell_type": "markdown",
      "source": [
        "14. Lazy Quantifiers\n",
        "To match as few characters as possible using lazy quantifiers (*?, +?, ??):"
      ],
      "metadata": {
        "id": "pG_eGIItSXI2"
      }
    },
    {
      "cell_type": "code",
      "source": [
        "html = \"<body><h1>Title</h1></body>\"\n",
        "match = re.search(r\"<.*?>\", html)\n",
        "if match:\n",
        "    print(match.group())  # Matches '<body>'"
      ],
      "metadata": {
        "id": "NersigpWFy9Q",
        "colab": {
          "base_uri": "https://localhost:8080/"
        },
        "outputId": "0e8fc751-3b08-4adb-c5b6-709bea1c976d"
      },
      "execution_count": null,
      "outputs": [
        {
          "output_type": "stream",
          "name": "stdout",
          "text": [
            "<body>\n"
          ]
        }
      ]
    },
    {
      "cell_type": "markdown",
      "source": [
        "15. Verbose Regular Expressions\n",
        "To use re.VERBOSE for more readable regular expressions:"
      ],
      "metadata": {
        "id": "LS9KOyqnSYkR"
      }
    },
    {
      "cell_type": "code",
      "source": [
        "pattern = re.compile(r\"\"\"\n",
        "    \\b      # Word boundary\n",
        "    \\w+     # One or more word characters\n",
        "    \\s      # Space\n",
        "    \"\"\", re.VERBOSE)\n",
        "match = pattern.search(text)"
      ],
      "metadata": {
        "id": "EfuKS577F_T6"
      },
      "execution_count": null,
      "outputs": []
    },
    {
      "cell_type": "markdown",
      "source": [
        "## Working With Strings\n",
        "1. Concatenating Strings\n",
        "To join strings together:"
      ],
      "metadata": {
        "id": "np-HwQXfSaPa"
      }
    },
    {
      "cell_type": "code",
      "source": [
        "greeting = \"Hello\"\n",
        "name = \"Alice\"\n",
        "message = greeting + \", \" + name + \"!\"\n",
        "print(message)"
      ],
      "metadata": {
        "id": "AaKEYSHOF_Ro",
        "colab": {
          "base_uri": "https://localhost:8080/"
        },
        "outputId": "ee426cfe-ad69-4484-8632-26eb4d064667"
      },
      "execution_count": null,
      "outputs": [
        {
          "output_type": "stream",
          "name": "stdout",
          "text": [
            "Hello, Alice!\n"
          ]
        }
      ]
    },
    {
      "cell_type": "markdown",
      "source": [
        "2. String Formatting with str.format\n",
        "To insert values into a string template:"
      ],
      "metadata": {
        "id": "-SjfsaAhSfmc"
      }
    },
    {
      "cell_type": "code",
      "source": [
        "message = \"{}, {}. Welcome!\".format(greeting, name)\n",
        "print(message)"
      ],
      "metadata": {
        "id": "_g4oztCCF_Ov",
        "colab": {
          "base_uri": "https://localhost:8080/"
        },
        "outputId": "6833b575-a39e-4888-c424-e4c8c63f32c8"
      },
      "execution_count": null,
      "outputs": [
        {
          "output_type": "stream",
          "name": "stdout",
          "text": [
            "Hello, Alice. Welcome!\n"
          ]
        }
      ]
    },
    {
      "cell_type": "markdown",
      "source": [
        "3. Formatted String Literals (f-strings)\n",
        "To embed expressions inside string literals (Python 3.6+):"
      ],
      "metadata": {
        "id": "HcKyGdiwShJC"
      }
    },
    {
      "cell_type": "code",
      "source": [
        "message = f\"{greeting}, {name}. Welcome!\"\n",
        "print(message)"
      ],
      "metadata": {
        "id": "yiB1zPAAF_MG",
        "colab": {
          "base_uri": "https://localhost:8080/"
        },
        "outputId": "aaf8625b-6021-4519-dec3-8835e1ccc39d"
      },
      "execution_count": null,
      "outputs": [
        {
          "output_type": "stream",
          "name": "stdout",
          "text": [
            "Hello, Alice. Welcome!\n"
          ]
        }
      ]
    },
    {
      "cell_type": "markdown",
      "source": [
        "4. String Methods — Case Conversion\n",
        "To change the case of a string:"
      ],
      "metadata": {
        "id": "pWdNJPEjSm3B"
      }
    },
    {
      "cell_type": "code",
      "source": [
        "s = \"Python\"\n",
        "print(s.upper())  # Uppercase\n",
        "print(s.lower())  # Lowercase\n",
        "print(s.title())  # Title Case"
      ],
      "metadata": {
        "id": "bZzwJw26F_J4",
        "colab": {
          "base_uri": "https://localhost:8080/"
        },
        "outputId": "2183b406-8b2b-47c6-9264-8e341870a339"
      },
      "execution_count": null,
      "outputs": [
        {
          "output_type": "stream",
          "name": "stdout",
          "text": [
            "PYTHON\n",
            "python\n",
            "Python\n"
          ]
        }
      ]
    },
    {
      "cell_type": "markdown",
      "source": [
        "5. String Methods — strip, rstrip, lstrip\n",
        "To remove whitespace or specific characters from the ends of a string:"
      ],
      "metadata": {
        "id": "gNmbuxcjSiig"
      }
    },
    {
      "cell_type": "code",
      "source": [
        "s = \"   trim me   \"\n",
        "print(s.strip())   # Both ends\n",
        "print(s.rstrip())  # Right end\n",
        "print(s.lstrip())  # Left end"
      ],
      "metadata": {
        "id": "4ByP96UOF_HP",
        "colab": {
          "base_uri": "https://localhost:8080/"
        },
        "outputId": "f1537702-1f03-4aac-8bdc-4e8e38dee944"
      },
      "execution_count": null,
      "outputs": [
        {
          "output_type": "stream",
          "name": "stdout",
          "text": [
            "trim me\n",
            "   trim me\n",
            "trim me   \n"
          ]
        }
      ]
    },
    {
      "cell_type": "markdown",
      "source": [
        "6. String Methods — startswith, endswith\n",
        "To check the start or end of a string for specific text:"
      ],
      "metadata": {
        "id": "4MsPohHrSrUU"
      }
    },
    {
      "cell_type": "code",
      "source": [
        "s = \"filename.txt\"\n",
        "print(s.startswith(\"file\"))  # True\n",
        "print(s.endswith(\".txt\"))    # True"
      ],
      "metadata": {
        "id": "f2sNK7gKF_E2",
        "colab": {
          "base_uri": "https://localhost:8080/"
        },
        "outputId": "f725460c-7cda-42bf-d407-31fa2d9ba86a"
      },
      "execution_count": null,
      "outputs": [
        {
          "output_type": "stream",
          "name": "stdout",
          "text": [
            "True\n",
            "True\n"
          ]
        }
      ]
    },
    {
      "cell_type": "markdown",
      "source": [
        "7. String Methods — split, join\n",
        "To split a string into a list or join a list into a string:"
      ],
      "metadata": {
        "id": "ai3KER3KSsz7"
      }
    },
    {
      "cell_type": "code",
      "source": [
        "s = \"split,this,string\"\n",
        "words = s.split(\",\")        # Split string into list\n",
        "joined = \" \".join(words)    # Join list into string\n",
        "print(words)\n",
        "print(joined)"
      ],
      "metadata": {
        "id": "dllj1NZIF_Cj",
        "colab": {
          "base_uri": "https://localhost:8080/"
        },
        "outputId": "660984bc-846c-4633-9284-79f1f812d1c5"
      },
      "execution_count": null,
      "outputs": [
        {
          "output_type": "stream",
          "name": "stdout",
          "text": [
            "['split', 'this', 'string']\n",
            "split this string\n"
          ]
        }
      ]
    },
    {
      "cell_type": "markdown",
      "source": [
        "8. String Methods — replace\n",
        "To replace parts of a string with another string:"
      ],
      "metadata": {
        "id": "3gt6IbKVSual"
      }
    },
    {
      "cell_type": "code",
      "source": [
        "s = \"Hello world\"\n",
        "new_s = s.replace(\"world\", \"Python\")\n",
        "print(new_s)"
      ],
      "metadata": {
        "id": "foFHgC37F_AP",
        "colab": {
          "base_uri": "https://localhost:8080/"
        },
        "outputId": "68bb91e4-1060-4686-ff58-8b2c609c4622"
      },
      "execution_count": null,
      "outputs": [
        {
          "output_type": "stream",
          "name": "stdout",
          "text": [
            "Hello Python\n"
          ]
        }
      ]
    },
    {
      "cell_type": "markdown",
      "source": [
        "9. String Methods — find, index\n",
        "To find the position of a substring within a string:"
      ],
      "metadata": {
        "id": "3foOjGTXSwfA"
      }
    },
    {
      "cell_type": "code",
      "source": [
        "s = \"look for a substring\"\n",
        "position = s.find(\"substring\")  # Returns -1 if not found\n",
        "index = s.index(\"substring\")    # Raises ValueError if not found\n",
        "print(position)\n",
        "print(index)"
      ],
      "metadata": {
        "id": "E0FoHxy1F-9D",
        "colab": {
          "base_uri": "https://localhost:8080/"
        },
        "outputId": "c43cb9a6-fdb0-4cdd-8a26-bd30f48c73bc"
      },
      "execution_count": null,
      "outputs": [
        {
          "output_type": "stream",
          "name": "stdout",
          "text": [
            "11\n",
            "11\n"
          ]
        }
      ]
    },
    {
      "cell_type": "markdown",
      "source": [
        "10. String Methods — Working with Characters\n",
        "To process individual characters in a string:"
      ],
      "metadata": {
        "id": "WeUz0I-BSzE5"
      }
    },
    {
      "cell_type": "code",
      "source": [
        "s = \"characters\"\n",
        "for char in s:\n",
        "    print(char)  # Prints each character on a new line"
      ],
      "metadata": {
        "id": "wU-jCsygF-6p",
        "colab": {
          "base_uri": "https://localhost:8080/"
        },
        "outputId": "d2fb2b9d-3fa6-4275-b5d2-9ed523298301"
      },
      "execution_count": null,
      "outputs": [
        {
          "output_type": "stream",
          "name": "stdout",
          "text": [
            "c\n",
            "h\n",
            "a\n",
            "r\n",
            "a\n",
            "c\n",
            "t\n",
            "e\n",
            "r\n",
            "s\n"
          ]
        }
      ]
    },
    {
      "cell_type": "markdown",
      "source": [
        "11. String Methods — isdigit, isalpha, isalnum\n",
        "To check if a string contains only digits, alphabetic characters, or alphanumeric characters:"
      ],
      "metadata": {
        "id": "NsLOZXE4S0iw"
      }
    },
    {
      "cell_type": "code",
      "source": [
        "print(\"123\".isdigit())   # True\n",
        "print(\"abc\".isalpha())   # True\n",
        "print(\"abc123\".isalnum())# True"
      ],
      "metadata": {
        "id": "yG6Z8oS1F-27",
        "colab": {
          "base_uri": "https://localhost:8080/"
        },
        "outputId": "96984b5a-f11f-4348-925c-3e51f05229f8"
      },
      "execution_count": null,
      "outputs": [
        {
          "output_type": "stream",
          "name": "stdout",
          "text": [
            "True\n",
            "True\n",
            "True\n"
          ]
        }
      ]
    },
    {
      "cell_type": "markdown",
      "source": [
        "12. String Slicing\n",
        "To extract a substring using slicing:"
      ],
      "metadata": {
        "id": "_ff4Ft5pS2Ty"
      }
    },
    {
      "cell_type": "code",
      "source": [
        "s = \"slice me\"\n",
        "sub = s[2:7]  # From 3rd to 7th character\n",
        "print(sub)"
      ],
      "metadata": {
        "id": "YjAfFSSuGN66",
        "colab": {
          "base_uri": "https://localhost:8080/"
        },
        "outputId": "4024edd7-675a-4816-9e7e-19578fcc08b5"
      },
      "execution_count": null,
      "outputs": [
        {
          "output_type": "stream",
          "name": "stdout",
          "text": [
            "ice m\n"
          ]
        }
      ]
    },
    {
      "cell_type": "markdown",
      "source": [
        "13. String Length with len\n",
        "To get the length of a string:"
      ],
      "metadata": {
        "id": "2emqCaP5S3ls"
      }
    },
    {
      "cell_type": "code",
      "source": [
        "s = \"length\"\n",
        "print(len(s))  # 6"
      ],
      "metadata": {
        "id": "M5Y0Aj3cGN4S",
        "colab": {
          "base_uri": "https://localhost:8080/"
        },
        "outputId": "4d3b9dd9-179d-48df-a9e3-685565abae6a"
      },
      "execution_count": null,
      "outputs": [
        {
          "output_type": "stream",
          "name": "stdout",
          "text": [
            "6\n"
          ]
        }
      ]
    },
    {
      "cell_type": "markdown",
      "source": [
        "14. Multiline Strings\n",
        "To work with strings spanning multiple lines:"
      ],
      "metadata": {
        "id": "B1Y4QiEAS6Ua"
      }
    },
    {
      "cell_type": "code",
      "source": [
        "multi = \"\"\"Line one\n",
        "Line two\n",
        "Line three\"\"\"\n",
        "print(multi)"
      ],
      "metadata": {
        "id": "Bs6V4Q1KGN19",
        "colab": {
          "base_uri": "https://localhost:8080/"
        },
        "outputId": "055fd591-78c5-435c-843c-cd2fa840710d"
      },
      "execution_count": null,
      "outputs": [
        {
          "output_type": "stream",
          "name": "stdout",
          "text": [
            "Line one\n",
            "Line two\n",
            "Line three\n"
          ]
        }
      ]
    },
    {
      "cell_type": "markdown",
      "source": [
        "To treat backslashes as literal characters, useful for regex patterns and file paths:"
      ],
      "metadata": {
        "id": "7z9lK4UWS73N"
      }
    },
    {
      "cell_type": "code",
      "source": [
        "path = r\"C:\\User\\name\\folder\"\n",
        "print(path)"
      ],
      "metadata": {
        "id": "TZNOEBDoGNzi",
        "colab": {
          "base_uri": "https://localhost:8080/"
        },
        "outputId": "267869da-dd03-4dfe-d5ce-c54efbc31f1b"
      },
      "execution_count": null,
      "outputs": [
        {
          "output_type": "stream",
          "name": "stdout",
          "text": [
            "C:\\User\\name\\folder\n"
          ]
        }
      ]
    },
    {
      "cell_type": "markdown",
      "source": [
        "## Working With Web Scraping\n",
        "1. Fetching Web Pages with requests\n",
        "To retrieve the content of a web page:"
      ],
      "metadata": {
        "id": "qAGo1ZbHS9me"
      }
    },
    {
      "cell_type": "code",
      "source": [
        "import requests\n",
        "\n",
        "url = 'https://example.com'\n",
        "response = requests.get(url)\n",
        "html = response.text"
      ],
      "metadata": {
        "id": "bscpsP8FGNw4"
      },
      "execution_count": null,
      "outputs": []
    },
    {
      "cell_type": "markdown",
      "source": [
        "2. Parsing HTML with BeautifulSoup\n",
        "To parse HTML and extract data:"
      ],
      "metadata": {
        "id": "RyCu6D_XTAt1"
      }
    },
    {
      "cell_type": "code",
      "source": [
        "from bs4 import BeautifulSoup\n",
        "soup = BeautifulSoup(html, 'html.parser')\n",
        "print(soup.prettify())  # Pretty-print the HTML"
      ],
      "metadata": {
        "id": "QdIVNhr-GNul",
        "colab": {
          "base_uri": "https://localhost:8080/"
        },
        "outputId": "88688e13-50c4-4438-ef49-c0625b7df300"
      },
      "execution_count": null,
      "outputs": [
        {
          "output_type": "stream",
          "name": "stdout",
          "text": [
            "<!DOCTYPE html>\n",
            "<html>\n",
            " <head>\n",
            "  <title>\n",
            "   Example Domain\n",
            "  </title>\n",
            "  <meta charset=\"utf-8\"/>\n",
            "  <meta content=\"text/html; charset=utf-8\" http-equiv=\"Content-type\"/>\n",
            "  <meta content=\"width=device-width, initial-scale=1\" name=\"viewport\"/>\n",
            "  <style type=\"text/css\">\n",
            "   body {\n",
            "        background-color: #f0f0f2;\n",
            "        margin: 0;\n",
            "        padding: 0;\n",
            "        font-family: -apple-system, system-ui, BlinkMacSystemFont, \"Segoe UI\", \"Open Sans\", \"Helvetica Neue\", Helvetica, Arial, sans-serif;\n",
            "        \n",
            "    }\n",
            "    div {\n",
            "        width: 600px;\n",
            "        margin: 5em auto;\n",
            "        padding: 2em;\n",
            "        background-color: #fdfdff;\n",
            "        border-radius: 0.5em;\n",
            "        box-shadow: 2px 3px 7px 2px rgba(0,0,0,0.02);\n",
            "    }\n",
            "    a:link, a:visited {\n",
            "        color: #38488f;\n",
            "        text-decoration: none;\n",
            "    }\n",
            "    @media (max-width: 700px) {\n",
            "        div {\n",
            "            margin: 0 auto;\n",
            "            width: auto;\n",
            "        }\n",
            "    }\n",
            "  </style>\n",
            " </head>\n",
            " <body>\n",
            "  <div>\n",
            "   <h1>\n",
            "    Example Domain\n",
            "   </h1>\n",
            "   <p>\n",
            "    This domain is for use in illustrative examples in documents. You may use this\n",
            "    domain in literature without prior coordination or asking for permission.\n",
            "   </p>\n",
            "   <p>\n",
            "    <a href=\"https://www.iana.org/domains/example\">\n",
            "     More information...\n",
            "    </a>\n",
            "   </p>\n",
            "  </div>\n",
            " </body>\n",
            "</html>\n",
            "\n"
          ]
        }
      ]
    },
    {
      "cell_type": "markdown",
      "source": [
        "3. Navigating the HTML Tree\n",
        "To find elements using tags:"
      ],
      "metadata": {
        "id": "HmtrkuM5TCQQ"
      }
    },
    {
      "cell_type": "code",
      "source": [
        "title = soup.title.text  # Get the page title\n",
        "headings = soup.find_all('h1')  # List of all <h1> tags"
      ],
      "metadata": {
        "id": "02yQ6gMpGNsT"
      },
      "execution_count": null,
      "outputs": []
    },
    {
      "cell_type": "markdown",
      "source": [
        "4. Using CSS Selectors\n",
        "To select elements using CSS selectors:"
      ],
      "metadata": {
        "id": "i7-UWUYDTDst"
      }
    },
    {
      "cell_type": "code",
      "source": [
        "articles = soup.select('div.article')  # All elements with class 'article' inside a <div>"
      ],
      "metadata": {
        "id": "Mfv1c0qGGNp6"
      },
      "execution_count": null,
      "outputs": []
    },
    {
      "cell_type": "markdown",
      "source": [
        "5. Extracting Data from Tags\n",
        "To extract text and attributes from HTML elements:"
      ],
      "metadata": {
        "id": "RmWSEOKxTF4d"
      }
    },
    {
      "cell_type": "code",
      "source": [
        "for article in articles:\n",
        "    title = article.h2.text  # Text inside the <h2> tag\n",
        "    link = article.a['href']  # 'href' attribute of the <a> tag\n",
        "    print(title, link)"
      ],
      "metadata": {
        "id": "AGEA6W2wGNnA"
      },
      "execution_count": null,
      "outputs": []
    },
    {
      "cell_type": "markdown",
      "source": [
        "6. Handling Relative URLs\n",
        "To convert relative URLs to absolute URLs:"
      ],
      "metadata": {
        "id": "O-Sh7BaZTH6s"
      }
    },
    {
      "cell_type": "code",
      "source": [
        "from urllib.parse import urljoin\n",
        "absolute_urls = [urljoin(url, link) for link in relative_urls]"
      ],
      "metadata": {
        "id": "qcDDk2EWGNkD"
      },
      "execution_count": null,
      "outputs": []
    },
    {
      "cell_type": "markdown",
      "source": [
        "7. Dealing with Pagination\n",
        "To scrape content across multiple pages:"
      ],
      "metadata": {
        "id": "1bEqGhhlTJd3"
      }
    },
    {
      "cell_type": "code",
      "source": [
        "base_url = \"https://example.com/page/\"\n",
        "for page in range(1, 6):  # For 5 pages\n",
        "    page_url = base_url + str(page)\n",
        "    response = requests.get(page_url)\n",
        "    # Process each page's content"
      ],
      "metadata": {
        "id": "BykbJaqWGNhO"
      },
      "execution_count": null,
      "outputs": []
    },
    {
      "cell_type": "markdown",
      "source": [
        "8. Handling AJAX Requests\n",
        "To scrape data loaded by AJAX requests:"
      ],
      "metadata": {
        "id": "tQbX_b7xTLv6"
      }
    },
    {
      "cell_type": "code",
      "source": [
        "# Find the URL of the AJAX request (using browser's developer tools) and fetch it\n",
        "ajax_url = 'https://example.com/ajax_endpoint'\n",
        "data = requests.get(ajax_url).json()  # Assuming the response is JSON"
      ],
      "metadata": {
        "id": "b0-1POMrGejE"
      },
      "execution_count": null,
      "outputs": []
    },
    {
      "cell_type": "markdown",
      "source": [
        "9. Using Regular Expressions in Web Scraping\n",
        "To extract data using regular expressions:"
      ],
      "metadata": {
        "id": "-bPPd7dfTNnA"
      }
    },
    {
      "cell_type": "code",
      "source": [
        "import re\n",
        "emails = re.findall(r'\\b[A-Za-z0-9._%+-]+@[A-Za-z0-9.-]+\\.[A-Z|a-z]{2,}\\b', html)"
      ],
      "metadata": {
        "id": "qfT-EKB8Gef5"
      },
      "execution_count": null,
      "outputs": []
    },
    {
      "cell_type": "markdown",
      "source": [
        "10. Respecting robots.txt\n",
        "To check robots.txt for scraping permissions:"
      ],
      "metadata": {
        "id": "5LAXSen4TPHy"
      }
    },
    {
      "cell_type": "code",
      "source": [
        "from urllib.robotparser import RobotFileParser\n",
        "\n",
        "rp = RobotFileParser()\n",
        "rp.set_url('https://example.com/robots.txt')\n",
        "rp.read()\n",
        "can_scrape = rp.can_fetch('*', url)"
      ],
      "metadata": {
        "id": "TuCZMHREGedF"
      },
      "execution_count": null,
      "outputs": []
    },
    {
      "cell_type": "markdown",
      "source": [
        "11. Using Sessions and Cookies\n",
        "To maintain sessions and handle cookies:"
      ],
      "metadata": {
        "id": "QlfpIasSTRBb"
      }
    },
    {
      "cell_type": "code",
      "source": [
        "session = requests.Session()\n",
        "session.get('https://example.com/login')\n",
        "session.cookies.set('key', 'value')  # Set cookies, if needed\n",
        "response = session.get('https://example.com/protected_page')"
      ],
      "metadata": {
        "id": "bnhrwF1DGeUT"
      },
      "execution_count": null,
      "outputs": []
    },
    {
      "cell_type": "markdown",
      "source": [
        "12. Scraping with Browser Automation (selenium Library)\n",
        "To scrape dynamic content rendered by JavaScript:"
      ],
      "metadata": {
        "id": "NnPJCuTDTTuC"
      }
    },
    {
      "cell_type": "code",
      "source": [
        "from selenium import webdriver\n",
        "browser = webdriver.Chrome()\n",
        "browser.get('https://example.com')\n",
        "content = browser.page_source\n",
        "# Parse and extract data using BeautifulSoup, etc.\n",
        "browser.quit()"
      ],
      "metadata": {
        "id": "WR3uUAHQGePP"
      },
      "execution_count": null,
      "outputs": []
    },
    {
      "cell_type": "markdown",
      "source": [
        "13. Error Handling in Web Scraping\n",
        "To handle errors and exceptions:"
      ],
      "metadata": {
        "id": "p0aK0PdhTVbj"
      }
    },
    {
      "cell_type": "code",
      "source": [
        "try:\n",
        "    response = requests.get(url, timeout=5)\n",
        "    response.raise_for_status()  # Raises an error for bad status codes\n",
        "except requests.exceptions.RequestException as e:\n",
        "    print(f\"Error: {e}\")"
      ],
      "metadata": {
        "id": "PtcglpKoGeMl"
      },
      "execution_count": null,
      "outputs": []
    },
    {
      "cell_type": "markdown",
      "source": [
        "14. Asynchronous Web Scraping\n",
        "To scrape websites asynchronously for faster data retrieval:"
      ],
      "metadata": {
        "id": "PO0B2DnUTXQn"
      }
    },
    {
      "cell_type": "code",
      "source": [
        "import aiohttp\n",
        "import asyncio\n",
        "\n",
        "async def fetch(url):\n",
        "    async with aiohttp.ClientSession() as session:\n",
        "        async with session.get(url) as response:\n",
        "            return await response.text()\n",
        "\n",
        "urls = ['https://example.com/page1', 'https://example.com/page2']\n",
        "loop = asyncio.get_event_loop()\n",
        "pages = loop.run_until_complete(asyncio.gather(*(fetch(url) for url in urls)))"
      ],
      "metadata": {
        "id": "ydJFyCZJGeKR"
      },
      "execution_count": null,
      "outputs": []
    },
    {
      "cell_type": "markdown",
      "source": [
        "15. Data Storage (CSV, Database)\n",
        "To store scraped data in a CSV file or a database:"
      ],
      "metadata": {
        "id": "8qgakDyUTZPi"
      }
    },
    {
      "cell_type": "code",
      "source": [
        "import csv\n",
        "\n",
        "with open('output.csv', 'w', newline='') as file:\n",
        "    writer = csv.writer(file)\n",
        "    writer.writerow(['Title', 'URL'])\n",
        "    for article in articles:\n",
        "        writer.writerow([article['title'], article['url']])"
      ],
      "metadata": {
        "id": "JRyNUXkDGeHr"
      },
      "execution_count": null,
      "outputs": []
    },
    {
      "cell_type": "markdown",
      "source": [
        "## Working With pip (Package Management)\n",
        "1. Installing a Package"
      ],
      "metadata": {
        "id": "sBLyyMxITb9w"
      }
    },
    {
      "cell_type": "code",
      "source": [
        "!pip install numpy"
      ],
      "metadata": {
        "id": "LHx11RhfGeFR",
        "colab": {
          "base_uri": "https://localhost:8080/"
        },
        "outputId": "a18769f0-1849-41e8-d155-c32ac250b736"
      },
      "execution_count": null,
      "outputs": [
        {
          "output_type": "stream",
          "name": "stdout",
          "text": [
            "Requirement already satisfied: numpy in /usr/local/lib/python3.10/dist-packages (1.25.2)\n"
          ]
        }
      ]
    },
    {
      "cell_type": "markdown",
      "source": [
        "2. Listing Installed Packages\n",
        "To survey the compendium of libraries that reside within your realm, noting their versions and lineage:"
      ],
      "metadata": {
        "id": "hue6O53tTfiH"
      }
    },
    {
      "cell_type": "code",
      "source": [
        "!pip list"
      ],
      "metadata": {
        "id": "y9wE-giqGeCC",
        "colab": {
          "base_uri": "https://localhost:8080/"
        },
        "outputId": "9f63fde3-aa61-40c2-8518-d22d9a30ea19"
      },
      "execution_count": null,
      "outputs": [
        {
          "output_type": "stream",
          "name": "stdout",
          "text": [
            "Package                          Version\n",
            "-------------------------------- ---------------------\n",
            "absl-py                          1.4.0\n",
            "aiohttp                          3.9.3\n",
            "aiosignal                        1.3.1\n",
            "alabaster                        0.7.16\n",
            "albumentations                   1.3.1\n",
            "altair                           4.2.2\n",
            "annotated-types                  0.6.0\n",
            "anyio                            3.7.1\n",
            "appdirs                          1.4.4\n",
            "argon2-cffi                      23.1.0\n",
            "argon2-cffi-bindings             21.2.0\n",
            "array-record                     0.5.0\n",
            "arviz                            0.15.1\n",
            "astropy                          5.3.4\n",
            "astunparse                       1.6.3\n",
            "async-timeout                    4.0.3\n",
            "atpublic                         4.0\n",
            "attrs                            23.2.0\n",
            "audioread                        3.0.1\n",
            "autograd                         1.6.2\n",
            "Babel                            2.14.0\n",
            "backcall                         0.2.0\n",
            "beautifulsoup4                   4.12.3\n",
            "bidict                           0.23.0\n",
            "bigframes                        0.21.0\n",
            "bleach                           6.1.0\n",
            "blinker                          1.4\n",
            "blis                             0.7.11\n",
            "blosc2                           2.0.0\n",
            "bokeh                            3.3.4\n",
            "bqplot                           0.12.42\n",
            "branca                           0.7.1\n",
            "build                            1.0.3\n",
            "CacheControl                     0.14.0\n",
            "cachetools                       5.3.2\n",
            "catalogue                        2.0.10\n",
            "certifi                          2024.2.2\n",
            "cffi                             1.16.0\n",
            "chardet                          5.2.0\n",
            "charset-normalizer               3.3.2\n",
            "chex                             0.1.85\n",
            "click                            8.1.7\n",
            "click-plugins                    1.1.1\n",
            "cligj                            0.7.2\n",
            "cloudpathlib                     0.16.0\n",
            "cloudpickle                      2.2.1\n",
            "cmake                            3.27.9\n",
            "cmdstanpy                        1.2.1\n",
            "colorcet                         3.0.1\n",
            "colorlover                       0.3.0\n",
            "colour                           0.1.5\n",
            "community                        1.0.0b1\n",
            "confection                       0.1.4\n",
            "cons                             0.4.6\n",
            "contextlib2                      21.6.0\n",
            "contourpy                        1.2.0\n",
            "cryptography                     42.0.3\n",
            "cufflinks                        0.17.3\n",
            "cupy-cuda12x                     12.2.0\n",
            "cvxopt                           1.3.2\n",
            "cvxpy                            1.3.3\n",
            "cycler                           0.12.1\n",
            "cymem                            2.0.8\n",
            "Cython                           3.0.8\n",
            "dask                             2023.8.1\n",
            "datascience                      0.17.6\n",
            "db-dtypes                        1.2.0\n",
            "dbus-python                      1.2.18\n",
            "debugpy                          1.6.6\n",
            "decorator                        4.4.2\n",
            "defusedxml                       0.7.1\n",
            "distributed                      2023.8.1\n",
            "distro                           1.7.0\n",
            "dlib                             19.24.2\n",
            "dm-tree                          0.1.8\n",
            "docutils                         0.18.1\n",
            "dopamine-rl                      4.0.6\n",
            "duckdb                           0.9.2\n",
            "earthengine-api                  0.1.390\n",
            "easydict                         1.12\n",
            "ecos                             2.0.13\n",
            "editdistance                     0.6.2\n",
            "eerepr                           0.0.4\n",
            "en-core-web-sm                   3.7.1\n",
            "entrypoints                      0.4\n",
            "et-xmlfile                       1.1.0\n",
            "etils                            1.7.0\n",
            "etuples                          0.3.9\n",
            "exceptiongroup                   1.2.0\n",
            "fastai                           2.7.14\n",
            "fastcore                         1.5.29\n",
            "fastdownload                     0.0.7\n",
            "fastjsonschema                   2.19.1\n",
            "fastprogress                     1.0.3\n",
            "fastrlock                        0.8.2\n",
            "filelock                         3.13.1\n",
            "fiona                            1.9.5\n",
            "firebase-admin                   5.3.0\n",
            "Flask                            2.2.5\n",
            "flatbuffers                      23.5.26\n",
            "flax                             0.8.1\n",
            "folium                           0.14.0\n",
            "fonttools                        4.49.0\n",
            "frozendict                       2.4.0\n",
            "frozenlist                       1.4.1\n",
            "fsspec                           2023.6.0\n",
            "future                           0.18.3\n",
            "gast                             0.5.4\n",
            "gcsfs                            2023.6.0\n",
            "GDAL                             3.6.4\n",
            "gdown                            4.7.3\n",
            "geemap                           0.31.0\n",
            "gensim                           4.3.2\n",
            "geocoder                         1.38.1\n",
            "geographiclib                    2.0\n",
            "geopandas                        0.13.2\n",
            "geopy                            2.3.0\n",
            "gin-config                       0.5.0\n",
            "glob2                            0.7\n",
            "google                           2.0.3\n",
            "google-ai-generativelanguage     0.4.0\n",
            "google-api-core                  2.11.1\n",
            "google-api-python-client         2.84.0\n",
            "google-auth                      2.27.0\n",
            "google-auth-httplib2             0.1.1\n",
            "google-auth-oauthlib             1.2.0\n",
            "google-cloud-aiplatform          1.42.1\n",
            "google-cloud-bigquery            3.12.0\n",
            "google-cloud-bigquery-connection 1.12.1\n",
            "google-cloud-bigquery-storage    2.24.0\n",
            "google-cloud-core                2.3.3\n",
            "google-cloud-datastore           2.15.2\n",
            "google-cloud-firestore           2.11.1\n",
            "google-cloud-functions           1.13.3\n",
            "google-cloud-iam                 2.14.1\n",
            "google-cloud-language            2.13.1\n",
            "google-cloud-resource-manager    1.12.1\n",
            "google-cloud-storage             2.8.0\n",
            "google-cloud-translate           3.11.3\n",
            "google-colab                     1.0.0\n",
            "google-crc32c                    1.5.0\n",
            "google-generativeai              0.3.2\n",
            "google-pasta                     0.2.0\n",
            "google-resumable-media           2.7.0\n",
            "googleapis-common-protos         1.62.0\n",
            "googledrivedownloader            0.4\n",
            "graphviz                         0.20.1\n",
            "greenlet                         3.0.3\n",
            "grpc-google-iam-v1               0.13.0\n",
            "grpcio                           1.60.1\n",
            "grpcio-status                    1.48.2\n",
            "gspread                          3.4.2\n",
            "gspread-dataframe                3.3.1\n",
            "gym                              0.25.2\n",
            "gym-notices                      0.0.8\n",
            "h5netcdf                         1.3.0\n",
            "h5py                             3.9.0\n",
            "holidays                         0.42\n",
            "holoviews                        1.17.1\n",
            "html5lib                         1.1\n",
            "httpimport                       1.3.1\n",
            "httplib2                         0.22.0\n",
            "huggingface-hub                  0.20.3\n",
            "humanize                         4.7.0\n",
            "hyperopt                         0.2.7\n",
            "ibis-framework                   7.1.0\n",
            "idna                             3.6\n",
            "imageio                          2.31.6\n",
            "imageio-ffmpeg                   0.4.9\n",
            "imagesize                        1.4.1\n",
            "imbalanced-learn                 0.10.1\n",
            "imgaug                           0.4.0\n",
            "importlib-metadata               7.0.1\n",
            "importlib-resources              6.1.1\n",
            "imutils                          0.5.4\n",
            "inflect                          7.0.0\n",
            "iniconfig                        2.0.0\n",
            "intel-openmp                     2023.2.3\n",
            "ipyevents                        2.0.2\n",
            "ipyfilechooser                   0.6.0\n",
            "ipykernel                        5.5.6\n",
            "ipyleaflet                       0.18.2\n",
            "ipython                          7.34.0\n",
            "ipython-genutils                 0.2.0\n",
            "ipython-sql                      0.5.0\n",
            "ipytree                          0.2.2\n",
            "ipywidgets                       7.7.1\n",
            "itsdangerous                     2.1.2\n",
            "jax                              0.4.23\n",
            "jaxlib                           0.4.23+cuda12.cudnn89\n",
            "jeepney                          0.7.1\n",
            "jieba                            0.42.1\n",
            "Jinja2                           3.1.3\n",
            "joblib                           1.3.2\n",
            "jsonpickle                       3.0.2\n",
            "jsonschema                       4.19.2\n",
            "jsonschema-specifications        2023.12.1\n",
            "jupyter-client                   6.1.12\n",
            "jupyter-console                  6.1.0\n",
            "jupyter_core                     5.7.1\n",
            "jupyter-server                   1.24.0\n",
            "jupyterlab_pygments              0.3.0\n",
            "jupyterlab_widgets               3.0.10\n",
            "kaggle                           1.5.16\n",
            "kagglehub                        0.1.9\n",
            "keras                            2.15.0\n",
            "keyring                          23.5.0\n",
            "kiwisolver                       1.4.5\n",
            "langcodes                        3.3.0\n",
            "launchpadlib                     1.10.16\n",
            "lazr.restfulclient               0.14.4\n",
            "lazr.uri                         1.0.6\n",
            "lazy_loader                      0.3\n",
            "libclang                         16.0.6\n",
            "librosa                          0.10.1\n",
            "lightgbm                         4.1.0\n",
            "linkify-it-py                    2.0.3\n",
            "llvmlite                         0.41.1\n",
            "locket                           1.0.0\n",
            "logical-unification              0.4.6\n",
            "lxml                             4.9.4\n",
            "malloy                           2023.1067\n",
            "Markdown                         3.5.2\n",
            "markdown-it-py                   3.0.0\n",
            "MarkupSafe                       2.1.5\n",
            "matplotlib                       3.7.1\n",
            "matplotlib-inline                0.1.6\n",
            "matplotlib-venn                  0.11.10\n",
            "mdit-py-plugins                  0.4.0\n",
            "mdurl                            0.1.2\n",
            "miniKanren                       1.0.3\n",
            "missingno                        0.5.2\n",
            "mistune                          0.8.4\n",
            "mizani                           0.9.3\n",
            "mkl                              2023.2.0\n",
            "ml-dtypes                        0.2.0\n",
            "mlxtend                          0.22.0\n",
            "more-itertools                   10.1.0\n",
            "moviepy                          1.0.3\n",
            "mpmath                           1.3.0\n",
            "msgpack                          1.0.7\n",
            "multidict                        6.0.5\n",
            "multipledispatch                 1.0.0\n",
            "multitasking                     0.0.11\n",
            "murmurhash                       1.0.10\n",
            "music21                          9.1.0\n",
            "natsort                          8.4.0\n",
            "nbclassic                        1.0.0\n",
            "nbclient                         0.9.0\n",
            "nbconvert                        6.5.4\n",
            "nbformat                         5.9.2\n",
            "nest-asyncio                     1.6.0\n",
            "networkx                         3.2.1\n",
            "nibabel                          4.0.2\n",
            "nltk                             3.8.1\n",
            "notebook                         6.5.5\n",
            "notebook_shim                    0.2.4\n",
            "numba                            0.58.1\n",
            "numexpr                          2.9.0\n",
            "numpy                            1.25.2\n",
            "oauth2client                     4.1.3\n",
            "oauthlib                         3.2.2\n",
            "opencv-contrib-python            4.8.0.76\n",
            "opencv-python                    4.8.0.76\n",
            "opencv-python-headless           4.9.0.80\n",
            "openpyxl                         3.1.2\n",
            "opt-einsum                       3.3.0\n",
            "optax                            0.1.9\n",
            "orbax-checkpoint                 0.4.4\n",
            "osqp                             0.6.2.post8\n",
            "packaging                        23.2\n",
            "pandas                           1.5.3\n",
            "pandas-datareader                0.10.0\n",
            "pandas-gbq                       0.19.2\n",
            "pandas-stubs                     1.5.3.230304\n",
            "pandocfilters                    1.5.1\n",
            "panel                            1.3.8\n",
            "param                            2.0.2\n",
            "parso                            0.8.3\n",
            "parsy                            2.1\n",
            "partd                            1.4.1\n",
            "pathlib                          1.0.1\n",
            "patsy                            0.5.6\n",
            "peewee                           3.17.1\n",
            "pexpect                          4.9.0\n",
            "pickleshare                      0.7.5\n",
            "Pillow                           9.4.0\n",
            "pins                             0.8.4\n",
            "pip                              23.1.2\n",
            "pip-tools                        6.13.0\n",
            "platformdirs                     4.2.0\n",
            "plotly                           5.15.0\n",
            "plotnine                         0.12.4\n",
            "pluggy                           1.4.0\n",
            "polars                           0.20.2\n",
            "pooch                            1.8.0\n",
            "portpicker                       1.5.2\n",
            "prefetch-generator               1.0.3\n",
            "preshed                          3.0.9\n",
            "prettytable                      3.9.0\n",
            "proglog                          0.1.10\n",
            "progressbar2                     4.2.0\n",
            "prometheus_client                0.20.0\n",
            "promise                          2.3\n",
            "prompt-toolkit                   3.0.43\n",
            "prophet                          1.1.5\n",
            "proto-plus                       1.23.0\n",
            "protobuf                         3.20.3\n",
            "psutil                           5.9.5\n",
            "psycopg2                         2.9.9\n",
            "ptyprocess                       0.7.0\n",
            "py-cpuinfo                       9.0.0\n",
            "py4j                             0.10.9.7\n",
            "pyarrow                          14.0.2\n",
            "pyarrow-hotfix                   0.6\n",
            "pyasn1                           0.5.1\n",
            "pyasn1-modules                   0.3.0\n",
            "pycocotools                      2.0.7\n",
            "pycparser                        2.21\n",
            "pyct                             0.5.0\n",
            "pydantic                         2.6.1\n",
            "pydantic_core                    2.16.2\n",
            "pydata-google-auth               1.8.2\n",
            "pydot                            1.4.2\n",
            "pydot-ng                         2.0.0\n",
            "pydotplus                        2.0.2\n",
            "PyDrive                          1.3.1\n",
            "PyDrive2                         1.6.3\n",
            "pyerfa                           2.0.1.1\n",
            "pygame                           2.5.2\n",
            "Pygments                         2.16.1\n",
            "PyGObject                        3.42.1\n",
            "PyJWT                            2.3.0\n",
            "pymc                             5.7.2\n",
            "pymystem3                        0.2.0\n",
            "PyOpenGL                         3.1.7\n",
            "pyOpenSSL                        24.0.0\n",
            "pyparsing                        3.1.1\n",
            "pyperclip                        1.8.2\n",
            "pyproj                           3.6.1\n",
            "pyproject_hooks                  1.0.0\n",
            "pyshp                            2.3.1\n",
            "PySocks                          1.7.1\n",
            "pytensor                         2.14.2\n",
            "pytest                           7.4.4\n",
            "python-apt                       0.0.0\n",
            "python-box                       7.1.1\n",
            "python-dateutil                  2.8.2\n",
            "python-louvain                   0.16\n",
            "python-slugify                   8.0.4\n",
            "python-utils                     3.8.2\n",
            "pytz                             2023.4\n",
            "pyviz_comms                      3.0.1\n",
            "PyWavelets                       1.5.0\n",
            "PyYAML                           6.0.1\n",
            "pyzmq                            23.2.1\n",
            "qdldl                            0.1.7.post0\n",
            "qudida                           0.0.4\n",
            "ratelim                          0.1.6\n",
            "referencing                      0.33.0\n",
            "regex                            2023.12.25\n",
            "requests                         2.31.0\n",
            "requests-oauthlib                1.3.1\n",
            "requirements-parser              0.5.0\n",
            "rich                             13.7.0\n",
            "rpds-py                          0.18.0\n",
            "rpy2                             3.4.2\n",
            "rsa                              4.9\n",
            "safetensors                      0.4.2\n",
            "scikit-image                     0.19.3\n",
            "scikit-learn                     1.2.2\n",
            "scipy                            1.11.4\n",
            "scooby                           0.9.2\n",
            "scs                              3.2.4.post1\n",
            "seaborn                          0.13.1\n",
            "SecretStorage                    3.3.1\n",
            "Send2Trash                       1.8.2\n",
            "sentencepiece                    0.1.99\n",
            "setuptools                       67.7.2\n",
            "shapely                          2.0.3\n",
            "six                              1.16.0\n",
            "sklearn-pandas                   2.2.0\n",
            "smart-open                       6.4.0\n",
            "sniffio                          1.3.0\n",
            "snowballstemmer                  2.2.0\n",
            "sortedcontainers                 2.4.0\n",
            "soundfile                        0.12.1\n",
            "soupsieve                        2.5\n",
            "soxr                             0.3.7\n",
            "spacy                            3.7.4\n",
            "spacy-legacy                     3.0.12\n",
            "spacy-loggers                    1.0.5\n",
            "Sphinx                           5.0.2\n",
            "sphinxcontrib-applehelp          1.0.8\n",
            "sphinxcontrib-devhelp            1.0.6\n",
            "sphinxcontrib-htmlhelp           2.0.5\n",
            "sphinxcontrib-jsmath             1.0.1\n",
            "sphinxcontrib-qthelp             1.0.7\n",
            "sphinxcontrib-serializinghtml    1.1.10\n",
            "SQLAlchemy                       2.0.27\n",
            "sqlglot                          19.9.0\n",
            "sqlparse                         0.4.4\n",
            "srsly                            2.4.8\n",
            "stanio                           0.3.0\n",
            "statsmodels                      0.14.1\n",
            "sympy                            1.12\n",
            "tables                           3.8.0\n",
            "tabulate                         0.9.0\n",
            "tbb                              2021.11.0\n",
            "tblib                            3.0.0\n",
            "tenacity                         8.2.3\n",
            "tensorboard                      2.15.2\n",
            "tensorboard-data-server          0.7.2\n",
            "tensorflow                       2.15.0\n",
            "tensorflow-datasets              4.9.4\n",
            "tensorflow-estimator             2.15.0\n",
            "tensorflow-gcs-config            2.15.0\n",
            "tensorflow-hub                   0.16.1\n",
            "tensorflow-io-gcs-filesystem     0.36.0\n",
            "tensorflow-metadata              1.14.0\n",
            "tensorflow-probability           0.23.0\n",
            "tensorstore                      0.1.45\n",
            "termcolor                        2.4.0\n",
            "terminado                        0.18.0\n",
            "text-unidecode                   1.3\n",
            "textblob                         0.17.1\n",
            "tf-keras                         2.15.0\n",
            "tf-slim                          1.1.0\n",
            "thinc                            8.2.3\n",
            "threadpoolctl                    3.3.0\n",
            "tifffile                         2024.2.12\n",
            "tinycss2                         1.2.1\n",
            "tokenizers                       0.15.2\n",
            "toml                             0.10.2\n",
            "tomli                            2.0.1\n",
            "toolz                            0.12.1\n",
            "torch                            2.1.0+cu121\n",
            "torchaudio                       2.1.0+cu121\n",
            "torchdata                        0.7.0\n",
            "torchsummary                     1.5.1\n",
            "torchtext                        0.16.0\n",
            "torchvision                      0.16.0+cu121\n",
            "tornado                          6.3.2\n",
            "tqdm                             4.66.2\n",
            "traitlets                        5.7.1\n",
            "traittypes                       0.2.1\n",
            "transformers                     4.37.2\n",
            "triton                           2.1.0\n",
            "tweepy                           4.14.0\n",
            "typer                            0.9.0\n",
            "types-pytz                       2024.1.0.20240203\n",
            "types-setuptools                 69.1.0.20240217\n",
            "typing_extensions                4.9.0\n",
            "tzlocal                          5.2\n",
            "uc-micro-py                      1.0.3\n",
            "uritemplate                      4.1.1\n",
            "urllib3                          2.0.7\n",
            "vega-datasets                    0.9.0\n",
            "wadllib                          1.3.6\n",
            "wasabi                           1.1.2\n",
            "wcwidth                          0.2.13\n",
            "weasel                           0.3.4\n",
            "webcolors                        1.13\n",
            "webencodings                     0.5.1\n",
            "websocket-client                 1.7.0\n",
            "Werkzeug                         3.0.1\n",
            "wheel                            0.42.0\n",
            "widgetsnbextension               3.6.6\n",
            "wordcloud                        1.9.3\n",
            "wrapt                            1.14.1\n",
            "xarray                           2023.7.0\n",
            "xarray-einstats                  0.7.0\n",
            "xgboost                          2.0.3\n",
            "xlrd                             2.0.1\n",
            "xxhash                           3.4.1\n",
            "xyzservices                      2023.10.1\n",
            "yarl                             1.9.4\n",
            "yellowbrick                      1.5\n",
            "yfinance                         0.2.36\n",
            "zict                             3.0.0\n",
            "zipp                             3.17.0\n"
          ]
        }
      ]
    },
    {
      "cell_type": "markdown",
      "source": [
        "3. Upgrading a Package\n",
        "To imbue an installed library with enhanced powers and capabilities, elevating it to its latest form:"
      ],
      "metadata": {
        "id": "vuyzzfbeThW0"
      }
    },
    {
      "cell_type": "code",
      "source": [
        "!pip install --upgrade numpy"
      ],
      "metadata": {
        "id": "LswC4FV6Gd_C",
        "colab": {
          "base_uri": "https://localhost:8080/"
        },
        "outputId": "7ed79db8-1361-4bf7-e95e-919568155f1a"
      },
      "execution_count": null,
      "outputs": [
        {
          "output_type": "stream",
          "name": "stdout",
          "text": [
            "Requirement already satisfied: numpy in /usr/local/lib/python3.10/dist-packages (1.25.2)\n",
            "Collecting numpy\n",
            "  Downloading numpy-1.26.4-cp310-cp310-manylinux_2_17_x86_64.manylinux2014_x86_64.whl (18.2 MB)\n",
            "\u001b[2K     \u001b[90m━━━━━━━━━━━━━━━━━━━━━━━━━━━━━━━━━━━━━━━━\u001b[0m \u001b[32m18.2/18.2 MB\u001b[0m \u001b[31m15.7 MB/s\u001b[0m eta \u001b[36m0:00:00\u001b[0m\n",
            "\u001b[?25hInstalling collected packages: numpy\n",
            "  Attempting uninstall: numpy\n",
            "    Found existing installation: numpy 1.25.2\n",
            "    Uninstalling numpy-1.25.2:\n",
            "      Successfully uninstalled numpy-1.25.2\n",
            "Successfully installed numpy-1.26.4\n"
          ]
        }
      ]
    },
    {
      "cell_type": "markdown",
      "source": [
        "4. Uninstalling a Package\n",
        "To uninstall a package:"
      ],
      "metadata": {
        "id": "cUTFltnUTjdd"
      }
    },
    {
      "cell_type": "code",
      "source": [
        "!pip uninstall numpy"
      ],
      "metadata": {
        "id": "0clkZkwMHl3a",
        "colab": {
          "base_uri": "https://localhost:8080/"
        },
        "outputId": "61e67e76-c6e5-4f91-8ffb-f5f711a3355c"
      },
      "execution_count": null,
      "outputs": [
        {
          "output_type": "stream",
          "name": "stdout",
          "text": [
            "Found existing installation: numpy 1.26.4\n",
            "Uninstalling numpy-1.26.4:\n",
            "  Would remove:\n",
            "    /usr/local/bin/f2py\n",
            "    /usr/local/lib/python3.10/dist-packages/numpy-1.26.4.dist-info/*\n",
            "    /usr/local/lib/python3.10/dist-packages/numpy.libs/libgfortran-040039e1.so.5.0.0\n",
            "    /usr/local/lib/python3.10/dist-packages/numpy.libs/libopenblas64_p-r0-0cf96a72.3.23.dev.so\n",
            "    /usr/local/lib/python3.10/dist-packages/numpy.libs/libquadmath-96973f99.so.0.0.0\n",
            "    /usr/local/lib/python3.10/dist-packages/numpy/*\n",
            "Proceed (Y/n)? \u001b[31mERROR: Operation cancelled by user\u001b[0m\u001b[31m\n",
            "\u001b[0mTraceback (most recent call last):\n",
            "  File \"/usr/local/lib/python3.10/dist-packages/pip/_internal/cli/base_command.py\", line 169, in exc_logging_wrapper\n",
            "    status = run_func(*args)\n",
            "  File \"/usr/local/lib/python3.10/dist-packages/pip/_internal/commands/uninstall.py\", line 105, in run\n",
            "    uninstall_pathset = req.uninstall(\n",
            "  File \"/usr/local/lib/python3.10/dist-packages/pip/_internal/req/req_install.py\", line 680, in uninstall\n",
            "    uninstalled_pathset.remove(auto_confirm, verbose)\n",
            "  File \"/usr/local/lib/python3.10/dist-packages/pip/_internal/req/req_uninstall.py\", line 375, in remove\n",
            "    if auto_confirm or self._allowed_to_proceed(verbose):\n",
            "  File \"/usr/local/lib/python3.10/dist-packages/pip/_internal/req/req_uninstall.py\", line 415, in _allowed_to_proceed\n",
            "    return ask(\"Proceed (Y/n)? \", (\"y\", \"n\", \"\")) != \"n\"\n",
            "  File \"/usr/local/lib/python3.10/dist-packages/pip/_internal/utils/misc.py\", line 192, in ask\n",
            "    response = input(message)\n",
            "KeyboardInterrupt\n",
            "\n",
            "During handling of the above exception, another exception occurred:\n",
            "\n",
            "Traceback (most recent call last):\n",
            "  File \"/usr/local/bin/pip3\", line 8, in <module>\n",
            "    sys.exit(main())\n",
            "  File \"/usr/local/lib/python3.10/dist-packages/pip/_internal/cli/main.py\", line 79, in main\n",
            "    return command.main(cmd_args)\n",
            "  File \"/usr/local/lib/python3.10/dist-packages/pip/_internal/cli/base_command.py\", line 101, in main\n",
            "    return self._main(args)\n",
            "  File \"/usr/local/lib/python3.10/dist-packages/pip/_internal/cli/base_command.py\", line 223, in _main\n",
            "    return run(options, args)\n",
            "  File \"/usr/local/lib/python3.10/dist-packages/pip/_internal/cli/base_command.py\", line 207, in exc_logging_wrapper\n",
            "    logger.debug(\"Exception information:\", exc_info=True)\n",
            "  File \"/usr/lib/python3.10/logging/__init__.py\", line 1465, in debug\n",
            "    self._log(DEBUG, msg, args, **kwargs)\n",
            "  File \"/usr/lib/python3.10/logging/__init__.py\", line 1624, in _log\n",
            "    self.handle(record)\n",
            "  File \"/usr/lib/python3.10/logging/__init__.py\", line 1634, in handle\n",
            "    self.callHandlers(record)\n",
            "  File \"/usr/lib/python3.10/logging/__init__.py\", line 1696, in callHandlers\n",
            "    hdlr.handle(record)\n",
            "  File \"/usr/lib/python3.10/logging/__init__.py\", line 968, in handle\n",
            "    self.emit(record)\n",
            "  File \"/usr/lib/python3.10/logging/handlers.py\", line 75, in emit\n",
            "    logging.FileHandler.emit(self, record)\n",
            "  File \"/usr/lib/python3.10/logging/__init__.py\", line 1218, in emit\n",
            "    StreamHandler.emit(self, record)\n",
            "  File \"/usr/lib/python3.10/logging/__init__.py\", line 1100, in emit\n",
            "    msg = self.format(record)\n",
            "  File \"/usr/lib/python3.10/logging/__init__.py\", line 943, in format\n",
            "    return fmt.format(record)\n",
            "  File \"/usr/local/lib/python3.10/dist-packages/pip/_internal/utils/logging.py\", line 112, in format\n",
            "    formatted = super().format(record)\n",
            "  File \"/usr/lib/python3.10/logging/__init__.py\", line 686, in format\n",
            "    record.exc_text = self.formatException(record.exc_info)\n",
            "  File \"/usr/lib/python3.10/logging/__init__.py\", line 636, in formatException\n",
            "    traceback.print_exception(ei[0], ei[1], tb, None, sio)\n",
            "  File \"/usr/lib/python3.10/traceback.py\", line 119, in print_exception\n",
            "    te = TracebackException(type(value), value, tb, limit=limit, compact=True)\n",
            "  File \"/usr/lib/python3.10/traceback.py\", line 502, in __init__\n",
            "    self.stack = StackSummary.extract(\n",
            "  File \"/usr/lib/python3.10/traceback.py\", line 383, in extract\n",
            "    f.line\n",
            "  File \"/usr/lib/python3.10/traceback.py\", line 306, in line\n",
            "    self._line = linecache.getline(self.filename, self.lineno)\n",
            "  File \"/usr/lib/python3.10/linecache.py\", line 30, in getline\n",
            "    lines = getlines(filename, module_globals)\n",
            "  File \"/usr/lib/python3.10/linecache.py\", line 46, in getlines\n",
            "    return updatecache(filename, module_globals)\n",
            "  File \"/usr/lib/python3.10/linecache.py\", line 136, in updatecache\n",
            "    with tokenize.open(fullname) as fp:\n",
            "  File \"/usr/lib/python3.10/tokenize.py\", line 396, in open\n",
            "    encoding, lines = detect_encoding(buffer.readline)\n",
            "  File \"/usr/lib/python3.10/tokenize.py\", line 365, in detect_encoding\n",
            "    first = read_or_stop()\n",
            "  File \"/usr/lib/python3.10/tokenize.py\", line 323, in read_or_stop\n",
            "    return readline()\n",
            "KeyboardInterrupt\n",
            "^C\n"
          ]
        }
      ]
    },
    {
      "cell_type": "markdown",
      "source": [
        "5. Searching for Packages\n",
        "Searching packages:"
      ],
      "metadata": {
        "id": "QRWDGdR1Tlzk"
      }
    },
    {
      "cell_type": "code",
      "source": [
        "!pip search \"data visualization\""
      ],
      "metadata": {
        "id": "Qn-9ETtdHoBN",
        "colab": {
          "base_uri": "https://localhost:8080/"
        },
        "outputId": "1a951885-c6cd-4e6c-87ff-7749bad4eebb"
      },
      "execution_count": null,
      "outputs": [
        {
          "output_type": "stream",
          "name": "stdout",
          "text": [
            "\u001b[31mERROR: XMLRPC request failed [code: -32500]\n",
            "RuntimeError: PyPI no longer supports 'pip search' (or XML-RPC search). Please use https://pypi.org/search (via a browser) instead. See https://warehouse.pypa.io/api-reference/xml-rpc.html#deprecated-methods for more information.\u001b[0m\u001b[31m\n",
            "\u001b[0m"
          ]
        }
      ]
    },
    {
      "cell_type": "markdown",
      "source": [
        "6. Installing Specific Versions of a Package\n",
        "To install a specific version:"
      ],
      "metadata": {
        "id": "csPoRjxVTnOR"
      }
    },
    {
      "cell_type": "code",
      "source": [
        "!pip install numpy==1.18.5"
      ],
      "metadata": {
        "id": "KfuJJHPdHn8T",
        "colab": {
          "base_uri": "https://localhost:8080/"
        },
        "outputId": "cf52c0b7-a7c6-4e30-bd69-78f664b54e19"
      },
      "execution_count": null,
      "outputs": [
        {
          "output_type": "stream",
          "name": "stdout",
          "text": [
            "Collecting numpy==1.18.5\n",
            "  Downloading numpy-1.18.5.zip (5.4 MB)\n",
            "\u001b[2K     \u001b[90m━━━━━━━━━━━━━━━━━━━━━━━━━━━━━━━━━━━━━━━━\u001b[0m \u001b[32m5.4/5.4 MB\u001b[0m \u001b[31m14.7 MB/s\u001b[0m eta \u001b[36m0:00:00\u001b[0m\n",
            "\u001b[?25h  Installing build dependencies ... \u001b[?25l\u001b[?25hdone\n",
            "  Getting requirements to build wheel ... \u001b[?25l\u001b[?25hdone\n",
            "  \u001b[1;31merror\u001b[0m: \u001b[1msubprocess-exited-with-error\u001b[0m\n",
            "  \n",
            "  \u001b[31m×\u001b[0m \u001b[32mPreparing metadata \u001b[0m\u001b[1;32m(\u001b[0m\u001b[32mpyproject.toml\u001b[0m\u001b[1;32m)\u001b[0m did not run successfully.\n",
            "  \u001b[31m│\u001b[0m exit code: \u001b[1;36m1\u001b[0m\n",
            "  \u001b[31m╰─>\u001b[0m See above for output.\n",
            "  \n",
            "  \u001b[1;35mnote\u001b[0m: This error originates from a subprocess, and is likely not a problem with pip.\n",
            "  Preparing metadata (pyproject.toml) ... \u001b[?25l\u001b[?25herror\n",
            "\u001b[1;31merror\u001b[0m: \u001b[1mmetadata-generation-failed\u001b[0m\n",
            "\n",
            "\u001b[31m×\u001b[0m Encountered error while generating package metadata.\n",
            "\u001b[31m╰─>\u001b[0m See above for output.\n",
            "\n",
            "\u001b[1;35mnote\u001b[0m: This is an issue with the package mentioned above, not pip.\n",
            "\u001b[1;36mhint\u001b[0m: See above for details.\n"
          ]
        }
      ]
    },
    {
      "cell_type": "markdown",
      "source": [
        "7. Generating a Requirements File\n",
        "Requirements file:"
      ],
      "metadata": {
        "id": "WgCmhMEKTooG"
      }
    },
    {
      "cell_type": "code",
      "source": [
        "!pip freeze > requirements.txt"
      ],
      "metadata": {
        "id": "tiS1GfPSHn6B"
      },
      "execution_count": null,
      "outputs": []
    },
    {
      "cell_type": "markdown",
      "source": [
        "8. Installing Packages from a Requirements File\n",
        "To conjure a symphony of libraries in unison, each aligned with the notations in your tome of requirements:"
      ],
      "metadata": {
        "id": "dd5DAhpzTqdL"
      }
    },
    {
      "cell_type": "code",
      "source": [
        "!pip install -r requirements.txt"
      ],
      "metadata": {
        "id": "KmIChsj_Hn3A",
        "colab": {
          "base_uri": "https://localhost:8080/"
        },
        "outputId": "1302aec8-4fee-4f7b-f5f3-6ab078d9f480"
      },
      "execution_count": null,
      "outputs": [
        {
          "output_type": "stream",
          "name": "stdout",
          "text": [
            "Collecting en-core-web-sm@ https://github.com/explosion/spacy-models/releases/download/en_core_web_sm-3.7.1/en_core_web_sm-3.7.1-py3-none-any.whl#sha256=86cc141f63942d4b2c5fcee06630fd6f904788d2f0ab005cce45aadb8fb73889 (from -r requirements.txt (line 84))\n",
            "  Downloading https://github.com/explosion/spacy-models/releases/download/en_core_web_sm-3.7.1/en_core_web_sm-3.7.1-py3-none-any.whl (12.8 MB)\n",
            "\u001b[2K     \u001b[90m━━━━━━━━━━━━━━━━━━━━━━━━━━━━━━━━━━━━━━━━\u001b[0m \u001b[32m12.8/12.8 MB\u001b[0m \u001b[31m47.2 MB/s\u001b[0m eta \u001b[36m0:00:00\u001b[0m\n",
            "\u001b[?25hProcessing /colabtools/dist/google-colab-1.0.0.tar.gz (from -r requirements.txt (line 140))\n",
            "\u001b[31mERROR: Could not install packages due to an OSError: [Errno 2] No such file or directory: '/colabtools/dist/google-colab-1.0.0.tar.gz'\n",
            "\u001b[0m\u001b[31m\n",
            "\u001b[0m"
          ]
        }
      ]
    },
    {
      "cell_type": "markdown",
      "source": [
        "9. Using Virtual Environments\n",
        "Create virtual Environments to manage package conflicts:"
      ],
      "metadata": {
        "id": "lVmaAN8VTsOv"
      }
    },
    {
      "cell_type": "code",
      "source": [
        "# Create a virtual environment named 'venv'\n",
        "python -m venv venv\n",
        "\n",
        "# Activate the virtual environment\n",
        "# On Windows\n",
        ".\\venv\\Scripts\\activate\n",
        "\n",
        "# On Unix or MacOS\n",
        "source venv/bin/activate"
      ],
      "metadata": {
        "id": "AO82RE52Hn0O"
      },
      "execution_count": null,
      "outputs": []
    },
    {
      "cell_type": "markdown",
      "source": [
        "10. Checking Package Dependencies\n",
        "Understanding Dependencies:"
      ],
      "metadata": {
        "id": "tehzxgpDTurs"
      }
    },
    {
      "cell_type": "code",
      "source": [
        "!pip show numpy"
      ],
      "metadata": {
        "colab": {
          "base_uri": "https://localhost:8080/"
        },
        "id": "5sEC50OyHnxY",
        "outputId": "719d1b03-2403-4bcc-9e2e-58ba08591275"
      },
      "execution_count": null,
      "outputs": [
        {
          "output_type": "stream",
          "name": "stdout",
          "text": [
            "Name: numpy\n",
            "Version: 1.26.4\n",
            "Summary: Fundamental package for array computing in Python\n",
            "Home-page: https://numpy.org\n",
            "Author: Travis E. Oliphant et al.\n",
            "Author-email: \n",
            "License: Copyright (c) 2005-2023, NumPy Developers.\n",
            "        All rights reserved.\n",
            "        \n",
            "        Redistribution and use in source and binary forms, with or without\n",
            "        modification, are permitted provided that the following conditions are\n",
            "        met:\n",
            "        \n",
            "            * Redistributions of source code must retain the above copyright\n",
            "               notice, this list of conditions and the following disclaimer.\n",
            "        \n",
            "            * Redistributions in binary form must reproduce the above\n",
            "               copyright notice, this list of conditions and the following\n",
            "               disclaimer in the documentation and/or other materials provided\n",
            "               with the distribution.\n",
            "        \n",
            "            * Neither the name of the NumPy Developers nor the names of any\n",
            "               contributors may be used to endorse or promote products derived\n",
            "               from this software without specific prior written permission.\n",
            "        \n",
            "        THIS SOFTWARE IS PROVIDED BY THE COPYRIGHT HOLDERS AND CONTRIBUTORS\n",
            "        \"AS IS\" AND ANY EXPRESS OR IMPLIED WARRANTIES, INCLUDING, BUT NOT\n",
            "        LIMITED TO, THE IMPLIED WARRANTIES OF MERCHANTABILITY AND FITNESS FOR\n",
            "        A PARTICULAR PURPOSE ARE DISCLAIMED. IN NO EVENT SHALL THE COPYRIGHT\n",
            "        OWNER OR CONTRIBUTORS BE LIABLE FOR ANY DIRECT, INDIRECT, INCIDENTAL,\n",
            "        SPECIAL, EXEMPLARY, OR CONSEQUENTIAL DAMAGES (INCLUDING, BUT NOT\n",
            "        LIMITED TO, PROCUREMENT OF SUBSTITUTE GOODS OR SERVICES; LOSS OF USE,\n",
            "        DATA, OR PROFITS; OR BUSINESS INTERRUPTION) HOWEVER CAUSED AND ON ANY\n",
            "        THEORY OF LIABILITY, WHETHER IN CONTRACT, STRICT LIABILITY, OR TORT\n",
            "        (INCLUDING NEGLIGENCE OR OTHERWISE) ARISING IN ANY WAY OUT OF THE USE\n",
            "        OF THIS SOFTWARE, EVEN IF ADVISED OF THE POSSIBILITY OF SUCH DAMAGE.\n",
            "        \n",
            "        ----\n",
            "        \n",
            "        The NumPy repository and source distributions bundle several libraries that are\n",
            "        compatibly licensed.  We list these here.\n",
            "        \n",
            "        Name: lapack-lite\n",
            "        Files: numpy/linalg/lapack_lite/*\n",
            "        License: BSD-3-Clause\n",
            "          For details, see numpy/linalg/lapack_lite/LICENSE.txt\n",
            "        \n",
            "        Name: tempita\n",
            "        Files: tools/npy_tempita/*\n",
            "        License: MIT\n",
            "          For details, see tools/npy_tempita/license.txt\n",
            "        \n",
            "        Name: dragon4\n",
            "        Files: numpy/core/src/multiarray/dragon4.c\n",
            "        License: MIT\n",
            "          For license text, see numpy/core/src/multiarray/dragon4.c\n",
            "        \n",
            "        Name: libdivide\n",
            "        Files: numpy/core/include/numpy/libdivide/*\n",
            "        License: Zlib\n",
            "          For license text, see numpy/core/include/numpy/libdivide/LICENSE.txt\n",
            "        \n",
            "        \n",
            "        Note that the following files are vendored in the repository and sdist but not\n",
            "        installed in built numpy packages:\n",
            "        \n",
            "        Name: Meson\n",
            "        Files: vendored-meson/meson/*\n",
            "        License: Apache 2.0\n",
            "          For license text, see vendored-meson/meson/COPYING\n",
            "        \n",
            "        Name: spin\n",
            "        Files: .spin/cmds.py\n",
            "        License: BSD-3\n",
            "          For license text, see .spin/LICENSE\n",
            "        \n",
            "        ----\n",
            "        \n",
            "        This binary distribution of NumPy also bundles the following software:\n",
            "        \n",
            "        \n",
            "        Name: OpenBLAS\n",
            "        Files: numpy.libs/libopenblas*.so\n",
            "        Description: bundled as a dynamically linked library\n",
            "        Availability: https://github.com/OpenMathLib/OpenBLAS/\n",
            "        License: BSD-3-Clause\n",
            "          Copyright (c) 2011-2014, The OpenBLAS Project\n",
            "          All rights reserved.\n",
            "        \n",
            "          Redistribution and use in source and binary forms, with or without\n",
            "          modification, are permitted provided that the following conditions are\n",
            "          met:\n",
            "        \n",
            "             1. Redistributions of source code must retain the above copyright\n",
            "                notice, this list of conditions and the following disclaimer.\n",
            "        \n",
            "             2. Redistributions in binary form must reproduce the above copyright\n",
            "                notice, this list of conditions and the following disclaimer in\n",
            "                the documentation and/or other materials provided with the\n",
            "                distribution.\n",
            "             3. Neither the name of the OpenBLAS project nor the names of\n",
            "                its contributors may be used to endorse or promote products\n",
            "                derived from this software without specific prior written\n",
            "                permission.\n",
            "        \n",
            "          THIS SOFTWARE IS PROVIDED BY THE COPYRIGHT HOLDERS AND CONTRIBUTORS \"AS IS\"\n",
            "          AND ANY EXPRESS OR IMPLIED WARRANTIES, INCLUDING, BUT NOT LIMITED TO, THE\n",
            "          IMPLIED WARRANTIES OF MERCHANTABILITY AND FITNESS FOR A PARTICULAR PURPOSE\n",
            "          ARE DISCLAIMED. IN NO EVENT SHALL THE COPYRIGHT OWNER OR CONTRIBUTORS BE\n",
            "          LIABLE FOR ANY DIRECT, INDIRECT, INCIDENTAL, SPECIAL, EXEMPLARY, OR CONSEQUENTIAL\n",
            "          DAMAGES (INCLUDING, BUT NOT LIMITED TO, PROCUREMENT OF SUBSTITUTE GOODS OR\n",
            "          SERVICES; LOSS OF USE, DATA, OR PROFITS; OR BUSINESS INTERRUPTION) HOWEVER\n",
            "          CAUSED AND ON ANY THEORY OF LIABILITY, WHETHER IN CONTRACT, STRICT LIABILITY,\n",
            "          OR TORT (INCLUDING NEGLIGENCE OR OTHERWISE) ARISING IN ANY WAY OUT OF THE\n",
            "          USE OF THIS SOFTWARE, EVEN IF ADVISED OF THE POSSIBILITY OF SUCH DAMAGE.\n",
            "        \n",
            "        \n",
            "        Name: LAPACK\n",
            "        Files: numpy.libs/libopenblas*.so\n",
            "        Description: bundled in OpenBLAS\n",
            "        Availability: https://github.com/OpenMathLib/OpenBLAS/\n",
            "        License: BSD-3-Clause-Attribution\n",
            "          Copyright (c) 1992-2013 The University of Tennessee and The University\n",
            "                                  of Tennessee Research Foundation.  All rights\n",
            "                                  reserved.\n",
            "          Copyright (c) 2000-2013 The University of California Berkeley. All\n",
            "                                  rights reserved.\n",
            "          Copyright (c) 2006-2013 The University of Colorado Denver.  All rights\n",
            "                                  reserved.\n",
            "        \n",
            "          $COPYRIGHT$\n",
            "        \n",
            "          Additional copyrights may follow\n",
            "        \n",
            "          $HEADER$\n",
            "        \n",
            "          Redistribution and use in source and binary forms, with or without\n",
            "          modification, are permitted provided that the following conditions are\n",
            "          met:\n",
            "        \n",
            "          - Redistributions of source code must retain the above copyright\n",
            "            notice, this list of conditions and the following disclaimer.\n",
            "        \n",
            "          - Redistributions in binary form must reproduce the above copyright\n",
            "            notice, this list of conditions and the following disclaimer listed\n",
            "            in this license in the documentation and/or other materials\n",
            "            provided with the distribution.\n",
            "        \n",
            "          - Neither the name of the copyright holders nor the names of its\n",
            "            contributors may be used to endorse or promote products derived from\n",
            "            this software without specific prior written permission.\n",
            "        \n",
            "          The copyright holders provide no reassurances that the source code\n",
            "          provided does not infringe any patent, copyright, or any other\n",
            "          intellectual property rights of third parties.  The copyright holders\n",
            "          disclaim any liability to any recipient for claims brought against\n",
            "          recipient by any third party for infringement of that parties\n",
            "          intellectual property rights.\n",
            "        \n",
            "          THIS SOFTWARE IS PROVIDED BY THE COPYRIGHT HOLDERS AND CONTRIBUTORS\n",
            "          \"AS IS\" AND ANY EXPRESS OR IMPLIED WARRANTIES, INCLUDING, BUT NOT\n",
            "          LIMITED TO, THE IMPLIED WARRANTIES OF MERCHANTABILITY AND FITNESS FOR\n",
            "          A PARTICULAR PURPOSE ARE DISCLAIMED. IN NO EVENT SHALL THE COPYRIGHT\n",
            "          OWNER OR CONTRIBUTORS BE LIABLE FOR ANY DIRECT, INDIRECT, INCIDENTAL,\n",
            "          SPECIAL, EXEMPLARY, OR CONSEQUENTIAL DAMAGES (INCLUDING, BUT NOT\n",
            "          LIMITED TO, PROCUREMENT OF SUBSTITUTE GOODS OR SERVICES; LOSS OF USE,\n",
            "          DATA, OR PROFITS; OR BUSINESS INTERRUPTION) HOWEVER CAUSED AND ON ANY\n",
            "          THEORY OF LIABILITY, WHETHER IN CONTRACT, STRICT LIABILITY, OR TORT\n",
            "          (INCLUDING NEGLIGENCE OR OTHERWISE) ARISING IN ANY WAY OUT OF THE USE\n",
            "          OF THIS SOFTWARE, EVEN IF ADVISED OF THE POSSIBILITY OF SUCH DAMAGE.\n",
            "        \n",
            "        \n",
            "        Name: GCC runtime library\n",
            "        Files: numpy.libs/libgfortran*.so\n",
            "        Description: dynamically linked to files compiled with gcc\n",
            "        Availability: https://gcc.gnu.org/git/?p=gcc.git;a=tree;f=libgfortran\n",
            "        License: GPL-3.0-with-GCC-exception\n",
            "          Copyright (C) 2002-2017 Free Software Foundation, Inc.\n",
            "        \n",
            "          Libgfortran is free software; you can redistribute it and/or modify\n",
            "          it under the terms of the GNU General Public License as published by\n",
            "          the Free Software Foundation; either version 3, or (at your option)\n",
            "          any later version.\n",
            "        \n",
            "          Libgfortran is distributed in the hope that it will be useful,\n",
            "          but WITHOUT ANY WARRANTY; without even the implied warranty of\n",
            "          MERCHANTABILITY or FITNESS FOR A PARTICULAR PURPOSE.  See the\n",
            "          GNU General Public License for more details.\n",
            "        \n",
            "          Under Section 7 of GPL version 3, you are granted additional\n",
            "          permissions described in the GCC Runtime Library Exception, version\n",
            "          3.1, as published by the Free Software Foundation.\n",
            "        \n",
            "          You should have received a copy of the GNU General Public License and\n",
            "          a copy of the GCC Runtime Library Exception along with this program;\n",
            "          see the files COPYING3 and COPYING.RUNTIME respectively.  If not, see\n",
            "          <http://www.gnu.org/licenses/>.\n",
            "        \n",
            "        ----\n",
            "        \n",
            "        Full text of license texts referred to above follows (that they are\n",
            "        listed below does not necessarily imply the conditions apply to the\n",
            "        present binary release):\n",
            "        \n",
            "        ----\n",
            "        \n",
            "        GCC RUNTIME LIBRARY EXCEPTION\n",
            "        \n",
            "        Version 3.1, 31 March 2009\n",
            "        \n",
            "        Copyright (C) 2009 Free Software Foundation, Inc. <http://fsf.org/>\n",
            "        \n",
            "        Everyone is permitted to copy and distribute verbatim copies of this\n",
            "        license document, but changing it is not allowed.\n",
            "        \n",
            "        This GCC Runtime Library Exception (\"Exception\") is an additional\n",
            "        permission under section 7 of the GNU General Public License, version\n",
            "        3 (\"GPLv3\"). It applies to a given file (the \"Runtime Library\") that\n",
            "        bears a notice placed by the copyright holder of the file stating that\n",
            "        the file is governed by GPLv3 along with this Exception.\n",
            "        \n",
            "        When you use GCC to compile a program, GCC may combine portions of\n",
            "        certain GCC header files and runtime libraries with the compiled\n",
            "        program. The purpose of this Exception is to allow compilation of\n",
            "        non-GPL (including proprietary) programs to use, in this way, the\n",
            "        header files and runtime libraries covered by this Exception.\n",
            "        \n",
            "        0. Definitions.\n",
            "        \n",
            "        A file is an \"Independent Module\" if it either requires the Runtime\n",
            "        Library for execution after a Compilation Process, or makes use of an\n",
            "        interface provided by the Runtime Library, but is not otherwise based\n",
            "        on the Runtime Library.\n",
            "        \n",
            "        \"GCC\" means a version of the GNU Compiler Collection, with or without\n",
            "        modifications, governed by version 3 (or a specified later version) of\n",
            "        the GNU General Public License (GPL) with the option of using any\n",
            "        subsequent versions published by the FSF.\n",
            "        \n",
            "        \"GPL-compatible Software\" is software whose conditions of propagation,\n",
            "        modification and use would permit combination with GCC in accord with\n",
            "        the license of GCC.\n",
            "        \n",
            "        \"Target Code\" refers to output from any compiler for a real or virtual\n",
            "        target processor architecture, in executable form or suitable for\n",
            "        input to an assembler, loader, linker and/or execution\n",
            "        phase. Notwithstanding that, Target Code does not include data in any\n",
            "        format that is used as a compiler intermediate representation, or used\n",
            "        for producing a compiler intermediate representation.\n",
            "        \n",
            "        The \"Compilation Process\" transforms code entirely represented in\n",
            "        non-intermediate languages designed for human-written code, and/or in\n",
            "        Java Virtual Machine byte code, into Target Code. Thus, for example,\n",
            "        use of source code generators and preprocessors need not be considered\n",
            "        part of the Compilation Process, since the Compilation Process can be\n",
            "        understood as starting with the output of the generators or\n",
            "        preprocessors.\n",
            "        \n",
            "        A Compilation Process is \"Eligible\" if it is done using GCC, alone or\n",
            "        with other GPL-compatible software, or if it is done without using any\n",
            "        work based on GCC. For example, using non-GPL-compatible Software to\n",
            "        optimize any GCC intermediate representations would not qualify as an\n",
            "        Eligible Compilation Process.\n",
            "        \n",
            "        1. Grant of Additional Permission.\n",
            "        \n",
            "        You have permission to propagate a work of Target Code formed by\n",
            "        combining the Runtime Library with Independent Modules, even if such\n",
            "        propagation would otherwise violate the terms of GPLv3, provided that\n",
            "        all Target Code was generated by Eligible Compilation Processes. You\n",
            "        may then convey such a combination under terms of your choice,\n",
            "        consistent with the licensing of the Independent Modules.\n",
            "        \n",
            "        2. No Weakening of GCC Copyleft.\n",
            "        \n",
            "        The availability of this Exception does not imply any general\n",
            "        presumption that third-party software is unaffected by the copyleft\n",
            "        requirements of the license of GCC.\n",
            "        \n",
            "        ----\n",
            "        \n",
            "                            GNU GENERAL PUBLIC LICENSE\n",
            "                               Version 3, 29 June 2007\n",
            "        \n",
            "         Copyright (C) 2007 Free Software Foundation, Inc. <http://fsf.org/>\n",
            "         Everyone is permitted to copy and distribute verbatim copies\n",
            "         of this license document, but changing it is not allowed.\n",
            "        \n",
            "                                    Preamble\n",
            "        \n",
            "          The GNU General Public License is a free, copyleft license for\n",
            "        software and other kinds of works.\n",
            "        \n",
            "          The licenses for most software and other practical works are designed\n",
            "        to take away your freedom to share and change the works.  By contrast,\n",
            "        the GNU General Public License is intended to guarantee your freedom to\n",
            "        share and change all versions of a program--to make sure it remains free\n",
            "        software for all its users.  We, the Free Software Foundation, use the\n",
            "        GNU General Public License for most of our software; it applies also to\n",
            "        any other work released this way by its authors.  You can apply it to\n",
            "        your programs, too.\n",
            "        \n",
            "          When we speak of free software, we are referring to freedom, not\n",
            "        price.  Our General Public Licenses are designed to make sure that you\n",
            "        have the freedom to distribute copies of free software (and charge for\n",
            "        them if you wish), that you receive source code or can get it if you\n",
            "        want it, that you can change the software or use pieces of it in new\n",
            "        free programs, and that you know you can do these things.\n",
            "        \n",
            "          To protect your rights, we need to prevent others from denying you\n",
            "        these rights or asking you to surrender the rights.  Therefore, you have\n",
            "        certain responsibilities if you distribute copies of the software, or if\n",
            "        you modify it: responsibilities to respect the freedom of others.\n",
            "        \n",
            "          For example, if you distribute copies of such a program, whether\n",
            "        gratis or for a fee, you must pass on to the recipients the same\n",
            "        freedoms that you received.  You must make sure that they, too, receive\n",
            "        or can get the source code.  And you must show them these terms so they\n",
            "        know their rights.\n",
            "        \n",
            "          Developers that use the GNU GPL protect your rights with two steps:\n",
            "        (1) assert copyright on the software, and (2) offer you this License\n",
            "        giving you legal permission to copy, distribute and/or modify it.\n",
            "        \n",
            "          For the developers' and authors' protection, the GPL clearly explains\n",
            "        that there is no warranty for this free software.  For both users' and\n",
            "        authors' sake, the GPL requires that modified versions be marked as\n",
            "        changed, so that their problems will not be attributed erroneously to\n",
            "        authors of previous versions.\n",
            "        \n",
            "          Some devices are designed to deny users access to install or run\n",
            "        modified versions of the software inside them, although the manufacturer\n",
            "        can do so.  This is fundamentally incompatible with the aim of\n",
            "        protecting users' freedom to change the software.  The systematic\n",
            "        pattern of such abuse occurs in the area of products for individuals to\n",
            "        use, which is precisely where it is most unacceptable.  Therefore, we\n",
            "        have designed this version of the GPL to prohibit the practice for those\n",
            "        products.  If such problems arise substantially in other domains, we\n",
            "        stand ready to extend this provision to those domains in future versions\n",
            "        of the GPL, as needed to protect the freedom of users.\n",
            "        \n",
            "          Finally, every program is threatened constantly by software patents.\n",
            "        States should not allow patents to restrict development and use of\n",
            "        software on general-purpose computers, but in those that do, we wish to\n",
            "        avoid the special danger that patents applied to a free program could\n",
            "        make it effectively proprietary.  To prevent this, the GPL assures that\n",
            "        patents cannot be used to render the program non-free.\n",
            "        \n",
            "          The precise terms and conditions for copying, distribution and\n",
            "        modification follow.\n",
            "        \n",
            "                               TERMS AND CONDITIONS\n",
            "        \n",
            "          0. Definitions.\n",
            "        \n",
            "          \"This License\" refers to version 3 of the GNU General Public License.\n",
            "        \n",
            "          \"Copyright\" also means copyright-like laws that apply to other kinds of\n",
            "        works, such as semiconductor masks.\n",
            "        \n",
            "          \"The Program\" refers to any copyrightable work licensed under this\n",
            "        License.  Each licensee is addressed as \"you\".  \"Licensees\" and\n",
            "        \"recipients\" may be individuals or organizations.\n",
            "        \n",
            "          To \"modify\" a work means to copy from or adapt all or part of the work\n",
            "        in a fashion requiring copyright permission, other than the making of an\n",
            "        exact copy.  The resulting work is called a \"modified version\" of the\n",
            "        earlier work or a work \"based on\" the earlier work.\n",
            "        \n",
            "          A \"covered work\" means either the unmodified Program or a work based\n",
            "        on the Program.\n",
            "        \n",
            "          To \"propagate\" a work means to do anything with it that, without\n",
            "        permission, would make you directly or secondarily liable for\n",
            "        infringement under applicable copyright law, except executing it on a\n",
            "        computer or modifying a private copy.  Propagation includes copying,\n",
            "        distribution (with or without modification), making available to the\n",
            "        public, and in some countries other activities as well.\n",
            "        \n",
            "          To \"convey\" a work means any kind of propagation that enables other\n",
            "        parties to make or receive copies.  Mere interaction with a user through\n",
            "        a computer network, with no transfer of a copy, is not conveying.\n",
            "        \n",
            "          An interactive user interface displays \"Appropriate Legal Notices\"\n",
            "        to the extent that it includes a convenient and prominently visible\n",
            "        feature that (1) displays an appropriate copyright notice, and (2)\n",
            "        tells the user that there is no warranty for the work (except to the\n",
            "        extent that warranties are provided), that licensees may convey the\n",
            "        work under this License, and how to view a copy of this License.  If\n",
            "        the interface presents a list of user commands or options, such as a\n",
            "        menu, a prominent item in the list meets this criterion.\n",
            "        \n",
            "          1. Source Code.\n",
            "        \n",
            "          The \"source code\" for a work means the preferred form of the work\n",
            "        for making modifications to it.  \"Object code\" means any non-source\n",
            "        form of a work.\n",
            "        \n",
            "          A \"Standard Interface\" means an interface that either is an official\n",
            "        standard defined by a recognized standards body, or, in the case of\n",
            "        interfaces specified for a particular programming language, one that\n",
            "        is widely used among developers working in that language.\n",
            "        \n",
            "          The \"System Libraries\" of an executable work include anything, other\n",
            "        than the work as a whole, that (a) is included in the normal form of\n",
            "        packaging a Major Component, but which is not part of that Major\n",
            "        Component, and (b) serves only to enable use of the work with that\n",
            "        Major Component, or to implement a Standard Interface for which an\n",
            "        implementation is available to the public in source code form.  A\n",
            "        \"Major Component\", in this context, means a major essential component\n",
            "        (kernel, window system, and so on) of the specific operating system\n",
            "        (if any) on which the executable work runs, or a compiler used to\n",
            "        produce the work, or an object code interpreter used to run it.\n",
            "        \n",
            "          The \"Corresponding Source\" for a work in object code form means all\n",
            "        the source code needed to generate, install, and (for an executable\n",
            "        work) run the object code and to modify the work, including scripts to\n",
            "        control those activities.  However, it does not include the work's\n",
            "        System Libraries, or general-purpose tools or generally available free\n",
            "        programs which are used unmodified in performing those activities but\n",
            "        which are not part of the work.  For example, Corresponding Source\n",
            "        includes interface definition files associated with source files for\n",
            "        the work, and the source code for shared libraries and dynamically\n",
            "        linked subprograms that the work is specifically designed to require,\n",
            "        such as by intimate data communication or control flow between those\n",
            "        subprograms and other parts of the work.\n",
            "        \n",
            "          The Corresponding Source need not include anything that users\n",
            "        can regenerate automatically from other parts of the Corresponding\n",
            "        Source.\n",
            "        \n",
            "          The Corresponding Source for a work in source code form is that\n",
            "        same work.\n",
            "        \n",
            "          2. Basic Permissions.\n",
            "        \n",
            "          All rights granted under this License are granted for the term of\n",
            "        copyright on the Program, and are irrevocable provided the stated\n",
            "        conditions are met.  This License explicitly affirms your unlimited\n",
            "        permission to run the unmodified Program.  The output from running a\n",
            "        covered work is covered by this License only if the output, given its\n",
            "        content, constitutes a covered work.  This License acknowledges your\n",
            "        rights of fair use or other equivalent, as provided by copyright law.\n",
            "        \n",
            "          You may make, run and propagate covered works that you do not\n",
            "        convey, without conditions so long as your license otherwise remains\n",
            "        in force.  You may convey covered works to others for the sole purpose\n",
            "        of having them make modifications exclusively for you, or provide you\n",
            "        with facilities for running those works, provided that you comply with\n",
            "        the terms of this License in conveying all material for which you do\n",
            "        not control copyright.  Those thus making or running the covered works\n",
            "        for you must do so exclusively on your behalf, under your direction\n",
            "        and control, on terms that prohibit them from making any copies of\n",
            "        your copyrighted material outside their relationship with you.\n",
            "        \n",
            "          Conveying under any other circumstances is permitted solely under\n",
            "        the conditions stated below.  Sublicensing is not allowed; section 10\n",
            "        makes it unnecessary.\n",
            "        \n",
            "          3. Protecting Users' Legal Rights From Anti-Circumvention Law.\n",
            "        \n",
            "          No covered work shall be deemed part of an effective technological\n",
            "        measure under any applicable law fulfilling obligations under article\n",
            "        11 of the WIPO copyright treaty adopted on 20 December 1996, or\n",
            "        similar laws prohibiting or restricting circumvention of such\n",
            "        measures.\n",
            "        \n",
            "          When you convey a covered work, you waive any legal power to forbid\n",
            "        circumvention of technological measures to the extent such circumvention\n",
            "        is effected by exercising rights under this License with respect to\n",
            "        the covered work, and you disclaim any intention to limit operation or\n",
            "        modification of the work as a means of enforcing, against the work's\n",
            "        users, your or third parties' legal rights to forbid circumvention of\n",
            "        technological measures.\n",
            "        \n",
            "          4. Conveying Verbatim Copies.\n",
            "        \n",
            "          You may convey verbatim copies of the Program's source code as you\n",
            "        receive it, in any medium, provided that you conspicuously and\n",
            "        appropriately publish on each copy an appropriate copyright notice;\n",
            "        keep intact all notices stating that this License and any\n",
            "        non-permissive terms added in accord with section 7 apply to the code;\n",
            "        keep intact all notices of the absence of any warranty; and give all\n",
            "        recipients a copy of this License along with the Program.\n",
            "        \n",
            "          You may charge any price or no price for each copy that you convey,\n",
            "        and you may offer support or warranty protection for a fee.\n",
            "        \n",
            "          5. Conveying Modified Source Versions.\n",
            "        \n",
            "          You may convey a work based on the Program, or the modifications to\n",
            "        produce it from the Program, in the form of source code under the\n",
            "        terms of section 4, provided that you also meet all of these conditions:\n",
            "        \n",
            "            a) The work must carry prominent notices stating that you modified\n",
            "            it, and giving a relevant date.\n",
            "        \n",
            "            b) The work must carry prominent notices stating that it is\n",
            "            released under this License and any conditions added under section\n",
            "            7.  This requirement modifies the requirement in section 4 to\n",
            "            \"keep intact all notices\".\n",
            "        \n",
            "            c) You must license the entire work, as a whole, under this\n",
            "            License to anyone who comes into possession of a copy.  This\n",
            "            License will therefore apply, along with any applicable section 7\n",
            "            additional terms, to the whole of the work, and all its parts,\n",
            "            regardless of how they are packaged.  This License gives no\n",
            "            permission to license the work in any other way, but it does not\n",
            "            invalidate such permission if you have separately received it.\n",
            "        \n",
            "            d) If the work has interactive user interfaces, each must display\n",
            "            Appropriate Legal Notices; however, if the Program has interactive\n",
            "            interfaces that do not display Appropriate Legal Notices, your\n",
            "            work need not make them do so.\n",
            "        \n",
            "          A compilation of a covered work with other separate and independent\n",
            "        works, which are not by their nature extensions of the covered work,\n",
            "        and which are not combined with it such as to form a larger program,\n",
            "        in or on a volume of a storage or distribution medium, is called an\n",
            "        \"aggregate\" if the compilation and its resulting copyright are not\n",
            "        used to limit the access or legal rights of the compilation's users\n",
            "        beyond what the individual works permit.  Inclusion of a covered work\n",
            "        in an aggregate does not cause this License to apply to the other\n",
            "        parts of the aggregate.\n",
            "        \n",
            "          6. Conveying Non-Source Forms.\n",
            "        \n",
            "          You may convey a covered work in object code form under the terms\n",
            "        of sections 4 and 5, provided that you also convey the\n",
            "        machine-readable Corresponding Source under the terms of this License,\n",
            "        in one of these ways:\n",
            "        \n",
            "            a) Convey the object code in, or embodied in, a physical product\n",
            "            (including a physical distribution medium), accompanied by the\n",
            "            Corresponding Source fixed on a durable physical medium\n",
            "            customarily used for software interchange.\n",
            "        \n",
            "            b) Convey the object code in, or embodied in, a physical product\n",
            "            (including a physical distribution medium), accompanied by a\n",
            "            written offer, valid for at least three years and valid for as\n",
            "            long as you offer spare parts or customer support for that product\n",
            "            model, to give anyone who possesses the object code either (1) a\n",
            "            copy of the Corresponding Source for all the software in the\n",
            "            product that is covered by this License, on a durable physical\n",
            "            medium customarily used for software interchange, for a price no\n",
            "            more than your reasonable cost of physically performing this\n",
            "            conveying of source, or (2) access to copy the\n",
            "            Corresponding Source from a network server at no charge.\n",
            "        \n",
            "            c) Convey individual copies of the object code with a copy of the\n",
            "            written offer to provide the Corresponding Source.  This\n",
            "            alternative is allowed only occasionally and noncommercially, and\n",
            "            only if you received the object code with such an offer, in accord\n",
            "            with subsection 6b.\n",
            "        \n",
            "            d) Convey the object code by offering access from a designated\n",
            "            place (gratis or for a charge), and offer equivalent access to the\n",
            "            Corresponding Source in the same way through the same place at no\n",
            "            further charge.  You need not require recipients to copy the\n",
            "            Corresponding Source along with the object code.  If the place to\n",
            "            copy the object code is a network server, the Corresponding Source\n",
            "            may be on a different server (operated by you or a third party)\n",
            "            that supports equivalent copying facilities, provided you maintain\n",
            "            clear directions next to the object code saying where to find the\n",
            "            Corresponding Source.  Regardless of what server hosts the\n",
            "            Corresponding Source, you remain obligated to ensure that it is\n",
            "            available for as long as needed to satisfy these requirements.\n",
            "        \n",
            "            e) Convey the object code using peer-to-peer transmission, provided\n",
            "            you inform other peers where the object code and Corresponding\n",
            "            Source of the work are being offered to the general public at no\n",
            "            charge under subsection 6d.\n",
            "        \n",
            "          A separable portion of the object code, whose source code is excluded\n",
            "        from the Corresponding Source as a System Library, need not be\n",
            "        included in conveying the object code work.\n",
            "        \n",
            "          A \"User Product\" is either (1) a \"consumer product\", which means any\n",
            "        tangible personal property which is normally used for personal, family,\n",
            "        or household purposes, or (2) anything designed or sold for incorporation\n",
            "        into a dwelling.  In determining whether a product is a consumer product,\n",
            "        doubtful cases shall be resolved in favor of coverage.  For a particular\n",
            "        product received by a particular user, \"normally used\" refers to a\n",
            "        typical or common use of that class of product, regardless of the status\n",
            "        of the particular user or of the way in which the particular user\n",
            "        actually uses, or expects or is expected to use, the product.  A product\n",
            "        is a consumer product regardless of whether the product has substantial\n",
            "        commercial, industrial or non-consumer uses, unless such uses represent\n",
            "        the only significant mode of use of the product.\n",
            "        \n",
            "          \"Installation Information\" for a User Product means any methods,\n",
            "        procedures, authorization keys, or other information required to install\n",
            "        and execute modified versions of a covered work in that User Product from\n",
            "        a modified version of its Corresponding Source.  The information must\n",
            "        suffice to ensure that the continued functioning of the modified object\n",
            "        code is in no case prevented or interfered with solely because\n",
            "        modification has been made.\n",
            "        \n",
            "          If you convey an object code work under this section in, or with, or\n",
            "        specifically for use in, a User Product, and the conveying occurs as\n",
            "        part of a transaction in which the right of possession and use of the\n",
            "        User Product is transferred to the recipient in perpetuity or for a\n",
            "        fixed term (regardless of how the transaction is characterized), the\n",
            "        Corresponding Source conveyed under this section must be accompanied\n",
            "        by the Installation Information.  But this requirement does not apply\n",
            "        if neither you nor any third party retains the ability to install\n",
            "        modified object code on the User Product (for example, the work has\n",
            "        been installed in ROM).\n",
            "        \n",
            "          The requirement to provide Installation Information does not include a\n",
            "        requirement to continue to provide support service, warranty, or updates\n",
            "        for a work that has been modified or installed by the recipient, or for\n",
            "        the User Product in which it has been modified or installed.  Access to a\n",
            "        network may be denied when the modification itself materially and\n",
            "        adversely affects the operation of the network or violates the rules and\n",
            "        protocols for communication across the network.\n",
            "        \n",
            "          Corresponding Source conveyed, and Installation Information provided,\n",
            "        in accord with this section must be in a format that is publicly\n",
            "        documented (and with an implementation available to the public in\n",
            "        source code form), and must require no special password or key for\n",
            "        unpacking, reading or copying.\n",
            "        \n",
            "          7. Additional Terms.\n",
            "        \n",
            "          \"Additional permissions\" are terms that supplement the terms of this\n",
            "        License by making exceptions from one or more of its conditions.\n",
            "        Additional permissions that are applicable to the entire Program shall\n",
            "        be treated as though they were included in this License, to the extent\n",
            "        that they are valid under applicable law.  If additional permissions\n",
            "        apply only to part of the Program, that part may be used separately\n",
            "        under those permissions, but the entire Program remains governed by\n",
            "        this License without regard to the additional permissions.\n",
            "        \n",
            "          When you convey a copy of a covered work, you may at your option\n",
            "        remove any additional permissions from that copy, or from any part of\n",
            "        it.  (Additional permissions may be written to require their own\n",
            "        removal in certain cases when you modify the work.)  You may place\n",
            "        additional permissions on material, added by you to a covered work,\n",
            "        for which you have or can give appropriate copyright permission.\n",
            "        \n",
            "          Notwithstanding any other provision of this License, for material you\n",
            "        add to a covered work, you may (if authorized by the copyright holders of\n",
            "        that material) supplement the terms of this License with terms:\n",
            "        \n",
            "            a) Disclaiming warranty or limiting liability differently from the\n",
            "            terms of sections 15 and 16 of this License; or\n",
            "        \n",
            "            b) Requiring preservation of specified reasonable legal notices or\n",
            "            author attributions in that material or in the Appropriate Legal\n",
            "            Notices displayed by works containing it; or\n",
            "        \n",
            "            c) Prohibiting misrepresentation of the origin of that material, or\n",
            "            requiring that modified versions of such material be marked in\n",
            "            reasonable ways as different from the original version; or\n",
            "        \n",
            "            d) Limiting the use for publicity purposes of names of licensors or\n",
            "            authors of the material; or\n",
            "        \n",
            "            e) Declining to grant rights under trademark law for use of some\n",
            "            trade names, trademarks, or service marks; or\n",
            "        \n",
            "            f) Requiring indemnification of licensors and authors of that\n",
            "            material by anyone who conveys the material (or modified versions of\n",
            "            it) with contractual assumptions of liability to the recipient, for\n",
            "            any liability that these contractual assumptions directly impose on\n",
            "            those licensors and authors.\n",
            "        \n",
            "          All other non-permissive additional terms are considered \"further\n",
            "        restrictions\" within the meaning of section 10.  If the Program as you\n",
            "        received it, or any part of it, contains a notice stating that it is\n",
            "        governed by this License along with a term that is a further\n",
            "        restriction, you may remove that term.  If a license document contains\n",
            "        a further restriction but permits relicensing or conveying under this\n",
            "        License, you may add to a covered work material governed by the terms\n",
            "        of that license document, provided that the further restriction does\n",
            "        not survive such relicensing or conveying.\n",
            "        \n",
            "          If you add terms to a covered work in accord with this section, you\n",
            "        must place, in the relevant source files, a statement of the\n",
            "        additional terms that apply to those files, or a notice indicating\n",
            "        where to find the applicable terms.\n",
            "        \n",
            "          Additional terms, permissive or non-permissive, may be stated in the\n",
            "        form of a separately written license, or stated as exceptions;\n",
            "        the above requirements apply either way.\n",
            "        \n",
            "          8. Termination.\n",
            "        \n",
            "          You may not propagate or modify a covered work except as expressly\n",
            "        provided under this License.  Any attempt otherwise to propagate or\n",
            "        modify it is void, and will automatically terminate your rights under\n",
            "        this License (including any patent licenses granted under the third\n",
            "        paragraph of section 11).\n",
            "        \n",
            "          However, if you cease all violation of this License, then your\n",
            "        license from a particular copyright holder is reinstated (a)\n",
            "        provisionally, unless and until the copyright holder explicitly and\n",
            "        finally terminates your license, and (b) permanently, if the copyright\n",
            "        holder fails to notify you of the violation by some reasonable means\n",
            "        prior to 60 days after the cessation.\n",
            "        \n",
            "          Moreover, your license from a particular copyright holder is\n",
            "        reinstated permanently if the copyright holder notifies you of the\n",
            "        violation by some reasonable means, this is the first time you have\n",
            "        received notice of violation of this License (for any work) from that\n",
            "        copyright holder, and you cure the violation prior to 30 days after\n",
            "        your receipt of the notice.\n",
            "        \n",
            "          Termination of your rights under this section does not terminate the\n",
            "        licenses of parties who have received copies or rights from you under\n",
            "        this License.  If your rights have been terminated and not permanently\n",
            "        reinstated, you do not qualify to receive new licenses for the same\n",
            "        material under section 10.\n",
            "        \n",
            "          9. Acceptance Not Required for Having Copies.\n",
            "        \n",
            "          You are not required to accept this License in order to receive or\n",
            "        run a copy of the Program.  Ancillary propagation of a covered work\n",
            "        occurring solely as a consequence of using peer-to-peer transmission\n",
            "        to receive a copy likewise does not require acceptance.  However,\n",
            "        nothing other than this License grants you permission to propagate or\n",
            "        modify any covered work.  These actions infringe copyright if you do\n",
            "        not accept this License.  Therefore, by modifying or propagating a\n",
            "        covered work, you indicate your acceptance of this License to do so.\n",
            "        \n",
            "          10. Automatic Licensing of Downstream Recipients.\n",
            "        \n",
            "          Each time you convey a covered work, the recipient automatically\n",
            "        receives a license from the original licensors, to run, modify and\n",
            "        propagate that work, subject to this License.  You are not responsible\n",
            "        for enforcing compliance by third parties with this License.\n",
            "        \n",
            "          An \"entity transaction\" is a transaction transferring control of an\n",
            "        organization, or substantially all assets of one, or subdividing an\n",
            "        organization, or merging organizations.  If propagation of a covered\n",
            "        work results from an entity transaction, each party to that\n",
            "        transaction who receives a copy of the work also receives whatever\n",
            "        licenses to the work the party's predecessor in interest had or could\n",
            "        give under the previous paragraph, plus a right to possession of the\n",
            "        Corresponding Source of the work from the predecessor in interest, if\n",
            "        the predecessor has it or can get it with reasonable efforts.\n",
            "        \n",
            "          You may not impose any further restrictions on the exercise of the\n",
            "        rights granted or affirmed under this License.  For example, you may\n",
            "        not impose a license fee, royalty, or other charge for exercise of\n",
            "        rights granted under this License, and you may not initiate litigation\n",
            "        (including a cross-claim or counterclaim in a lawsuit) alleging that\n",
            "        any patent claim is infringed by making, using, selling, offering for\n",
            "        sale, or importing the Program or any portion of it.\n",
            "        \n",
            "          11. Patents.\n",
            "        \n",
            "          A \"contributor\" is a copyright holder who authorizes use under this\n",
            "        License of the Program or a work on which the Program is based.  The\n",
            "        work thus licensed is called the contributor's \"contributor version\".\n",
            "        \n",
            "          A contributor's \"essential patent claims\" are all patent claims\n",
            "        owned or controlled by the contributor, whether already acquired or\n",
            "        hereafter acquired, that would be infringed by some manner, permitted\n",
            "        by this License, of making, using, or selling its contributor version,\n",
            "        but do not include claims that would be infringed only as a\n",
            "        consequence of further modification of the contributor version.  For\n",
            "        purposes of this definition, \"control\" includes the right to grant\n",
            "        patent sublicenses in a manner consistent with the requirements of\n",
            "        this License.\n",
            "        \n",
            "          Each contributor grants you a non-exclusive, worldwide, royalty-free\n",
            "        patent license under the contributor's essential patent claims, to\n",
            "        make, use, sell, offer for sale, import and otherwise run, modify and\n",
            "        propagate the contents of its contributor version.\n",
            "        \n",
            "          In the following three paragraphs, a \"patent license\" is any express\n",
            "        agreement or commitment, however denominated, not to enforce a patent\n",
            "        (such as an express permission to practice a patent or covenant not to\n",
            "        sue for patent infringement).  To \"grant\" such a patent license to a\n",
            "        party means to make such an agreement or commitment not to enforce a\n",
            "        patent against the party.\n",
            "        \n",
            "          If you convey a covered work, knowingly relying on a patent license,\n",
            "        and the Corresponding Source of the work is not available for anyone\n",
            "        to copy, free of charge and under the terms of this License, through a\n",
            "        publicly available network server or other readily accessible means,\n",
            "        then you must either (1) cause the Corresponding Source to be so\n",
            "        available, or (2) arrange to deprive yourself of the benefit of the\n",
            "        patent license for this particular work, or (3) arrange, in a manner\n",
            "        consistent with the requirements of this License, to extend the patent\n",
            "        license to downstream recipients.  \"Knowingly relying\" means you have\n",
            "        actual knowledge that, but for the patent license, your conveying the\n",
            "        covered work in a country, or your recipient's use of the covered work\n",
            "        in a country, would infringe one or more identifiable patents in that\n",
            "        country that you have reason to believe are valid.\n",
            "        \n",
            "          If, pursuant to or in connection with a single transaction or\n",
            "        arrangement, you convey, or propagate by procuring conveyance of, a\n",
            "        covered work, and grant a patent license to some of the parties\n",
            "        receiving the covered work authorizing them to use, propagate, modify\n",
            "        or convey a specific copy of the covered work, then the patent license\n",
            "        you grant is automatically extended to all recipients of the covered\n",
            "        work and works based on it.\n",
            "        \n",
            "          A patent license is \"discriminatory\" if it does not include within\n",
            "        the scope of its coverage, prohibits the exercise of, or is\n",
            "        conditioned on the non-exercise of one or more of the rights that are\n",
            "        specifically granted under this License.  You may not convey a covered\n",
            "        work if you are a party to an arrangement with a third party that is\n",
            "        in the business of distributing software, under which you make payment\n",
            "        to the third party based on the extent of your activity of conveying\n",
            "        the work, and under which the third party grants, to any of the\n",
            "        parties who would receive the covered work from you, a discriminatory\n",
            "        patent license (a) in connection with copies of the covered work\n",
            "        conveyed by you (or copies made from those copies), or (b) primarily\n",
            "        for and in connection with specific products or compilations that\n",
            "        contain the covered work, unless you entered into that arrangement,\n",
            "        or that patent license was granted, prior to 28 March 2007.\n",
            "        \n",
            "          Nothing in this License shall be construed as excluding or limiting\n",
            "        any implied license or other defenses to infringement that may\n",
            "        otherwise be available to you under applicable patent law.\n",
            "        \n",
            "          12. No Surrender of Others' Freedom.\n",
            "        \n",
            "          If conditions are imposed on you (whether by court order, agreement or\n",
            "        otherwise) that contradict the conditions of this License, they do not\n",
            "        excuse you from the conditions of this License.  If you cannot convey a\n",
            "        covered work so as to satisfy simultaneously your obligations under this\n",
            "        License and any other pertinent obligations, then as a consequence you may\n",
            "        not convey it at all.  For example, if you agree to terms that obligate you\n",
            "        to collect a royalty for further conveying from those to whom you convey\n",
            "        the Program, the only way you could satisfy both those terms and this\n",
            "        License would be to refrain entirely from conveying the Program.\n",
            "        \n",
            "          13. Use with the GNU Affero General Public License.\n",
            "        \n",
            "          Notwithstanding any other provision of this License, you have\n",
            "        permission to link or combine any covered work with a work licensed\n",
            "        under version 3 of the GNU Affero General Public License into a single\n",
            "        combined work, and to convey the resulting work.  The terms of this\n",
            "        License will continue to apply to the part which is the covered work,\n",
            "        but the special requirements of the GNU Affero General Public License,\n",
            "        section 13, concerning interaction through a network will apply to the\n",
            "        combination as such.\n",
            "        \n",
            "          14. Revised Versions of this License.\n",
            "        \n",
            "          The Free Software Foundation may publish revised and/or new versions of\n",
            "        the GNU General Public License from time to time.  Such new versions will\n",
            "        be similar in spirit to the present version, but may differ in detail to\n",
            "        address new problems or concerns.\n",
            "        \n",
            "          Each version is given a distinguishing version number.  If the\n",
            "        Program specifies that a certain numbered version of the GNU General\n",
            "        Public License \"or any later version\" applies to it, you have the\n",
            "        option of following the terms and conditions either of that numbered\n",
            "        version or of any later version published by the Free Software\n",
            "        Foundation.  If the Program does not specify a version number of the\n",
            "        GNU General Public License, you may choose any version ever published\n",
            "        by the Free Software Foundation.\n",
            "        \n",
            "          If the Program specifies that a proxy can decide which future\n",
            "        versions of the GNU General Public License can be used, that proxy's\n",
            "        public statement of acceptance of a version permanently authorizes you\n",
            "        to choose that version for the Program.\n",
            "        \n",
            "          Later license versions may give you additional or different\n",
            "        permissions.  However, no additional obligations are imposed on any\n",
            "        author or copyright holder as a result of your choosing to follow a\n",
            "        later version.\n",
            "        \n",
            "          15. Disclaimer of Warranty.\n",
            "        \n",
            "          THERE IS NO WARRANTY FOR THE PROGRAM, TO THE EXTENT PERMITTED BY\n",
            "        APPLICABLE LAW.  EXCEPT WHEN OTHERWISE STATED IN WRITING THE COPYRIGHT\n",
            "        HOLDERS AND/OR OTHER PARTIES PROVIDE THE PROGRAM \"AS IS\" WITHOUT WARRANTY\n",
            "        OF ANY KIND, EITHER EXPRESSED OR IMPLIED, INCLUDING, BUT NOT LIMITED TO,\n",
            "        THE IMPLIED WARRANTIES OF MERCHANTABILITY AND FITNESS FOR A PARTICULAR\n",
            "        PURPOSE.  THE ENTIRE RISK AS TO THE QUALITY AND PERFORMANCE OF THE PROGRAM\n",
            "        IS WITH YOU.  SHOULD THE PROGRAM PROVE DEFECTIVE, YOU ASSUME THE COST OF\n",
            "        ALL NECESSARY SERVICING, REPAIR OR CORRECTION.\n",
            "        \n",
            "          16. Limitation of Liability.\n",
            "        \n",
            "          IN NO EVENT UNLESS REQUIRED BY APPLICABLE LAW OR AGREED TO IN WRITING\n",
            "        WILL ANY COPYRIGHT HOLDER, OR ANY OTHER PARTY WHO MODIFIES AND/OR CONVEYS\n",
            "        THE PROGRAM AS PERMITTED ABOVE, BE LIABLE TO YOU FOR DAMAGES, INCLUDING ANY\n",
            "        GENERAL, SPECIAL, INCIDENTAL OR CONSEQUENTIAL DAMAGES ARISING OUT OF THE\n",
            "        USE OR INABILITY TO USE THE PROGRAM (INCLUDING BUT NOT LIMITED TO LOSS OF\n",
            "        DATA OR DATA BEING RENDERED INACCURATE OR LOSSES SUSTAINED BY YOU OR THIRD\n",
            "        PARTIES OR A FAILURE OF THE PROGRAM TO OPERATE WITH ANY OTHER PROGRAMS),\n",
            "        EVEN IF SUCH HOLDER OR OTHER PARTY HAS BEEN ADVISED OF THE POSSIBILITY OF\n",
            "        SUCH DAMAGES.\n",
            "        \n",
            "          17. Interpretation of Sections 15 and 16.\n",
            "        \n",
            "          If the disclaimer of warranty and limitation of liability provided\n",
            "        above cannot be given local legal effect according to their terms,\n",
            "        reviewing courts shall apply local law that most closely approximates\n",
            "        an absolute waiver of all civil liability in connection with the\n",
            "        Program, unless a warranty or assumption of liability accompanies a\n",
            "        copy of the Program in return for a fee.\n",
            "        \n",
            "                             END OF TERMS AND CONDITIONS\n",
            "        \n",
            "                    How to Apply These Terms to Your New Programs\n",
            "        \n",
            "          If you develop a new program, and you want it to be of the greatest\n",
            "        possible use to the public, the best way to achieve this is to make it\n",
            "        free software which everyone can redistribute and change under these terms.\n",
            "        \n",
            "          To do so, attach the following notices to the program.  It is safest\n",
            "        to attach them to the start of each source file to most effectively\n",
            "        state the exclusion of warranty; and each file should have at least\n",
            "        the \"copyright\" line and a pointer to where the full notice is found.\n",
            "        \n",
            "            <one line to give the program's name and a brief idea of what it does.>\n",
            "            Copyright (C) <year>  <name of author>\n",
            "        \n",
            "            This program is free software: you can redistribute it and/or modify\n",
            "            it under the terms of the GNU General Public License as published by\n",
            "            the Free Software Foundation, either version 3 of the License, or\n",
            "            (at your option) any later version.\n",
            "        \n",
            "            This program is distributed in the hope that it will be useful,\n",
            "            but WITHOUT ANY WARRANTY; without even the implied warranty of\n",
            "            MERCHANTABILITY or FITNESS FOR A PARTICULAR PURPOSE.  See the\n",
            "            GNU General Public License for more details.\n",
            "        \n",
            "            You should have received a copy of the GNU General Public License\n",
            "            along with this program.  If not, see <http://www.gnu.org/licenses/>.\n",
            "        \n",
            "        Also add information on how to contact you by electronic and paper mail.\n",
            "        \n",
            "          If the program does terminal interaction, make it output a short\n",
            "        notice like this when it starts in an interactive mode:\n",
            "        \n",
            "            <program>  Copyright (C) <year>  <name of author>\n",
            "            This program comes with ABSOLUTELY NO WARRANTY; for details type `show w'.\n",
            "            This is free software, and you are welcome to redistribute it\n",
            "            under certain conditions; type `show c' for details.\n",
            "        \n",
            "        The hypothetical commands `show w' and `show c' should show the appropriate\n",
            "        parts of the General Public License.  Of course, your program's commands\n",
            "        might be different; for a GUI interface, you would use an \"about box\".\n",
            "        \n",
            "          You should also get your employer (if you work as a programmer) or school,\n",
            "        if any, to sign a \"copyright disclaimer\" for the program, if necessary.\n",
            "        For more information on this, and how to apply and follow the GNU GPL, see\n",
            "        <http://www.gnu.org/licenses/>.\n",
            "        \n",
            "          The GNU General Public License does not permit incorporating your program\n",
            "        into proprietary programs.  If your program is a subroutine library, you\n",
            "        may consider it more useful to permit linking proprietary applications with\n",
            "        the library.  If this is what you want to do, use the GNU Lesser General\n",
            "        Public License instead of this License.  But first, please read\n",
            "        <http://www.gnu.org/philosophy/why-not-lgpl.html>.\n",
            "        \n",
            "        Name: libquadmath\n",
            "        Files: numpy.libs/libquadmath*.so\n",
            "        Description: dynamically linked to files compiled with gcc\n",
            "        Availability: https://gcc.gnu.org/git/?p=gcc.git;a=tree;f=libquadmath\n",
            "        License: LGPL-2.1-or-later\n",
            "        \n",
            "            GCC Quad-Precision Math Library\n",
            "            Copyright (C) 2010-2019 Free Software Foundation, Inc.\n",
            "            Written by Francois-Xavier Coudert  <fxcoudert@gcc.gnu.org>\n",
            "        \n",
            "            This file is part of the libquadmath library.\n",
            "            Libquadmath is free software; you can redistribute it and/or\n",
            "            modify it under the terms of the GNU Library General Public\n",
            "            License as published by the Free Software Foundation; either\n",
            "            version 2.1 of the License, or (at your option) any later version.\n",
            "        \n",
            "            Libquadmath is distributed in the hope that it will be useful,\n",
            "            but WITHOUT ANY WARRANTY; without even the implied warranty of\n",
            "            MERCHANTABILITY or FITNESS FOR A PARTICULAR PURPOSE.  See the GNU\n",
            "            Lesser General Public License for more details.\n",
            "            https://www.gnu.org/licenses/old-licenses/lgpl-2.1.html\n",
            "Location: /usr/local/lib/python3.10/dist-packages\n",
            "Requires: \n",
            "Required-by: albumentations, altair, arviz, astropy, autograd, blis, bokeh, bqplot, chex, cmdstanpy, contourpy, cufflinks, cupy-cuda12x, cvxpy, datascience, db-dtypes, dopamine-rl, ecos, flax, folium, geemap, gensim, gym, h5py, holoviews, hyperopt, ibis-framework, imageio, imbalanced-learn, imgaug, jax, jaxlib, librosa, lightgbm, matplotlib, matplotlib-venn, missingno, mizani, ml-dtypes, mlxtend, moviepy, music21, nibabel, numba, numexpr, opencv-contrib-python, opencv-python, opencv-python-headless, opt-einsum, optax, orbax-checkpoint, osqp, pandas, pandas-gbq, patsy, plotnine, prophet, pyarrow, pycocotools, pyerfa, pymc, pytensor, python-louvain, PyWavelets, qdldl, qudida, scikit-image, scikit-learn, scipy, scs, seaborn, shapely, sklearn-pandas, soxr, spacy, stanio, statsmodels, tables, tensorboard, tensorflow, tensorflow-datasets, tensorflow-hub, tensorflow-probability, tensorstore, thinc, tifffile, torchtext, torchvision, transformers, wordcloud, xarray, xarray-einstats, xgboost, yellowbrick, yfinance\n"
          ]
        }
      ]
    },
    {
      "cell_type": "markdown",
      "source": [
        "## Working With Common Built-in Functions and Packages\n",
        "1. os - Operating System Interface\n",
        "To interact with the operating system:"
      ],
      "metadata": {
        "id": "NDpxafhbTw8M"
      }
    },
    {
      "cell_type": "code",
      "source": [
        "import os\n",
        "current_directory = os.getcwd()  # Get the current working directory"
      ],
      "metadata": {
        "id": "yxoisId9H0IL"
      },
      "execution_count": null,
      "outputs": []
    },
    {
      "cell_type": "markdown",
      "source": [
        "2. sys - System-specific Parameters and Functions\n",
        "To access system-specific parameters and functions:"
      ],
      "metadata": {
        "id": "TsXdhwA_TzjA"
      }
    },
    {
      "cell_type": "code",
      "source": [
        "import sys\n",
        "sys.exit()  # Exit the script"
      ],
      "metadata": {
        "id": "Rie-gNcsH3_X"
      },
      "execution_count": null,
      "outputs": []
    },
    {
      "cell_type": "markdown",
      "source": [
        "3. datetime - Basic Date and Time Types\n",
        "To work with dates and times:"
      ],
      "metadata": {
        "id": "0iGelrJ6T4uK"
      }
    },
    {
      "cell_type": "code",
      "source": [
        "from datetime import datetime\n",
        "now = datetime.now()  # Current date and time"
      ],
      "metadata": {
        "id": "DyRtjOBvH386"
      },
      "execution_count": null,
      "outputs": []
    },
    {
      "cell_type": "markdown",
      "source": [
        "4. math - Mathematical Functions\n",
        "To perform mathematical operations:"
      ],
      "metadata": {
        "id": "8JplnkzLT4Jo"
      }
    },
    {
      "cell_type": "code",
      "source": [
        "import math\n",
        "result = math.sqrt(16)  # Square root"
      ],
      "metadata": {
        "id": "OwuAqdaZH36W"
      },
      "execution_count": null,
      "outputs": []
    },
    {
      "cell_type": "markdown",
      "source": [
        "5. random - Generate Pseudo-random Numbers\n",
        "To generate pseudo-random numbers:"
      ],
      "metadata": {
        "id": "u75s7l_dT9pt"
      }
    },
    {
      "cell_type": "code",
      "source": [
        "import random\n",
        "number = random.randint(1, 10)  # Random integer between 1 and 10"
      ],
      "metadata": {
        "id": "Ix9VZUc8H33u"
      },
      "execution_count": null,
      "outputs": []
    },
    {
      "cell_type": "markdown",
      "source": [
        "6. json - JSON Encoder and Decoder\n",
        "To parse and generate JSON data:"
      ],
      "metadata": {
        "id": "6CtAA5HET_Z2"
      }
    },
    {
      "cell_type": "code",
      "source": [
        "import json\n",
        "json_string = json.dumps({'name': 'Alice', 'age': 30})  # Dictionary to JSON string"
      ],
      "metadata": {
        "id": "AO8ffnfPH304"
      },
      "execution_count": null,
      "outputs": []
    },
    {
      "cell_type": "markdown",
      "source": [
        "7. re - Regular Expressions\n",
        "To work with regular expressions:"
      ],
      "metadata": {
        "id": "Obr9xaeyUBh5"
      }
    },
    {
      "cell_type": "code",
      "source": [
        "from urllib.request import urlopen\n",
        "content = urlopen('http://example.com').read()  # Fetch the content of a webpage"
      ],
      "metadata": {
        "id": "3L2SEfusH3yA"
      },
      "execution_count": null,
      "outputs": []
    },
    {
      "cell_type": "markdown",
      "source": [
        "8. urllib - URL Handling Modules\n",
        "To work with URLs:"
      ],
      "metadata": {
        "id": "I9fKd3ZlUDL8"
      }
    },
    {
      "cell_type": "code",
      "source": [
        "from http.server import HTTPServer, BaseHTTPRequestHandler"
      ],
      "metadata": {
        "id": "dDMOzrm-H3vU"
      },
      "execution_count": null,
      "outputs": []
    },
    {
      "cell_type": "markdown",
      "source": [
        "9. http - HTTP Modules\n",
        "To create HTTP servers and work with HTTP requests:"
      ],
      "metadata": {
        "id": "4D1Gw6IDUFim"
      }
    },
    {
      "cell_type": "code",
      "source": [
        "class SimpleHTTPRequestHandler(BaseHTTPRequestHandler):\n",
        "    def do_GET(self):\n",
        "        self.send_response(200)\n",
        "        self.send_header('Content-type', 'text/html')\n",
        "        self.end_headers()\n",
        "        self.wfile.write(b'<html><head><title>Python HTTP Server</title></head>')\n",
        "        self.wfile.write(b'<body><h1>Hello from a simple Python HTTP server!</h1></body></html>')\n",
        "def run(server_class=HTTPServer, handler_class=SimpleHTTPRequestHandler):\n",
        "    server_address = ('', 8000)  # Serve on all addresses, port 8000\n",
        "    httpd = server_class(server_address, handler_class)\n",
        "    print(\"Server starting on port 8000...\")\n",
        "    httpd.serve_forever()\n",
        "if __name__ == '__main__':\n",
        "    run()"
      ],
      "metadata": {
        "id": "SQmzxCEKH3sI",
        "colab": {
          "base_uri": "https://localhost:8080/"
        },
        "outputId": "acf30824-2160-4050-c4f2-c650f22133b2"
      },
      "execution_count": null,
      "outputs": [
        {
          "output_type": "stream",
          "name": "stdout",
          "text": [
            "Server starting on port 8000...\n"
          ]
        }
      ]
    },
    {
      "cell_type": "markdown",
      "source": [
        "10. subprocess - Subprocess Management\n",
        "To spawn new processes and connect to their input/output/error pipes:"
      ],
      "metadata": {
        "id": "12PUtcBcUHyg"
      }
    },
    {
      "cell_type": "code",
      "source": [
        "import subprocess\n",
        "subprocess.run(['ls', '-l'])  # Run the 'ls -l' command"
      ],
      "metadata": {
        "id": "kLJ6BsDOH3pO",
        "colab": {
          "base_uri": "https://localhost:8080/"
        },
        "outputId": "194aafb6-fc26-43ca-d4c8-aac45d7d17d9"
      },
      "execution_count": null,
      "outputs": [
        {
          "output_type": "stream",
          "name": "stdout",
          "text": [
            "Traceback (most recent call last):\n",
            "  File \"/usr/local/lib/python3.10/dist-packages/IPython/core/interactiveshell.py\", line 3553, in run_code\n",
            "    exec(code_obj, self.user_global_ns, self.user_ns)\n",
            "  File \"<ipython-input-150-5ea1545554ba>\", line 2, in <cell line: 2>\n",
            "    subprocess.run(['ls', '-l'])  # Run the 'ls -l' command\n",
            "  File \"/usr/local/lib/python3.10/dist-packages/IPython/core/displayhook.py\", line 268, in __call__\n",
            "    self.finish_displayhook()\n",
            "  File \"/usr/local/lib/python3.10/dist-packages/ipykernel/displayhook.py\", line 77, in finish_displayhook\n",
            "    sys.stderr.flush()\n",
            "ValueError: I/O operation on closed file.\n",
            "\n",
            "During handling of the above exception, another exception occurred:\n",
            "\n",
            "Traceback (most recent call last):\n",
            "  File \"/usr/local/lib/python3.10/dist-packages/IPython/core/interactiveshell.py\", line 3473, in run_ast_nodes\n",
            "    if (await self.run_code(code, result,  async_=asy)):\n",
            "  File \"/usr/local/lib/python3.10/dist-packages/IPython/core/interactiveshell.py\", line 3575, in run_code\n",
            "    self.showtraceback(running_compiled_code=True)\n",
            "  File \"/usr/local/lib/python3.10/dist-packages/IPython/core/interactiveshell.py\", line 2104, in showtraceback\n",
            "    self._showtraceback(etype, value, stb)\n",
            "  File \"/usr/local/lib/python3.10/dist-packages/google/colab/_shell.py\", line 123, in _showtraceback\n",
            "    sys.stderr.flush()\n",
            "ValueError: I/O operation on closed file.\n",
            "\n",
            "During handling of the above exception, another exception occurred:\n",
            "\n",
            "Traceback (most recent call last):\n",
            "  File \"/usr/local/lib/python3.10/dist-packages/IPython/core/interactiveshell.py\", line 3030, in _run_cell\n",
            "    return runner(coro)\n",
            "  File \"/usr/local/lib/python3.10/dist-packages/IPython/core/async_helpers.py\", line 78, in _pseudo_sync_runner\n",
            "    coro.send(None)\n",
            "  File \"/usr/local/lib/python3.10/dist-packages/IPython/core/interactiveshell.py\", line 3257, in run_cell_async\n",
            "    has_raised = await self.run_ast_nodes(code_ast.body, cell_name,\n",
            "  File \"/usr/local/lib/python3.10/dist-packages/IPython/core/interactiveshell.py\", line 3492, in run_ast_nodes\n",
            "    self.showtraceback()\n",
            "  File \"/usr/local/lib/python3.10/dist-packages/IPython/core/interactiveshell.py\", line 2104, in showtraceback\n",
            "    self._showtraceback(etype, value, stb)\n",
            "  File \"/usr/local/lib/python3.10/dist-packages/google/colab/_shell.py\", line 123, in _showtraceback\n",
            "    sys.stderr.flush()\n",
            "ValueError: I/O operation on closed file.\n",
            "\n",
            "During handling of the above exception, another exception occurred:\n",
            "\n",
            "Traceback (most recent call last):\n",
            "  File \"/usr/local/lib/python3.10/dist-packages/IPython/core/interactiveshell.py\", line 2099, in showtraceback\n",
            "    stb = value._render_traceback_()\n",
            "AttributeError: 'ValueError' object has no attribute '_render_traceback_'\n",
            "\n",
            "During handling of the above exception, another exception occurred:\n",
            "\n",
            "Traceback (most recent call last):\n",
            "  File \"/usr/local/lib/python3.10/dist-packages/IPython/core/ultratb.py\", line 1101, in get_records\n",
            "    return _fixed_getinnerframes(etb, number_of_lines_of_context, tb_offset)\n",
            "  File \"/usr/local/lib/python3.10/dist-packages/IPython/core/ultratb.py\", line 248, in wrapped\n",
            "    return f(*args, **kwargs)\n",
            "  File \"/usr/local/lib/python3.10/dist-packages/IPython/core/ultratb.py\", line 281, in _fixed_getinnerframes\n",
            "    records = fix_frame_records_filenames(inspect.getinnerframes(etb, context))\n",
            "  File \"/usr/lib/python3.10/inspect.py\", line 1662, in getinnerframes\n",
            "    frameinfo = (tb.tb_frame,) + getframeinfo(tb, context)\n",
            "  File \"/usr/lib/python3.10/inspect.py\", line 1624, in getframeinfo\n",
            "    lines, lnum = findsource(frame)\n",
            "  File \"/usr/local/lib/python3.10/dist-packages/IPython/core/ultratb.py\", line 170, in findsource\n",
            "    file = getsourcefile(object) or getfile(object)\n",
            "  File \"/usr/lib/python3.10/inspect.py\", line 823, in getsourcefile\n",
            "    elif any(filename.endswith(s) for s in\n",
            "  File \"/usr/lib/python3.10/inspect.py\", line 823, in <genexpr>\n",
            "    elif any(filename.endswith(s) for s in\n",
            "KeyboardInterrupt\n"
          ]
        }
      ]
    },
    {
      "cell_type": "markdown",
      "source": [
        "11. socket - Low-level Networking Interface\n",
        "To create network clients and servers:"
      ],
      "metadata": {
        "id": "zHIKX61lUJNv"
      }
    },
    {
      "cell_type": "code",
      "source": [
        "import socket\n",
        "s = socket.socket(socket.AF_INET, socket.SOCK_STREAM)  # Create a TCP/IP socket"
      ],
      "metadata": {
        "id": "DpAnNuDgH3ml"
      },
      "execution_count": null,
      "outputs": []
    },
    {
      "cell_type": "markdown",
      "source": [
        "12. threading - Thread-based Parallelism\n",
        "To manage concurrent execution of code:"
      ],
      "metadata": {
        "id": "6OAmLDVjULLQ"
      }
    },
    {
      "cell_type": "code",
      "source": [
        "import threading\n",
        "def worker():\n",
        "    print(\"Worker thread executing\")\n",
        "thread = threading.Thread(target=worker)\n",
        "thread.start()"
      ],
      "metadata": {
        "id": "avI8pxe9H3jl",
        "colab": {
          "base_uri": "https://localhost:8080/"
        },
        "outputId": "078658f0-5538-48bc-b132-753795b51f30"
      },
      "execution_count": null,
      "outputs": [
        {
          "output_type": "stream",
          "name": "stdout",
          "text": [
            "Worker thread executing\n"
          ]
        }
      ]
    },
    {
      "cell_type": "markdown",
      "source": [
        "13. multiprocessing - Process-based Parallelism\n",
        "To manage concurrent processes:"
      ],
      "metadata": {
        "id": "i7p_L5T4UM_c"
      }
    },
    {
      "cell_type": "code",
      "source": [
        "from multiprocessing import Process\n",
        "def worker():\n",
        "    print(\"Worker process\")\n",
        "p = Process(target=worker)\n",
        "p.start()"
      ],
      "metadata": {
        "id": "38ho3V2HH3gn",
        "colab": {
          "base_uri": "https://localhost:8080/"
        },
        "outputId": "a01854e2-29be-42ee-863b-fe9bc78c0444"
      },
      "execution_count": null,
      "outputs": [
        {
          "output_type": "stream",
          "name": "stdout",
          "text": [
            "Worker process\n"
          ]
        }
      ]
    },
    {
      "cell_type": "markdown",
      "source": [
        "14. argparse - Parser for Command-line Options, Arguments, and Sub-commands\n",
        "To parse command-line arguments:"
      ],
      "metadata": {
        "id": "vrRFnZR0UPcw"
      }
    },
    {
      "cell_type": "code",
      "source": [
        "import argparse\n",
        "parser = argparse.ArgumentParser(description=\"Process some integers.\")\n",
        "args = parser.parse_args()"
      ],
      "metadata": {
        "id": "cf6-HzlSIapO"
      },
      "execution_count": null,
      "outputs": []
    },
    {
      "cell_type": "markdown",
      "source": [
        "15. logging - Logging Facility\n",
        "To log messages (debug, info, warning, error, and critical):"
      ],
      "metadata": {
        "id": "Zr05Uj5CURCu"
      }
    },
    {
      "cell_type": "code",
      "source": [
        "import logging\n",
        "logging.warning('This is a warning message')"
      ],
      "metadata": {
        "id": "9LeJX9xxIaiO"
      },
      "execution_count": null,
      "outputs": []
    },
    {
      "cell_type": "markdown",
      "source": [
        "16. unittest - Unit Testing Framework\n",
        "To create and run unit tests:"
      ],
      "metadata": {
        "id": "8jpDOfCbUShe"
      }
    },
    {
      "cell_type": "code",
      "source": [
        "import unittest\n",
        "class TestStringMethods(unittest.TestCase):\n",
        "    def test_upper(self):\n",
        "        self.assertEqual('foo'.upper(), 'FOO')"
      ],
      "metadata": {
        "id": "MjedWRqrIaf7"
      },
      "execution_count": null,
      "outputs": []
    },
    {
      "cell_type": "markdown",
      "source": [
        "17. pathlib - Object-oriented Filesystem Paths\n",
        "To work with filesystem paths in an object-oriented way:"
      ],
      "metadata": {
        "id": "t41KNYWUUT-G"
      }
    },
    {
      "cell_type": "code",
      "source": [
        "from pathlib import Path\n",
        "p = Path('.')"
      ],
      "metadata": {
        "id": "q1Y2B32aIadn"
      },
      "execution_count": null,
      "outputs": []
    },
    {
      "cell_type": "markdown",
      "source": [
        "18. functools - Higher-order Functions and Operations on Callable Objects\n",
        "To use higher-order functions and operations on callable objects:"
      ],
      "metadata": {
        "id": "7Ni3N8aBUW4W"
      }
    },
    {
      "cell_type": "code",
      "source": [
        "from functools import lru_cache\n",
        "@lru_cache(maxsize=None)\n",
        "def fib(n):\n",
        "    if n < 2:\n",
        "        return n\n",
        "    return fib(n-1) + fib(n-2)"
      ],
      "metadata": {
        "id": "O7aYlsJSIabW"
      },
      "execution_count": null,
      "outputs": []
    },
    {
      "cell_type": "markdown",
      "source": [
        "19. collections - Container Data Types\n",
        "To use specialized container data types (deque, Counter, OrderedDict, etc.):"
      ],
      "metadata": {
        "id": "bynfiwaAUYm2"
      }
    },
    {
      "cell_type": "code",
      "source": [
        "from collections import Counter\n",
        "c = Counter('hello world')"
      ],
      "metadata": {
        "id": "OxKffLUTIaYk"
      },
      "execution_count": null,
      "outputs": []
    },
    {
      "cell_type": "markdown",
      "source": [
        "20. itertools - Functions Creating Iterators for Efficient Looping\n",
        "To construct and use iterators for efficient looping:"
      ],
      "metadata": {
        "id": "CFXxrAFHUaXJ"
      }
    },
    {
      "cell_type": "code",
      "source": [
        "import itertools\n",
        "for combination in itertools.combinations('ABCD', 2):\n",
        "    print(combination)"
      ],
      "metadata": {
        "id": "CMEQv-ikIaWG",
        "colab": {
          "base_uri": "https://localhost:8080/"
        },
        "outputId": "8ed3e109-ab47-4a3c-917f-d7444d726fb2"
      },
      "execution_count": null,
      "outputs": [
        {
          "output_type": "stream",
          "name": "stdout",
          "text": [
            "('A', 'B')\n",
            "('A', 'C')\n",
            "('A', 'D')\n",
            "('B', 'C')\n",
            "('B', 'D')\n",
            "('C', 'D')\n"
          ]
        }
      ]
    },
    {
      "cell_type": "markdown",
      "source": [
        "21. hashlib - Secure Hash and Message Digest Algorithms\n",
        "To hash data:"
      ],
      "metadata": {
        "id": "aFGQ_EcaUbtn"
      }
    },
    {
      "cell_type": "code",
      "source": [
        "import hashlib\n",
        "hash_object = hashlib.sha256(b'Hello World')\n",
        "hex_dig = hash_object.hexdigest()"
      ],
      "metadata": {
        "id": "ue5ZRLs8IaTy"
      },
      "execution_count": null,
      "outputs": []
    },
    {
      "cell_type": "markdown",
      "source": [
        "22. csv - CSV File Reading and Writing\n",
        "To read from and write to CSV files:"
      ],
      "metadata": {
        "id": "Pmo2YNOgUeDY"
      }
    },
    {
      "cell_type": "code",
      "source": [
        "import csv\n",
        "with open('file.csv', mode='r') as infile:\n",
        "    reader = csv.reader(infile)"
      ],
      "metadata": {
        "id": "78a19VyIIaRJ"
      },
      "execution_count": null,
      "outputs": []
    },
    {
      "cell_type": "markdown",
      "source": [
        "23. xml.etree.ElementTree - The ElementTree XML API\n",
        "To parse and create XML data:"
      ],
      "metadata": {
        "id": "YfQ3klISUgd5"
      }
    },
    {
      "cell_type": "code",
      "source": [
        "import xml.etree.ElementTree as ET\n",
        "tree = ET.parse('file.xml')\n",
        "root = tree.getroot()"
      ],
      "metadata": {
        "id": "i-mJltVPIaO3"
      },
      "execution_count": null,
      "outputs": []
    },
    {
      "cell_type": "markdown",
      "source": [
        "24. sqlite3 - DB-API 2.0 Interface for SQLite Databases\n",
        "To interact with SQLite databases:"
      ],
      "metadata": {
        "id": "1SsuLrfHUiYE"
      }
    },
    {
      "cell_type": "code",
      "source": [
        "import sqlite3\n",
        "conn = sqlite3.connect('example.db')"
      ],
      "metadata": {
        "id": "zPnrxVuWIaMF"
      },
      "execution_count": null,
      "outputs": []
    },
    {
      "cell_type": "markdown",
      "source": [
        "25. tkinter - GUI Toolkit\n",
        "To create GUI applications:"
      ],
      "metadata": {
        "id": "x5TssbTsUkGS"
      }
    },
    {
      "cell_type": "code",
      "source": [
        "import tkinter as tk\n",
        "root = tk.Tk()"
      ],
      "metadata": {
        "id": "gJEogzs-IaJc"
      },
      "execution_count": null,
      "outputs": []
    },
    {
      "cell_type": "markdown",
      "source": [
        "26. pickle - Python Object Serialization\n",
        "To serialize and deserialize Python object structures:"
      ],
      "metadata": {
        "id": "X1RztShfUmKT"
      }
    },
    {
      "cell_type": "code",
      "source": [
        "import pickle\n",
        "serialized_obj = pickle.dumps(obj)"
      ],
      "metadata": {
        "id": "D2xOSU-hIaGE"
      },
      "execution_count": null,
      "outputs": []
    },
    {
      "cell_type": "markdown",
      "source": [
        "27. io - Core Tools for Working with Streams\n",
        "To handle streams (file-like objects):"
      ],
      "metadata": {
        "id": "ssv_jx5SUnhg"
      }
    },
    {
      "cell_type": "code",
      "source": [
        "from io import StringIO\n",
        "f = StringIO(\"some initial text data\")"
      ],
      "metadata": {
        "id": "__9Pj0u9IyhJ"
      },
      "execution_count": null,
      "outputs": []
    },
    {
      "cell_type": "markdown",
      "source": [
        "28. time - Time Access and Conversions\n",
        "To access time-related functions:"
      ],
      "metadata": {
        "id": "B8zApc_cUo6e"
      }
    },
    {
      "cell_type": "code",
      "source": [
        "import time\n",
        "time.sleep(1)  # Sleep for 1 second"
      ],
      "metadata": {
        "id": "63pgNhkFIyca"
      },
      "execution_count": null,
      "outputs": []
    },
    {
      "cell_type": "markdown",
      "source": [
        "29. calendar - General Calendar-related Functions\n",
        "To work with calendars:"
      ],
      "metadata": {
        "id": "re8FEeGFUqzM"
      }
    },
    {
      "cell_type": "code",
      "source": [
        "import calendar\n",
        "print(calendar.month(2023, 1))  # Print the calendar for January 2023"
      ],
      "metadata": {
        "id": "aMdh9Y_GIyaJ",
        "colab": {
          "base_uri": "https://localhost:8080/"
        },
        "outputId": "cda1cf29-7a71-44e9-f7f4-e4385b1086c3"
      },
      "execution_count": null,
      "outputs": [
        {
          "output_type": "stream",
          "name": "stdout",
          "text": [
            "    January 2023\n",
            "Mo Tu We Th Fr Sa Su\n",
            "                   1\n",
            " 2  3  4  5  6  7  8\n",
            " 9 10 11 12 13 14 15\n",
            "16 17 18 19 20 21 22\n",
            "23 24 25 26 27 28 29\n",
            "30 31\n",
            "\n"
          ]
        }
      ]
    },
    {
      "cell_type": "markdown",
      "source": [
        "30. queue - A Synchronized Queue Class\n",
        "To manage a queue, useful in multithreaded programming:"
      ],
      "metadata": {
        "id": "QGDXB-KCXMqr"
      }
    },
    {
      "cell_type": "code",
      "source": [
        "from queue import Queue\n",
        "q = Queue()"
      ],
      "metadata": {
        "id": "aU9vxZhZIyXr"
      },
      "execution_count": null,
      "outputs": []
    },
    {
      "cell_type": "markdown",
      "source": [
        "31. shutil - High-level File Operations\n",
        "To perform high-level file operations, like copying and archiving:"
      ],
      "metadata": {
        "id": "uxMDPr4AXQ6H"
      }
    },
    {
      "cell_type": "code",
      "source": [
        "import shutil\n",
        "shutil.copyfile('source.txt', 'dest.txt')"
      ],
      "metadata": {
        "id": "6GLhcbsrIyU8"
      },
      "execution_count": null,
      "outputs": []
    },
    {
      "cell_type": "markdown",
      "source": [
        "32. glob - Unix Style Pathname Pattern Expansion\n",
        "To find files matching a specified pattern:"
      ],
      "metadata": {
        "id": "rRppxi3QXSf3"
      }
    },
    {
      "cell_type": "code",
      "source": [
        "import glob\n",
        "for file in glob.glob(\"*.txt\"):\n",
        "    print(file)"
      ],
      "metadata": {
        "id": "pthdlFojIySP",
        "colab": {
          "base_uri": "https://localhost:8080/"
        },
        "outputId": "fcc8a3af-5ac7-42a7-e80e-c643a1ec1890"
      },
      "execution_count": null,
      "outputs": [
        {
          "output_type": "stream",
          "name": "stdout",
          "text": [
            "warnings.txt\n",
            "requirements.txt\n",
            "mystic_log.txt\n"
          ]
        }
      ]
    },
    {
      "cell_type": "markdown",
      "source": [
        "33. tempfile - Generate Temporary Files and Directories\n",
        "To create temporary files and directories:"
      ],
      "metadata": {
        "id": "3XubWUOiXUIo"
      }
    },
    {
      "cell_type": "code",
      "source": [
        "import tempfile\n",
        "temp = tempfile.TemporaryFile()"
      ],
      "metadata": {
        "id": "tSxTB86mIyPL"
      },
      "execution_count": null,
      "outputs": []
    },
    {
      "cell_type": "markdown",
      "source": [
        "34. bz2 - Support for Bzip2 Compression\n",
        "To compress and decompress data using bzip2 compression:"
      ],
      "metadata": {
        "id": "mlTeK76qXV06"
      }
    },
    {
      "cell_type": "code",
      "source": [
        "import bz2\n",
        "compressed = bz2.compress(b'your data here')"
      ],
      "metadata": {
        "id": "rKuzPfPEIyMj"
      },
      "execution_count": null,
      "outputs": []
    },
    {
      "cell_type": "markdown",
      "source": [
        "35. gzip - Support for Gzip Compression\n",
        "To compress and decompress data using gzip compression:"
      ],
      "metadata": {
        "id": "X7TFiTL9XX9Y"
      }
    },
    {
      "cell_type": "code",
      "source": [
        "import gzip\n",
        "with gzip.open('file.txt.gz', 'wt') as f:\n",
        "    f.write('your data here')"
      ],
      "metadata": {
        "id": "IpH3kLa7IyJ6"
      },
      "execution_count": null,
      "outputs": []
    },
    {
      "cell_type": "markdown",
      "source": [
        "36. ssl - TLS/SSL Wrapper for Socket Objects\n",
        "To handle TLS/SSL encryption and peer authentication for network sockets:"
      ],
      "metadata": {
        "id": "Fl73uZ_cXZhg"
      }
    },
    {
      "cell_type": "code",
      "source": [
        "import ssl\n",
        "ssl.wrap_socket(sock)"
      ],
      "metadata": {
        "id": "2dk4YBULIyG8"
      },
      "execution_count": null,
      "outputs": []
    },
    {
      "cell_type": "markdown",
      "source": [
        "37. imaplib - IMAP4 Protocol Client\n",
        "To access and manipulate mail over IMAP4:"
      ],
      "metadata": {
        "id": "38q_UkMXXbyW"
      }
    },
    {
      "cell_type": "code",
      "source": [
        "import imaplib\n",
        "mail = imaplib.IMAP4_SSL('imap.example.com')"
      ],
      "metadata": {
        "id": "KUSLnToiIyD8"
      },
      "execution_count": null,
      "outputs": []
    },
    {
      "cell_type": "markdown",
      "source": [
        "38. smtplib - SMTP Protocol Client\n",
        "To send mail using the Simple Mail Transfer Protocol (SMTP):"
      ],
      "metadata": {
        "id": "1iZrIgxJXd53"
      }
    },
    {
      "cell_type": "code",
      "source": [
        "import smtplib\n",
        "server = smtplib.SMTP('smtp.example.com', 587)"
      ],
      "metadata": {
        "id": "BkppvLHZJAq5"
      },
      "execution_count": null,
      "outputs": []
    },
    {
      "cell_type": "markdown",
      "source": [
        "39. email - Managing Email Messages\n",
        "To manage email messages, including MIME and other RFC 2822-based message documents:"
      ],
      "metadata": {
        "id": "wTYfBG9-XfaY"
      }
    },
    {
      "cell_type": "code",
      "source": [
        "from email.message import EmailMessage\n",
        "msg = EmailMessage()"
      ],
      "metadata": {
        "id": "k-bUzW6rJAoR"
      },
      "execution_count": null,
      "outputs": []
    },
    {
      "cell_type": "markdown",
      "source": [
        "40. base64 - Base16, Base32, Base64, Base85 Data Encodings\n",
        "To encode and decode data using Base64:"
      ],
      "metadata": {
        "id": "B6SqdjuZXg7l"
      }
    },
    {
      "cell_type": "code",
      "source": [
        "import base64\n",
        "encoded_data = base64.b64encode(b'data to encode')"
      ],
      "metadata": {
        "id": "cZQjltM2JAlr"
      },
      "execution_count": null,
      "outputs": []
    },
    {
      "cell_type": "markdown",
      "source": [
        "41. difflib - Helpers for Computing Deltas\n",
        "To compare sequences and produce human-readable diffs:"
      ],
      "metadata": {
        "id": "agVX1AHFXjON"
      }
    },
    {
      "cell_type": "code",
      "source": [
        "import difflib\n",
        "diff = difflib.ndiff('one\\ntwo\\nthree\\n'.splitlines(keepends=True),\n",
        "                     'ore\\ntree\\nemu\\n'.splitlines(keepends=True))\n",
        "print(''.join(diff))"
      ],
      "metadata": {
        "id": "3Bz8i_LGJAif",
        "colab": {
          "base_uri": "https://localhost:8080/"
        },
        "outputId": "ae5202e5-4c0a-4e9c-f463-2da72535a7e4"
      },
      "execution_count": null,
      "outputs": [
        {
          "output_type": "stream",
          "name": "stdout",
          "text": [
            "- one\n",
            "?  ^\n",
            "+ ore\n",
            "?  ^\n",
            "- two\n",
            "- three\n",
            "?  -\n",
            "+ tree\n",
            "+ emu\n",
            "\n"
          ]
        }
      ]
    },
    {
      "cell_type": "markdown",
      "source": [
        "42. gettext - Multilingual Internationalization Services\n",
        "To internationalize your Python programs:"
      ],
      "metadata": {
        "id": "i-4mbNaAXlQz"
      }
    },
    {
      "cell_type": "code",
      "source": [
        "import gettext\n",
        "gettext.install('myapp')"
      ],
      "metadata": {
        "id": "utKZ1QxoJAgM"
      },
      "execution_count": null,
      "outputs": []
    },
    {
      "cell_type": "markdown",
      "source": [
        "43. locale - Internationalization Services\n",
        "To access a database of culture-specific data formats:"
      ],
      "metadata": {
        "id": "tBcC8EY9Xm3f"
      }
    },
    {
      "cell_type": "code",
      "source": [
        "import locale\n",
        "locale.setlocale(locale.LC_ALL, '')"
      ],
      "metadata": {
        "id": "mt2uLwWtJAdY"
      },
      "execution_count": null,
      "outputs": []
    },
    {
      "cell_type": "markdown",
      "source": [
        "44. secrets - Generate Secure Random Numbers for Managing Secrets"
      ],
      "metadata": {
        "id": "KZh76kHXXn_A"
      }
    },
    {
      "cell_type": "code",
      "source": [
        "import secrets\n",
        "secure_token = secrets.token_hex(16)"
      ],
      "metadata": {
        "id": "RuWX6Un-JAav"
      },
      "execution_count": null,
      "outputs": []
    },
    {
      "cell_type": "markdown",
      "source": [
        "45. uuid - UUID Objects According to RFC 4122\n",
        "To generate universally unique identifiers (UUIDs):"
      ],
      "metadata": {
        "id": "EMtSifpEXs9h"
      }
    },
    {
      "cell_type": "code",
      "source": [
        "import uuid\n",
        "unique_id = uuid.uuid4()"
      ],
      "metadata": {
        "id": "E08GaX4vJAXl"
      },
      "execution_count": null,
      "outputs": []
    },
    {
      "cell_type": "markdown",
      "source": [
        "46. html - HyperText Markup Language Support\n",
        "To handle and manipulate HTML entities:"
      ],
      "metadata": {
        "id": "7_XpDsvDXvJn"
      }
    },
    {
      "cell_type": "code",
      "source": [
        "import html\n",
        "escaped = html.escape('<a href=\"https://example.com\">link</a>')"
      ],
      "metadata": {
        "id": "IHlARHSPJAUo"
      },
      "execution_count": null,
      "outputs": []
    },
    {
      "cell_type": "markdown",
      "source": [
        "47. ftplib - FTP Protocol Client\n",
        "To interact with and transfer files over the FTP protocol:"
      ],
      "metadata": {
        "id": "17qgtgpUXw4i"
      }
    },
    {
      "cell_type": "code",
      "source": [
        "from ftplib import FTP\n",
        "ftp = FTP('ftp.example.com')"
      ],
      "metadata": {
        "id": "bF3TYCNsJARc"
      },
      "execution_count": null,
      "outputs": []
    },
    {
      "cell_type": "markdown",
      "source": [
        "48. tarfile - Read and Write Tar Archive Files\n",
        "To work with tar archive files, allowing you to archive and compress/decompress:"
      ],
      "metadata": {
        "id": "soPw7G7-XyZY"
      }
    },
    {
      "cell_type": "code",
      "source": [
        "import tarfile\n",
        "with tarfile.open('sample.tar.gz', 'w:gz') as tar:\n",
        "    tar.add('sample.txt')"
      ],
      "metadata": {
        "id": "yTHAJV4MJNTJ"
      },
      "execution_count": null,
      "outputs": []
    },
    {
      "cell_type": "code",
      "source": [],
      "metadata": {
        "id": "qNaK6fmNJNQQ"
      },
      "execution_count": null,
      "outputs": []
    },
    {
      "cell_type": "code",
      "source": [],
      "metadata": {
        "id": "zwLbA0kCJNOj"
      },
      "execution_count": null,
      "outputs": []
    },
    {
      "cell_type": "code",
      "source": [],
      "metadata": {
        "id": "Vt4EGjBBJNMC"
      },
      "execution_count": null,
      "outputs": []
    },
    {
      "cell_type": "code",
      "source": [],
      "metadata": {
        "id": "1jAcLd9YJNJJ"
      },
      "execution_count": null,
      "outputs": []
    },
    {
      "cell_type": "code",
      "source": [],
      "metadata": {
        "id": "UzHDCltbJNGU"
      },
      "execution_count": null,
      "outputs": []
    },
    {
      "cell_type": "code",
      "source": [],
      "metadata": {
        "id": "X_I1JEkMJNDK"
      },
      "execution_count": null,
      "outputs": []
    },
    {
      "cell_type": "code",
      "source": [],
      "metadata": {
        "id": "6f0K3plbJM-l"
      },
      "execution_count": null,
      "outputs": []
    }
  ]
}